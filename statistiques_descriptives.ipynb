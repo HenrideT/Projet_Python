{
 "cells": [
  {
   "cell_type": "markdown",
   "id": "b9b6fac3",
   "metadata": {},
   "source": [
    "# Statistiques descriptives"
   ]
  },
  {
   "cell_type": "markdown",
   "id": "247296ec",
   "metadata": {},
   "source": [
    "Import des packages utilisés"
   ]
  },
  {
   "cell_type": "code",
   "execution_count": 2,
   "id": "9960a50f",
   "metadata": {},
   "outputs": [
    {
     "name": "stdout",
     "output_type": "stream",
     "text": [
      "Collecting geopandas\n",
      "  Downloading geopandas-0.12.2-py3-none-any.whl (1.1 MB)\n",
      "     ---------------------------------------- 1.1/1.1 MB 6.7 MB/s eta 0:00:00\n",
      "Collecting shapely>=1.7\n",
      "  Downloading Shapely-1.8.5.post1-cp39-cp39-win_amd64.whl (1.3 MB)\n",
      "     ---------------------------------------- 1.3/1.3 MB 9.2 MB/s eta 0:00:00\n",
      "Collecting fiona>=1.8\n",
      "  Downloading Fiona-1.8.22-cp39-cp39-win_amd64.whl (21.7 MB)\n",
      "     --------------------------------------- 21.7/21.7 MB 14.2 MB/s eta 0:00:00\n",
      "Requirement already satisfied: packaging in c:\\users\\kilia\\anaconda3\\lib\\site-packages (from geopandas) (21.3)\n",
      "Requirement already satisfied: pandas>=1.0.0 in c:\\users\\kilia\\anaconda3\\lib\\site-packages (from geopandas) (1.4.4)\n",
      "Collecting pyproj>=2.6.1.post1\n",
      "  Downloading pyproj-3.4.0-cp39-cp39-win_amd64.whl (4.8 MB)\n",
      "     ---------------------------------------- 4.8/4.8 MB 22.1 MB/s eta 0:00:00\n",
      "Requirement already satisfied: attrs>=17 in c:\\users\\kilia\\anaconda3\\lib\\site-packages (from fiona>=1.8->geopandas) (21.4.0)\n",
      "Requirement already satisfied: certifi in c:\\users\\kilia\\anaconda3\\lib\\site-packages (from fiona>=1.8->geopandas) (2022.9.14)\n",
      "Requirement already satisfied: setuptools in c:\\users\\kilia\\anaconda3\\lib\\site-packages (from fiona>=1.8->geopandas) (63.4.1)\n",
      "Requirement already satisfied: six>=1.7 in c:\\users\\kilia\\anaconda3\\lib\\site-packages (from fiona>=1.8->geopandas) (1.16.0)\n",
      "Collecting munch\n",
      "  Downloading munch-2.5.0-py2.py3-none-any.whl (10 kB)\n",
      "Collecting click-plugins>=1.0\n",
      "  Downloading click_plugins-1.1.1-py2.py3-none-any.whl (7.5 kB)\n",
      "Requirement already satisfied: click>=4.0 in c:\\users\\kilia\\anaconda3\\lib\\site-packages (from fiona>=1.8->geopandas) (8.0.4)\n",
      "Collecting cligj>=0.5\n",
      "  Downloading cligj-0.7.2-py3-none-any.whl (7.1 kB)\n",
      "Requirement already satisfied: pytz>=2020.1 in c:\\users\\kilia\\anaconda3\\lib\\site-packages (from pandas>=1.0.0->geopandas) (2022.1)\n",
      "Requirement already satisfied: numpy>=1.18.5 in c:\\users\\kilia\\anaconda3\\lib\\site-packages (from pandas>=1.0.0->geopandas) (1.21.5)\n",
      "Requirement already satisfied: python-dateutil>=2.8.1 in c:\\users\\kilia\\anaconda3\\lib\\site-packages (from pandas>=1.0.0->geopandas) (2.8.2)\n",
      "Requirement already satisfied: pyparsing!=3.0.5,>=2.0.2 in c:\\users\\kilia\\anaconda3\\lib\\site-packages (from packaging->geopandas) (3.0.9)\n",
      "Requirement already satisfied: colorama in c:\\users\\kilia\\anaconda3\\lib\\site-packages (from click>=4.0->fiona>=1.8->geopandas) (0.4.5)\n",
      "Installing collected packages: shapely, pyproj, munch, cligj, click-plugins, fiona, geopandas\n",
      "Successfully installed click-plugins-1.1.1 cligj-0.7.2 fiona-1.8.22 geopandas-0.12.2 munch-2.5.0 pyproj-3.4.0 shapely-1.8.5.post1\n"
     ]
    }
   ],
   "source": [
    "!pip install geopandas"
   ]
  },
  {
   "cell_type": "code",
   "execution_count": 3,
   "id": "8978e5fa",
   "metadata": {},
   "outputs": [],
   "source": [
    "import numpy as np\n",
    "import pandas as pd\n",
    "import matplotlib.pyplot as plt\n",
    "import geopandas as gpd"
   ]
  },
  {
   "cell_type": "code",
   "execution_count": 4,
   "id": "f98d5306",
   "metadata": {},
   "outputs": [
    {
     "name": "stderr",
     "output_type": "stream",
     "text": [
      "C:\\Users\\kilia\\AppData\\Local\\Temp\\ipykernel_12668\\2549869063.py:1: DtypeWarning: Columns (0) have mixed types. Specify dtype option on import or set low_memory=False.\n",
      "  insee = pd.read_csv(filepath_or_buffer='INSEE/dossier_complet.csv', encoding='l5', sep=';')\n"
     ]
    }
   ],
   "source": [
    "insee = pd.read_csv(filepath_or_buffer='INSEE/dossier_complet.csv', encoding='l5', sep=';')"
   ]
  },
  {
   "cell_type": "code",
   "execution_count": 5,
   "id": "907b9457",
   "metadata": {
    "scrolled": true
   },
   "outputs": [
    {
     "data": {
      "text/plain": [
       "<bound method NDFrame.head of       CODGEO  P19_POP  P19_POP0014  P19_POP1529  P19_POP3044  P19_POP4559  \\\n",
       "0       1001    779.0   158.508629   102.468339   131.523972   194.112147   \n",
       "1       1002    256.0    58.646351    29.609476    74.028483    38.684019   \n",
       "2       1004  14134.0  2642.167045  3076.783602  2730.398468  2391.347109   \n",
       "3       1005   1751.0   346.859147   268.250842   362.580808   380.267677   \n",
       "4       1006    112.0    12.218182    16.290909    15.272727    29.527273   \n",
       "...      ...      ...          ...          ...          ...          ...   \n",
       "34995  97613      NaN          NaN          NaN          NaN          NaN   \n",
       "34996  97614      NaN          NaN          NaN          NaN          NaN   \n",
       "34997  97615      NaN          NaN          NaN          NaN          NaN   \n",
       "34998  97616      NaN          NaN          NaN          NaN          NaN   \n",
       "34999  97617      NaN          NaN          NaN          NaN          NaN   \n",
       "\n",
       "       P19_POP6074  P19_POP7589  P19_POP90P     P19_POPH  ...  CPGEO522  VV22  \\\n",
       "0       131.050309    56.014471    5.322133   397.885214  ...       0.0   0.0   \n",
       "1        35.381928    17.582020    2.067723   129.517516  ...       0.0   0.0   \n",
       "2      2054.139468  1044.007592  195.156716  6790.643609  ...       0.0   0.0   \n",
       "3       272.181257   111.034231    9.826038   877.465208  ...       0.0   0.0   \n",
       "4        27.490909    10.181818    1.018182    63.127273  ...       0.0   0.0   \n",
       "...            ...          ...         ...          ...  ...       ...   ...   \n",
       "34995          NaN          NaN         NaN          NaN  ...       NaN   NaN   \n",
       "34996          NaN          NaN         NaN          NaN  ...       NaN   NaN   \n",
       "34997          NaN          NaN         NaN          NaN  ...       NaN   NaN   \n",
       "34998          NaN          NaN         NaN          NaN  ...       NaN   NaN   \n",
       "34999          NaN          NaN         NaN          NaN  ...       NaN   NaN   \n",
       "\n",
       "       VVUH22  VVLIT22  RT22  RTUH22  RTLIT22  AJCS22  AJCSUH22  AJCSLIT22  \n",
       "0         0.0      0.0   0.0     0.0      0.0     0.0       0.0        0.0  \n",
       "1         0.0      0.0   0.0     0.0      0.0     0.0       0.0        0.0  \n",
       "2         0.0      0.0   1.0    16.0     16.0     0.0       0.0        0.0  \n",
       "3         0.0      0.0   0.0     0.0      0.0     0.0       0.0        0.0  \n",
       "4         0.0      0.0   0.0     0.0      0.0     0.0       0.0        0.0  \n",
       "...       ...      ...   ...     ...      ...     ...       ...        ...  \n",
       "34995     NaN      NaN   NaN     NaN      NaN     NaN       NaN        NaN  \n",
       "34996     NaN      NaN   NaN     NaN      NaN     NaN       NaN        NaN  \n",
       "34997     NaN      NaN   NaN     NaN      NaN     NaN       NaN        NaN  \n",
       "34998     NaN      NaN   NaN     NaN      NaN     NaN       NaN        NaN  \n",
       "34999     NaN      NaN   NaN     NaN      NaN     NaN       NaN        NaN  \n",
       "\n",
       "[35000 rows x 1910 columns]>"
      ]
     },
     "execution_count": 5,
     "metadata": {},
     "output_type": "execute_result"
    }
   ],
   "source": [
    "insee.head"
   ]
  },
  {
   "cell_type": "markdown",
   "id": "922bd587",
   "metadata": {},
   "source": [
    "#### Création d'une colonne avec le numéro de département"
   ]
  },
  {
   "cell_type": "code",
   "execution_count": 29,
   "id": "f74f24d9",
   "metadata": {},
   "outputs": [
    {
     "data": {
      "text/plain": [
       "CODGEO          object\n",
       "P19_POP        float64\n",
       "P19_POP0014    float64\n",
       "P19_POP1529    float64\n",
       "P19_POP3044    float64\n",
       "                ...   \n",
       "RTLIT22        float64\n",
       "AJCS22         float64\n",
       "AJCSUH22       float64\n",
       "AJCSLIT22      float64\n",
       "depart          object\n",
       "Length: 1911, dtype: object"
      ]
     },
     "execution_count": 29,
     "metadata": {},
     "output_type": "execute_result"
    }
   ],
   "source": [
    "insee.dtypes"
   ]
  },
  {
   "cell_type": "markdown",
   "id": "a4d921a5",
   "metadata": {},
   "source": [
    "On a besoin de convertir le dtype de la colonne CODGEO avant de procéder au slicing."
   ]
  },
  {
   "cell_type": "code",
   "execution_count": 30,
   "id": "4fa492cf",
   "metadata": {},
   "outputs": [
    {
     "name": "stdout",
     "output_type": "stream",
     "text": [
      "0        10\n",
      "1        10\n",
      "2        10\n",
      "3        10\n",
      "4        10\n",
      "         ..\n",
      "34995    97\n",
      "34996    97\n",
      "34997    97\n",
      "34998    97\n",
      "34999    97\n",
      "Name: depart, Length: 35000, dtype: object\n"
     ]
    }
   ],
   "source": [
    "ds = insee[\"CODGEO\"].astype(str)\n",
    "insee[\"depart\"] = ds.str.slice(stop=2)\n",
    "print(insee[\"depart\"])"
   ]
  },
  {
   "cell_type": "markdown",
   "id": "7a05f7ea",
   "metadata": {},
   "source": [
    "## Premier aperçu des données"
   ]
  },
  {
   "cell_type": "code",
   "execution_count": null,
   "id": "c815d7a7",
   "metadata": {},
   "outputs": [],
   "source": []
  }
 ],
 "metadata": {
  "kernelspec": {
   "display_name": "Python 3 (ipykernel)",
   "language": "python",
   "name": "python3"
  },
  "language_info": {
   "codemirror_mode": {
    "name": "ipython",
    "version": 3
   },
   "file_extension": ".py",
   "mimetype": "text/x-python",
   "name": "python",
   "nbconvert_exporter": "python",
   "pygments_lexer": "ipython3",
   "version": "3.9.13"
  }
 },
 "nbformat": 4,
 "nbformat_minor": 5
}
