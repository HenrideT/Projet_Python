{
 "cells": [
  {
   "cell_type": "markdown",
   "id": "972fbc07",
   "metadata": {},
   "source": [
    "# Modélisations"
   ]
  },
  {
   "cell_type": "markdown",
   "id": "e3ef9ea6",
   "metadata": {},
   "source": [
    "### Choix sur la base de données"
   ]
  },
  {
   "cell_type": "markdown",
   "id": "d38feeea",
   "metadata": {},
   "source": [
    "Comme evoqué au début, nous offrons la ici la possibilité de ne garder que les villes de plus de 1000 habitants (aux deux periodes) pour une question de cohérence. En effet, les villes de moins de 1000 habitants peuvent suivre un mode de scrutin différent. Par ailleurs, dans une petite ville, le maire a plus de chance d'être réélu sur des variables non incluses de par sa proximité plus forte avec ses concitoyens."
   ]
  },
  {
   "cell_type": "code",
   "execution_count": 1,
   "id": "efd4edb6",
   "metadata": {},
   "outputs": [],
   "source": [
    "# Variable booléenne\n",
    "#Si True, on ne garde que les villes de plus de 1000 habitants\n",
    "grosse_Ville = True"
   ]
  },
  {
   "cell_type": "markdown",
   "id": "2fa90a36",
   "metadata": {},
   "source": [
    "Dès que cela est possible, nous allons créer une variable valant l'évolution d'évolution entre 2014 et 2019.\n",
    "Cela va être possible si la variable existe aux deux périodes.\n",
    "\n",
    "Exemple : Pop_diff = population_2019 - population_2013 (Ces noms de variables sont de circonstances et non les mêmes que dans notre base)."
   ]
  },
  {
   "cell_type": "code",
   "execution_count": 2,
   "id": "aee1d404",
   "metadata": {},
   "outputs": [],
   "source": [
    "# Prenons-nous en compte l'évolution de 2013 à 2019 ?\n",
    "# Mettre la variable à True si cela est souhaité\n",
    "dynamique_temporelle = True"
   ]
  },
  {
   "cell_type": "markdown",
   "id": "6d558613",
   "metadata": {},
   "source": [
    "Afin de savoir où en est l'exécution du notebook, il est possible d'activer ce paramètre."
   ]
  },
  {
   "cell_type": "code",
   "execution_count": 40,
   "id": "d63b6f65",
   "metadata": {},
   "outputs": [],
   "source": [
    "Suivi = True"
   ]
  },
  {
   "cell_type": "markdown",
   "id": "3f5c9d4f",
   "metadata": {},
   "source": [
    "## 0 - Création de la base d'entraînement et de celle de test"
   ]
  },
  {
   "cell_type": "code",
   "execution_count": 4,
   "id": "cd1dc054",
   "metadata": {},
   "outputs": [],
   "source": [
    "import warnings\n",
    "warnings.filterwarnings('ignore')\n",
    "warnings.warn('DelftStack')\n",
    "warnings.warn('Do not show this message')"
   ]
  },
  {
   "cell_type": "code",
   "execution_count": 5,
   "id": "c85ad8f4",
   "metadata": {},
   "outputs": [
    {
     "data": {
      "text/html": [
       "<div id=\"my_id_menu_nb\">run previous cell, wait for 2 seconds</div>\n",
       "<script>\n",
       "function repeat_indent_string(n){\n",
       "    var a = \"\" ;\n",
       "    for ( ; n > 0 ; --n)\n",
       "        a += \"    \";\n",
       "    return a;\n",
       "}\n",
       "// look up into all sections and builds an automated menu //\n",
       "var update_menu_string = function(begin, lfirst, llast, sformat, send, keep_item, begin_format, end_format) {\n",
       "    var anchors = document.getElementsByClassName(\"section\");\n",
       "    if (anchors.length == 0) {\n",
       "        anchors = document.getElementsByClassName(\"text_cell_render rendered_html\");\n",
       "    }\n",
       "    var i,t;\n",
       "    var text_menu = begin;\n",
       "    var text_memo = \"<pre>\\nlength:\" + anchors.length + \"\\n\";\n",
       "    var ind = \"\";\n",
       "    var memo_level = 1;\n",
       "    var href;\n",
       "    var tags = [];\n",
       "    var main_item = 0;\n",
       "    var format_open = 0;\n",
       "    for (i = 0; i <= llast; i++)\n",
       "        tags.push(\"h\" + i);\n",
       "\n",
       "    for (i = 0; i < anchors.length; i++) {\n",
       "        text_memo += \"**\" + anchors[i].id + \"--\\n\";\n",
       "\n",
       "        var child = null;\n",
       "        for(t = 0; t < tags.length; t++) {\n",
       "            var r = anchors[i].getElementsByTagName(tags[t]);\n",
       "            if (r.length > 0) {\n",
       "child = r[0];\n",
       "break;\n",
       "            }\n",
       "        }\n",
       "        if (child == null) {\n",
       "            text_memo += \"null\\n\";\n",
       "            continue;\n",
       "        }\n",
       "        if (anchors[i].hasAttribute(\"id\")) {\n",
       "            // when converted in RST\n",
       "            href = anchors[i].id;\n",
       "            text_memo += \"#1-\" + href;\n",
       "            // passer à child suivant (le chercher)\n",
       "        }\n",
       "        else if (child.hasAttribute(\"id\")) {\n",
       "            // in a notebook\n",
       "            href = child.id;\n",
       "            text_memo += \"#2-\" + href;\n",
       "        }\n",
       "        else {\n",
       "            text_memo += \"#3-\" + \"*\" + \"\\n\";\n",
       "            continue;\n",
       "        }\n",
       "        var title = child.textContent;\n",
       "        var level = parseInt(child.tagName.substring(1,2));\n",
       "\n",
       "        text_memo += \"--\" + level + \"?\" + lfirst + \"--\" + title + \"\\n\";\n",
       "\n",
       "        if ((level < lfirst) || (level > llast)) {\n",
       "            continue ;\n",
       "        }\n",
       "        if (title.endsWith('¶')) {\n",
       "            title = title.substring(0,title.length-1).replace(\"<\", \"&lt;\")\n",
       "         .replace(\">\", \"&gt;\").replace(\"&\", \"&amp;\");\n",
       "        }\n",
       "        if (title.length == 0) {\n",
       "            continue;\n",
       "        }\n",
       "\n",
       "        while (level < memo_level) {\n",
       "            text_menu += end_format + \"</ul>\\n\";\n",
       "            format_open -= 1;\n",
       "            memo_level -= 1;\n",
       "        }\n",
       "        if (level == lfirst) {\n",
       "            main_item += 1;\n",
       "        }\n",
       "        if (keep_item != -1 && main_item != keep_item + 1) {\n",
       "            // alert(main_item + \" - \" + level + \" - \" + keep_item);\n",
       "            continue;\n",
       "        }\n",
       "        while (level > memo_level) {\n",
       "            text_menu += \"<ul>\\n\";\n",
       "            memo_level += 1;\n",
       "        }\n",
       "        text_menu += repeat_indent_string(level-2);\n",
       "        text_menu += begin_format + sformat.replace(\"__HREF__\", href).replace(\"__TITLE__\", title);\n",
       "        format_open += 1;\n",
       "    }\n",
       "    while (1 < memo_level) {\n",
       "        text_menu += end_format + \"</ul>\\n\";\n",
       "        memo_level -= 1;\n",
       "        format_open -= 1;\n",
       "    }\n",
       "    text_menu += send;\n",
       "    //text_menu += \"\\n\" + text_memo;\n",
       "\n",
       "    while (format_open > 0) {\n",
       "        text_menu += end_format;\n",
       "        format_open -= 1;\n",
       "    }\n",
       "    return text_menu;\n",
       "};\n",
       "var update_menu = function() {\n",
       "    var sbegin = \"\";\n",
       "    var sformat = '<a href=\"#__HREF__\">__TITLE__</a>';\n",
       "    var send = \"\";\n",
       "    var begin_format = '<li>';\n",
       "    var end_format = '</li>';\n",
       "    var keep_item = -1;\n",
       "    var text_menu = update_menu_string(sbegin, 2, 4, sformat, send, keep_item,\n",
       "       begin_format, end_format);\n",
       "    var menu = document.getElementById(\"my_id_menu_nb\");\n",
       "    menu.innerHTML=text_menu;\n",
       "};\n",
       "window.setTimeout(update_menu,2000);\n",
       "            </script>"
      ],
      "text/plain": [
       "<IPython.core.display.HTML object>"
      ]
     },
     "execution_count": 5,
     "metadata": {},
     "output_type": "execute_result"
    }
   ],
   "source": [
    "import requests\n",
    "import zipfile\n",
    "import io\n",
    "import pandas as pd\n",
    "from shutil import rmtree\n",
    "from jyquickhelper import add_notebook_menu\n",
    "from unidecode import unidecode\n",
    "import numpy as np\n",
    "\n",
    "import sklearn.metrics\n",
    "\n",
    "from sklearn import svm\n",
    "from sklearn.svm import SVC\n",
    "\n",
    "from sklearn.model_selection import train_test_split\n",
    "from sklearn.metrics import accuracy_score\n",
    "from sklearn.metrics import f1_score\n",
    "from sklearn.metrics import recall_score\n",
    "from sklearn.metrics import precision_score\n",
    "from sklearn import linear_model\n",
    "from sklearn.linear_model import LogisticRegression\n",
    "from sklearn.neighbors import KNeighborsClassifier\n",
    "add_notebook_menu()\n"
   ]
  },
  {
   "cell_type": "code",
   "execution_count": 6,
   "id": "02d06ced",
   "metadata": {},
   "outputs": [
    {
     "name": "stdout",
     "output_type": "stream",
     "text": [
      "Tâche effectuée\n"
     ]
    }
   ],
   "source": [
    "insee = pd.read_csv('Données élections et INSEE.csv')\n",
    "insee = insee.drop(\"Unnamed: 0\", axis = 1)\n",
    "\n",
    "# Suivi de l'exécution si voulu\n",
    "if Suivi == True :\n",
    "    print(\"Tâche effectuée\")"
   ]
  },
  {
   "cell_type": "code",
   "execution_count": 7,
   "id": "fea86345",
   "metadata": {},
   "outputs": [
    {
     "name": "stdout",
     "output_type": "stream",
     "text": [
      "Tâche effectuée\n"
     ]
    }
   ],
   "source": [
    "# On crée la dataframe avec les observations où le maire s'est représenté\n",
    "insee2 = insee[insee[\"Tentative de réélection\"]==True]\n",
    "\n",
    "# Suivi de l'exécution si voulu\n",
    "if Suivi == True :\n",
    "    print(\"Tâche effectuée\")"
   ]
  },
  {
   "cell_type": "markdown",
   "id": "6d6872c4",
   "metadata": {},
   "source": [
    "Gestion de la taille des villes considérées :"
   ]
  },
  {
   "cell_type": "code",
   "execution_count": 8,
   "id": "ed2b7d16",
   "metadata": {},
   "outputs": [
    {
     "name": "stdout",
     "output_type": "stream",
     "text": [
      "Tâche effectuée\n"
     ]
    }
   ],
   "source": [
    "if grosse_Ville == True :\n",
    "    \n",
    "    insee2 = insee2[insee2[\"P19_POP\"] >= 1000]    \n",
    "    insee2 = insee2[insee2[\"P13_POP\"] >= 1000]\n",
    "\n",
    "# Suivi de l'exécution si voulu\n",
    "if Suivi == True :\n",
    "    print(\"Tâche effectuée\")"
   ]
  },
  {
   "cell_type": "markdown",
   "id": "c96b9bbf",
   "metadata": {},
   "source": [
    "Nous avons besoin du vecteur contenant la variable à prévoir."
   ]
  },
  {
   "cell_type": "code",
   "execution_count": 9,
   "id": "e4c057c0",
   "metadata": {},
   "outputs": [
    {
     "name": "stdout",
     "output_type": "stream",
     "text": [
      "Tâche effectuée\n"
     ]
    }
   ],
   "source": [
    "# On crée le vecteur contenant résultat\n",
    "Reelection = insee2[\"Nom de l'élu en 2020\"] == insee2[\"Nom de l'élu en 2014\"]\n",
    "\n",
    "# Suivi de l'exécution si voulu\n",
    "if Suivi == True :\n",
    "    print(\"Tâche effectuée\")"
   ]
  },
  {
   "cell_type": "code",
   "execution_count": 10,
   "id": "b16e50b3",
   "metadata": {},
   "outputs": [
    {
     "name": "stdout",
     "output_type": "stream",
     "text": [
      "Tâche effectuée\n"
     ]
    }
   ],
   "source": [
    "# On va réduire insee2 en ne gardant que les données de 2014 et 2020 qui sont des valeurs chiffrées\n",
    "# Valeurs chiffrées\n",
    "temp = insee2.select_dtypes(include = [\"int64\", \"float64\"])\n",
    "insee2 = pd.concat([insee2[\"CODGEO\"], temp], axis = 1)\n",
    "# Années gardées\n",
    "for i in insee2.columns :\n",
    "    if i[0:3]!=\"P19\" and i[0:3]!=\"P13\" and i!=\"CODGEO\":\n",
    "        insee2 = insee2.drop(i, axis = 1)\n",
    "        \n",
    "# Suivi de l'exécution si voulu\n",
    "if Suivi == True :\n",
    "    print(\"Tâche effectuée\")"
   ]
  },
  {
   "cell_type": "markdown",
   "id": "f69a557f",
   "metadata": {},
   "source": [
    "Si l'on veut être surs que nos modèles soient comparables, il faut centrer et réduire nos données."
   ]
  },
  {
   "cell_type": "code",
   "execution_count": 11,
   "id": "0253070d",
   "metadata": {},
   "outputs": [
    {
     "name": "stdout",
     "output_type": "stream",
     "text": [
      "Tâche effectuée\n"
     ]
    }
   ],
   "source": [
    "temp2 = insee[\"CODGEO\"]\n",
    "\n",
    "var = insee2.std()\n",
    "moy = insee2.mean()\n",
    "\n",
    "insee2 = (insee2-moy)/var\n",
    "insee2[\"CODGEO\"]=temp2\n",
    "\n",
    "# Suivi de l'exécution si voulu\n",
    "if Suivi == True :\n",
    "    print(\"Tâche effectuée\")"
   ]
  },
  {
   "cell_type": "code",
   "execution_count": 12,
   "id": "60174380",
   "metadata": {},
   "outputs": [
    {
     "name": "stdout",
     "output_type": "stream",
     "text": [
      "Tâche effectuée\n"
     ]
    }
   ],
   "source": [
    "# Certaines de nos colonnes contiennent (énormément) de NaNs.\n",
    "# Seulement quelques colonnes, redondantes entre 2013 et 2020, sont concernées.\n",
    "# Par simplicité, nous les enlevons donc.\n",
    "liste = []\n",
    "for i in insee2.columns:\n",
    "        if insee2[i].isnull().values.any()==True :\n",
    "            liste.append(i)\n",
    "            \n",
    "insee2 = insee2.drop(liste, axis = 1)\n",
    "\n",
    "# Suivi de l'exécution si voulu\n",
    "if Suivi == True :\n",
    "    print(\"Tâche effectuée\")"
   ]
  },
  {
   "cell_type": "markdown",
   "id": "5c354d9d",
   "metadata": {},
   "source": [
    "Gestion de la prise en compte ou non de la dynamique entre 2013 et 2019 :"
   ]
  },
  {
   "cell_type": "code",
   "execution_count": 13,
   "id": "bc157648",
   "metadata": {},
   "outputs": [
    {
     "name": "stdout",
     "output_type": "stream",
     "text": [
      "Tâche effectuée\n"
     ]
    }
   ],
   "source": [
    "if dynamique_temporelle == True :\n",
    "    \n",
    "    liste = []\n",
    "    # On fait la liste des variables qui existent aux deux périodes\n",
    "    for i in insee2.columns :\n",
    "        \n",
    "        if i[0:3] == \"P19\" :\n",
    "            temp = \"P13\" + i[3:]\n",
    "            \n",
    "            for j in insee2.columns :\n",
    "                if j == temp :\n",
    "                    liste.append(i[3:])\n",
    "                    break\n",
    "\n",
    "# On ajoute les variables dynamiques possibles à insee2\n",
    "for k in liste :\n",
    "    n1 = \"P19\" + k\n",
    "    n2 = \"P13\" + k\n",
    "    n3 = k + \"_Diff_13_19\"\n",
    "    insee2[n3] = insee2[n1] - insee2[n2]\n",
    "    \n",
    "# Suivi de l'exécution si voulu\n",
    "if Suivi == True :\n",
    "    print(\"Tâche effectuée\")"
   ]
  },
  {
   "cell_type": "markdown",
   "id": "b61244f2",
   "metadata": {},
   "source": [
    "On crée maintenant les bases d'entraînement et de test pour nos différentes modélisations."
   ]
  },
  {
   "cell_type": "code",
   "execution_count": 30,
   "id": "5846b5c8",
   "metadata": {},
   "outputs": [
    {
     "name": "stdout",
     "output_type": "stream",
     "text": [
      "Tâche effectuée\n"
     ]
    }
   ],
   "source": [
    "X_train, X_test, y_train, y_test = train_test_split(insee2, Reelection, test_size=0.2, random_state=6)\n",
    "\n",
    "# Suivi de l'exécution si voulu\n",
    "if Suivi == True :\n",
    "    print(\"Tâche effectuée\")"
   ]
  },
  {
   "cell_type": "markdown",
   "id": "b251165e",
   "metadata": {},
   "source": [
    "Nous allons tester plusieurs méthodes. Afin de savoir laquelle est la \"meilleure\", nous allons les comparer grâce à quatre indicateurs : l'exactitude (accuracy), la précision, le rappel (recall) ainsi que la statistique F1.\n",
    "\n",
    "L'exactitude regarde à quel point les données simulées sont proches de la réalité et regarde donc la proportion des résultats dont l'issue est la bonne.\n",
    "\n",
    "La précision correspond au nombre de vrais positifs sur le nombre de prédictions positives.\n",
    "\n",
    "Le rappel correspond au nombre de vrais positifs sur le nombre réel de positifs.\n",
    "\n",
    "La statistique F1 correspond à $\\frac{2 \\times precision \\times rappel}{precision + rappel}$."
   ]
  },
  {
   "cell_type": "code",
   "execution_count": 31,
   "id": "a4616d2a",
   "metadata": {},
   "outputs": [],
   "source": [
    "# Création de la base contenant ces données :\n",
    "Stats_Modeles = pd.DataFrame(columns = [\"Modèle\", \"Accuracy\", \"Precision\", \"Recall\", \"Score F1\", \"Coefficients tous nuls ?\", \"Nombre de coefficients non nuls\"])\n",
    "\n",
    "# Prend un vecteur et renvoie le nombre d'éléments non nuls de ce vecteur\n",
    "# eps_ou_non est un booléen.\n",
    "#S'il vaut True, on ne considère pas une églité stricte, mais si la distance entre deux valurs est supérieure à eps ou non\n",
    "def nombre_Non_Nuls(vect, eps = 0, eps_ou_non = False):\n",
    "    \n",
    "    non_nul = 0\n",
    "    if eps_ou_non == False :\n",
    "        for i in range(len(vect)):\n",
    "            if vect[i] != 0 :\n",
    "                non_nul = non_nul + 1\n",
    "                \n",
    "    else :\n",
    "        for i in range (len(vect)):\n",
    "            if (abs(vect[i])) > 0 :\n",
    "                non_nul = non_nul + 1\n",
    "            \n",
    "    return non_nul\n",
    "\n",
    "# Ajoute une ligne à la dataframe avec les statistiques du modèle\n",
    "# M correspond au nom du modèle\n",
    "# y_t correspond à l'échantillon connu \n",
    "# y_p correspond à l'échantillon prédis\n",
    "# C dit si les coefficients sont nuls s'ils existent (ce qui correspond à un modèle constat)\n",
    "# nb_C donne le nombre de coefficients non nuls s'ils existent\n",
    "def plusUneLigne(M, y_t, y_p, C, nb_C):\n",
    "    \n",
    "    # On évalue les stats du modèle\n",
    "    ac = sklearn.metrics.accuracy_score(y_t, y_p)\n",
    "    prec = sklearn.metrics.precision_score(y_t, y_p)\n",
    "    recall = sklearn.metrics.recall_score(y_t, y_p)\n",
    "    f1 = sklearn.metrics.f1_score(y_t, y_p)\n",
    "    \n",
    "\n",
    "    return Stats_Modeles.append({\"Modèle\" : M,\n",
    "                                          \"Accuracy\" : ac,\n",
    "                                          \"Precision\" : prec,\n",
    "                                          \"Recall\" : recall,\n",
    "                                          \"Score F1\" : f1,\n",
    "                                          \"Coefficients tous nuls ?\" : C,\n",
    "                                          \"Nombre de coefficients non nuls\" : nb_C},\n",
    "                                          ignore_index=True)\n",
    "\n",
    "# Calcule le modèle et l'ajoute à la liste recensant l'efficacité des différents modèles\n",
    "# clf correspond au modèle utilisé\n",
    "# nom correspond au nom du modèle\n",
    "# X_te et y_te aux variables de test\n",
    "# X_tr, y_tr aux variables d'entraînement\n",
    "# coeffs est un booléen selon de si le modèle utilise des coefficients\n",
    "# binarisation est un booléen informant de s'il faut binariser le modèle\n",
    "def modelise_Puis_Resume(clf, nom, X_tr, y_tr, X_te, y_te, coeffs, binarisation):\n",
    "    \n",
    "    # Calcul du modèle\n",
    "    clf.fit(X_tr, y_tr)\n",
    "    y_pred = clf.predict(X_te)\n",
    "    \n",
    "    # Binarisation si nécessaire des modèles autres\n",
    "    if binarisation == True :\n",
    "        for j in range(len(y_pred)):\n",
    "            if y_pred[j]<0.5:\n",
    "                y_pred[j] = 0\n",
    "            else :\n",
    "                y_pred[j] = 1\n",
    "                \n",
    "    # Prise en compte des informations des coefficients si le modèle en utilise\n",
    "    nul = np.nan\n",
    "    non_nuls = np.nan\n",
    "    if coeffs == True :\n",
    "        if clf.coef_.ndim == 1:\n",
    "            nul = np.array_equal(clf.coef_, np.zeros(X_te.shape[1]))\n",
    "            non_nuls = nombre_Non_Nuls(clf.coef_)\n",
    "            \n",
    "        elif clf.coef_.ndim == 2 and clf.coef_.shape[0] == 1 :\n",
    "            nul = np.array_equal(clf.coef_[0], np.zeros(X_te.shape[1]))\n",
    "            non_nuls = nombre_Non_Nuls(clf.coef_[0])\n",
    "        else :\n",
    "            print(\"Modèle pas encore compatible\")\n",
    " \n",
    "    S_M = plusUneLigne(nom, y_te, y_pred, nul, non_nuls)\n",
    "    return S_M\n",
    "    "
   ]
  },
  {
   "cell_type": "markdown",
   "id": "1efbe30b",
   "metadata": {},
   "source": [
    "## 1 - Méthode du lasso"
   ]
  },
  {
   "cell_type": "markdown",
   "id": "9ae7a1ef",
   "metadata": {},
   "source": [
    "Nous avons ici une base de données avec beaucoup de variables. De ce fait, avec la méthode du lasso, qui ajoute une pénalisation correspondant à la norme 2 du vecteur des $\\beta_i$. La formule du lasso est la suivante :\n",
    "$ \\hat{\\beta} = argmin_{\\beta \\in \\mathbb{R}^k } = \\frac{1}{n} \\sum_{i=1}^{n}{(Y_i - X_i^{'}  \\beta)^2 + \\lambda ||\\beta||_1}$ où $\\lambda \\in \\mathbb{R}^{+}$ est un coefficient de pondération. Plus $\\lambda$ est grand, plus le nombre de coefficients $\\beta_i$ égal à zéro augmente.\n",
    "\n",
    "Ce modèle est continue donc on ne trouvera pas un $\\hat{y}_i \\in \\{ 0; 1\\}$ mais dans $[\\ 0; 1]\\ $ correspondant plutôt à une probabilité d'être réélu(e). On binarise alors notre vecteur en donnant la valeur de un aux probabilités supérieures à $\\frac{1}{2}$ et zéro à celles inférieures : $ \\hat{y_i}' = \\mathbb{1}_{ [\\ \\frac{1}{2}; 1]\\ }(y_i) $."
   ]
  },
  {
   "cell_type": "code",
   "execution_count": 38,
   "id": "2aa93c06",
   "metadata": {},
   "outputs": [],
   "source": [
    "lambdas = [ 0.1, 0.001, 0.0001, 0.00001, 0]\n",
    "\n",
    "for i in lambdas :\n",
    "    clf = linear_model.Lasso(alpha=i)\n",
    "    nom_temp = \"Lasso (α = \" + str(i)+ \")\"\n",
    "    \n",
    "    Stats_Modeles = modelise_Puis_Resume(clf, nom_temp, X_train.drop(\"CODGEO\", axis=1), y_train, X_test.drop(\"CODGEO\", axis=1), y_test, True, True)\n",
    "    \n",
    "    # Suivi de l'exécution si voulu\n",
    "    if Suivi == True :\n",
    "        print(\"Modèle \", nom_temp, \" effectué\")\n",
    "    "
   ]
  },
  {
   "cell_type": "markdown",
   "id": "caa71719",
   "metadata": {},
   "source": [
    "## 2 - Régression logistique"
   ]
  },
  {
   "cell_type": "markdown",
   "id": "0619e7a0",
   "metadata": {},
   "source": [
    "Le second modèle que nous allons utiliser correspond au modèle logistique."
   ]
  },
  {
   "cell_type": "code",
   "execution_count": 33,
   "id": "48fd8e71",
   "metadata": {},
   "outputs": [
    {
     "name": "stdout",
     "output_type": "stream",
     "text": [
      "Modèle  Logistique (solver = lbfgs)  effectué\n",
      "Modèle  Logistique (solver = liblinear)  effectué\n",
      "Modèle  Logistique (solver = sag)  effectué\n"
     ]
    }
   ],
   "source": [
    "solvers = [\"lbfgs\", \"liblinear\", \"sag\" ]\n",
    "\n",
    "for i in solvers:\n",
    "    clf = LogisticRegression(random_state=0, solver = i, max_iter = 1000)\n",
    "    nom_temp = \"Logistique (solver = \" + i + \")\"\n",
    "    \n",
    "    Stats_Modeles = modelise_Puis_Resume(clf, nom_temp, X_train.drop(\"CODGEO\", axis=1), y_train, X_test.drop(\"CODGEO\", axis=1), y_test, True, False)\n",
    "    \n",
    "    # Suivi de l'exécution si voulu\n",
    "    if Suivi == True :\n",
    "        print(\"Modèle \", nom_temp, \" effectué\")"
   ]
  },
  {
   "cell_type": "markdown",
   "id": "f031e144",
   "metadata": {},
   "source": [
    "## 3 - Méthode des k plus proches voisins"
   ]
  },
  {
   "cell_type": "markdown",
   "id": "d26a0443",
   "metadata": {},
   "source": [
    "La méthode des k plus proches voisins ($ k \\in \\mathbb{N}^* $) regarde l'issue la plus présente parmi les k observations qui sont les plus proches de notre observation donc l'issue est à prévoir. La notion de proche peut varier suivant la distance choisie."
   ]
  },
  {
   "cell_type": "code",
   "execution_count": 34,
   "id": "1992f062",
   "metadata": {},
   "outputs": [
    {
     "name": "stdout",
     "output_type": "stream",
     "text": [
      "Modèle  5 plus proches voisins  effectué\n",
      "Modèle  11 plus proches voisins  effectué\n",
      "Modèle  101 plus proches voisins  effectué\n",
      "Modèle  1001 plus proches voisins  effectué\n"
     ]
    }
   ],
   "source": [
    "combien_voisins = [5, 11, 101, 1001]   \n",
    "\n",
    "for i in combien_voisins :    \n",
    "    clf = KNeighborsClassifier(n_neighbors=i)\n",
    "    nom_temp = str(i) + \" plus proches voisins\"\n",
    "    \n",
    "    Stats_Modeles = modelise_Puis_Resume(clf, nom_temp, X_train.drop(\"CODGEO\", axis=1), y_train, X_test.drop(\"CODGEO\", axis=1), y_test, False, False)\n",
    "    \n",
    "    # Suivi de l'exécution si voulu\n",
    "    if Suivi == True :\n",
    "        print(\"Modèle \", nom_temp, \" effectué\")"
   ]
  },
  {
   "cell_type": "markdown",
   "id": "e3508236",
   "metadata": {},
   "source": [
    "## 4 - Modèle SVM"
   ]
  },
  {
   "cell_type": "markdown",
   "id": "9af96732",
   "metadata": {},
   "source": [
    "On essaie également ce modèle vu en cours qui essaie de séparer les données en divers hyperplans."
   ]
  },
  {
   "cell_type": "code",
   "execution_count": 35,
   "id": "931cfe0f",
   "metadata": {},
   "outputs": [
    {
     "name": "stdout",
     "output_type": "stream",
     "text": [
      "Modèle  SVM (kernel = linear)  effectué\n",
      "Modèle  SVM (kernel = rbf)  effectué\n",
      "Modèle  SVM (kernel = sigmoid)  effectué\n",
      "Modèle  SVM (kernel = poly)  effectué\n"
     ]
    }
   ],
   "source": [
    "kernels = [\"linear\", \"rbf\", \"sigmoid\", \"poly\"]\n",
    "\n",
    "for i in kernels :\n",
    "\n",
    "    clf = SVC(kernel = i, degree = 10)\n",
    "    nom_temp = \"SVM (kernel = \" + i + \")\"\n",
    "    \n",
    "    if i == \"linear\" :\n",
    "        coeffic = True\n",
    "    else :\n",
    "        coeffic = False\n",
    "    \n",
    "    \n",
    "    Stats_Modeles = modelise_Puis_Resume(clf, nom_temp, X_train.drop(\"CODGEO\", axis=1), y_train, X_test.drop(\"CODGEO\", axis=1), y_test, coeffic, False)\n",
    "    \n",
    "    # Suivi de l'exécution si voulu\n",
    "    if Suivi == True :\n",
    "        print(\"Modèle \", nom_temp, \" effectué\")"
   ]
  },
  {
   "cell_type": "code",
   "execution_count": 39,
   "id": "99ea33ce",
   "metadata": {},
   "outputs": [
    {
     "data": {
      "text/html": [
       "<div>\n",
       "<style scoped>\n",
       "    .dataframe tbody tr th:only-of-type {\n",
       "        vertical-align: middle;\n",
       "    }\n",
       "\n",
       "    .dataframe tbody tr th {\n",
       "        vertical-align: top;\n",
       "    }\n",
       "\n",
       "    .dataframe thead th {\n",
       "        text-align: right;\n",
       "    }\n",
       "</style>\n",
       "<table border=\"1\" class=\"dataframe\">\n",
       "  <thead>\n",
       "    <tr style=\"text-align: right;\">\n",
       "      <th></th>\n",
       "      <th>Modèle</th>\n",
       "      <th>Accuracy</th>\n",
       "      <th>Precision</th>\n",
       "      <th>Recall</th>\n",
       "      <th>Score F1</th>\n",
       "      <th>Coefficients tous nuls ?</th>\n",
       "      <th>Nombre de coefficients non nuls</th>\n",
       "    </tr>\n",
       "  </thead>\n",
       "  <tbody>\n",
       "    <tr>\n",
       "      <th>0</th>\n",
       "      <td>Lasso (α = 0.1)</td>\n",
       "      <td>0.849711</td>\n",
       "      <td>0.849711</td>\n",
       "      <td>1.000000</td>\n",
       "      <td>0.918750</td>\n",
       "      <td>True</td>\n",
       "      <td>0</td>\n",
       "    </tr>\n",
       "    <tr>\n",
       "      <th>1</th>\n",
       "      <td>Lasso (α = 0.001)</td>\n",
       "      <td>0.848059</td>\n",
       "      <td>0.849462</td>\n",
       "      <td>0.998056</td>\n",
       "      <td>0.917784</td>\n",
       "      <td>False</td>\n",
       "      <td>57</td>\n",
       "    </tr>\n",
       "    <tr>\n",
       "      <th>2</th>\n",
       "      <td>Lasso (α = 0.0001)</td>\n",
       "      <td>0.836499</td>\n",
       "      <td>0.850042</td>\n",
       "      <td>0.980564</td>\n",
       "      <td>0.910650</td>\n",
       "      <td>False</td>\n",
       "      <td>363</td>\n",
       "    </tr>\n",
       "    <tr>\n",
       "      <th>3</th>\n",
       "      <td>Lasso (α = 1e-05)</td>\n",
       "      <td>0.831544</td>\n",
       "      <td>0.851064</td>\n",
       "      <td>0.971817</td>\n",
       "      <td>0.907441</td>\n",
       "      <td>False</td>\n",
       "      <td>819</td>\n",
       "    </tr>\n",
       "    <tr>\n",
       "      <th>4</th>\n",
       "      <td>Lasso (α = 0)</td>\n",
       "      <td>0.832370</td>\n",
       "      <td>0.851789</td>\n",
       "      <td>0.971817</td>\n",
       "      <td>0.907853</td>\n",
       "      <td>False</td>\n",
       "      <td>988</td>\n",
       "    </tr>\n",
       "    <tr>\n",
       "      <th>5</th>\n",
       "      <td>Logistique (solver = lbfgs)</td>\n",
       "      <td>0.834847</td>\n",
       "      <td>0.850380</td>\n",
       "      <td>0.977648</td>\n",
       "      <td>0.909584</td>\n",
       "      <td>False</td>\n",
       "      <td>988</td>\n",
       "    </tr>\n",
       "    <tr>\n",
       "      <th>6</th>\n",
       "      <td>Logistique (solver = liblinear)</td>\n",
       "      <td>0.834847</td>\n",
       "      <td>0.850380</td>\n",
       "      <td>0.977648</td>\n",
       "      <td>0.909584</td>\n",
       "      <td>False</td>\n",
       "      <td>988</td>\n",
       "    </tr>\n",
       "    <tr>\n",
       "      <th>7</th>\n",
       "      <td>Logistique (solver = sag)</td>\n",
       "      <td>0.846408</td>\n",
       "      <td>0.849213</td>\n",
       "      <td>0.996113</td>\n",
       "      <td>0.916816</td>\n",
       "      <td>False</td>\n",
       "      <td>988</td>\n",
       "    </tr>\n",
       "    <tr>\n",
       "      <th>8</th>\n",
       "      <td>5 plus proches voisins</td>\n",
       "      <td>0.833196</td>\n",
       "      <td>0.848945</td>\n",
       "      <td>0.977648</td>\n",
       "      <td>0.908762</td>\n",
       "      <td>NaN</td>\n",
       "      <td>NaN</td>\n",
       "    </tr>\n",
       "    <tr>\n",
       "      <th>9</th>\n",
       "      <td>11 plus proches voisins</td>\n",
       "      <td>0.846408</td>\n",
       "      <td>0.849213</td>\n",
       "      <td>0.996113</td>\n",
       "      <td>0.916816</td>\n",
       "      <td>NaN</td>\n",
       "      <td>NaN</td>\n",
       "    </tr>\n",
       "    <tr>\n",
       "      <th>10</th>\n",
       "      <td>101 plus proches voisins</td>\n",
       "      <td>0.849711</td>\n",
       "      <td>0.849711</td>\n",
       "      <td>1.000000</td>\n",
       "      <td>0.918750</td>\n",
       "      <td>NaN</td>\n",
       "      <td>NaN</td>\n",
       "    </tr>\n",
       "    <tr>\n",
       "      <th>11</th>\n",
       "      <td>1001 plus proches voisins</td>\n",
       "      <td>0.849711</td>\n",
       "      <td>0.849711</td>\n",
       "      <td>1.000000</td>\n",
       "      <td>0.918750</td>\n",
       "      <td>NaN</td>\n",
       "      <td>NaN</td>\n",
       "    </tr>\n",
       "    <tr>\n",
       "      <th>12</th>\n",
       "      <td>SVM (kernel = linear)</td>\n",
       "      <td>0.846408</td>\n",
       "      <td>0.849793</td>\n",
       "      <td>0.995141</td>\n",
       "      <td>0.916741</td>\n",
       "      <td>False</td>\n",
       "      <td>988</td>\n",
       "    </tr>\n",
       "    <tr>\n",
       "      <th>13</th>\n",
       "      <td>SVM (kernel = rbf)</td>\n",
       "      <td>0.849711</td>\n",
       "      <td>0.849711</td>\n",
       "      <td>1.000000</td>\n",
       "      <td>0.918750</td>\n",
       "      <td>NaN</td>\n",
       "      <td>NaN</td>\n",
       "    </tr>\n",
       "    <tr>\n",
       "      <th>14</th>\n",
       "      <td>SVM (kernel = sigmoid)</td>\n",
       "      <td>0.801817</td>\n",
       "      <td>0.852547</td>\n",
       "      <td>0.927114</td>\n",
       "      <td>0.888268</td>\n",
       "      <td>NaN</td>\n",
       "      <td>NaN</td>\n",
       "    </tr>\n",
       "    <tr>\n",
       "      <th>15</th>\n",
       "      <td>SVM (kernel = poly)</td>\n",
       "      <td>0.836499</td>\n",
       "      <td>0.849453</td>\n",
       "      <td>0.981535</td>\n",
       "      <td>0.910730</td>\n",
       "      <td>NaN</td>\n",
       "      <td>NaN</td>\n",
       "    </tr>\n",
       "    <tr>\n",
       "      <th>16</th>\n",
       "      <td>Lasso (α = 0.1)</td>\n",
       "      <td>0.849711</td>\n",
       "      <td>0.849711</td>\n",
       "      <td>1.000000</td>\n",
       "      <td>0.918750</td>\n",
       "      <td>True</td>\n",
       "      <td>0</td>\n",
       "    </tr>\n",
       "    <tr>\n",
       "      <th>17</th>\n",
       "      <td>Lasso (α = 0.001)</td>\n",
       "      <td>0.848059</td>\n",
       "      <td>0.849462</td>\n",
       "      <td>0.998056</td>\n",
       "      <td>0.917784</td>\n",
       "      <td>False</td>\n",
       "      <td>57</td>\n",
       "    </tr>\n",
       "    <tr>\n",
       "      <th>18</th>\n",
       "      <td>Lasso (α = 0.0001)</td>\n",
       "      <td>0.836499</td>\n",
       "      <td>0.850042</td>\n",
       "      <td>0.980564</td>\n",
       "      <td>0.910650</td>\n",
       "      <td>False</td>\n",
       "      <td>363</td>\n",
       "    </tr>\n",
       "    <tr>\n",
       "      <th>19</th>\n",
       "      <td>Lasso (α = 1e-05)</td>\n",
       "      <td>0.831544</td>\n",
       "      <td>0.851064</td>\n",
       "      <td>0.971817</td>\n",
       "      <td>0.907441</td>\n",
       "      <td>False</td>\n",
       "      <td>819</td>\n",
       "    </tr>\n",
       "    <tr>\n",
       "      <th>20</th>\n",
       "      <td>Lasso (α = 0)</td>\n",
       "      <td>0.832370</td>\n",
       "      <td>0.851789</td>\n",
       "      <td>0.971817</td>\n",
       "      <td>0.907853</td>\n",
       "      <td>False</td>\n",
       "      <td>988</td>\n",
       "    </tr>\n",
       "  </tbody>\n",
       "</table>\n",
       "</div>"
      ],
      "text/plain": [
       "                             Modèle  Accuracy  Precision    Recall  Score F1  \\\n",
       "0                   Lasso (α = 0.1)  0.849711   0.849711  1.000000  0.918750   \n",
       "1                 Lasso (α = 0.001)  0.848059   0.849462  0.998056  0.917784   \n",
       "2                Lasso (α = 0.0001)  0.836499   0.850042  0.980564  0.910650   \n",
       "3                 Lasso (α = 1e-05)  0.831544   0.851064  0.971817  0.907441   \n",
       "4                     Lasso (α = 0)  0.832370   0.851789  0.971817  0.907853   \n",
       "5       Logistique (solver = lbfgs)  0.834847   0.850380  0.977648  0.909584   \n",
       "6   Logistique (solver = liblinear)  0.834847   0.850380  0.977648  0.909584   \n",
       "7         Logistique (solver = sag)  0.846408   0.849213  0.996113  0.916816   \n",
       "8            5 plus proches voisins  0.833196   0.848945  0.977648  0.908762   \n",
       "9           11 plus proches voisins  0.846408   0.849213  0.996113  0.916816   \n",
       "10         101 plus proches voisins  0.849711   0.849711  1.000000  0.918750   \n",
       "11        1001 plus proches voisins  0.849711   0.849711  1.000000  0.918750   \n",
       "12            SVM (kernel = linear)  0.846408   0.849793  0.995141  0.916741   \n",
       "13               SVM (kernel = rbf)  0.849711   0.849711  1.000000  0.918750   \n",
       "14           SVM (kernel = sigmoid)  0.801817   0.852547  0.927114  0.888268   \n",
       "15              SVM (kernel = poly)  0.836499   0.849453  0.981535  0.910730   \n",
       "16                  Lasso (α = 0.1)  0.849711   0.849711  1.000000  0.918750   \n",
       "17                Lasso (α = 0.001)  0.848059   0.849462  0.998056  0.917784   \n",
       "18               Lasso (α = 0.0001)  0.836499   0.850042  0.980564  0.910650   \n",
       "19                Lasso (α = 1e-05)  0.831544   0.851064  0.971817  0.907441   \n",
       "20                    Lasso (α = 0)  0.832370   0.851789  0.971817  0.907853   \n",
       "\n",
       "   Coefficients tous nuls ? Nombre de coefficients non nuls  \n",
       "0                      True                               0  \n",
       "1                     False                              57  \n",
       "2                     False                             363  \n",
       "3                     False                             819  \n",
       "4                     False                             988  \n",
       "5                     False                             988  \n",
       "6                     False                             988  \n",
       "7                     False                             988  \n",
       "8                       NaN                             NaN  \n",
       "9                       NaN                             NaN  \n",
       "10                      NaN                             NaN  \n",
       "11                      NaN                             NaN  \n",
       "12                    False                             988  \n",
       "13                      NaN                             NaN  \n",
       "14                      NaN                             NaN  \n",
       "15                      NaN                             NaN  \n",
       "16                     True                               0  \n",
       "17                    False                              57  \n",
       "18                    False                             363  \n",
       "19                    False                             819  \n",
       "20                    False                             988  "
      ]
     },
     "execution_count": 39,
     "metadata": {},
     "output_type": "execute_result"
    }
   ],
   "source": [
    "Stats_Modeles"
   ]
  },
  {
   "cell_type": "markdown",
   "id": "5521f5b9",
   "metadata": {},
   "source": [
    "## 4 - Analyse"
   ]
  },
  {
   "cell_type": "markdown",
   "id": "b3d77a8a",
   "metadata": {},
   "source": [
    "Blabla."
   ]
  }
 ],
 "metadata": {
  "kernelspec": {
   "display_name": "Python 3 (ipykernel)",
   "language": "python",
   "name": "python3"
  },
  "language_info": {
   "codemirror_mode": {
    "name": "ipython",
    "version": 3
   },
   "file_extension": ".py",
   "mimetype": "text/x-python",
   "name": "python",
   "nbconvert_exporter": "python",
   "pygments_lexer": "ipython3",
   "version": "3.9.13"
  }
 },
 "nbformat": 4,
 "nbformat_minor": 5
}
