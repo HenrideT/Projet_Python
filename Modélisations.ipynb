{
 "cells": [
  {
   "cell_type": "markdown",
   "id": "972fbc07",
   "metadata": {},
   "source": [
    "# Modélisations"
   ]
  },
  {
   "cell_type": "markdown",
   "id": "3f5c9d4f",
   "metadata": {},
   "source": [
    "## Création de la base d'entraînement et de celle de test"
   ]
  },
  {
   "cell_type": "code",
   "execution_count": 82,
   "id": "c85ad8f4",
   "metadata": {},
   "outputs": [
    {
     "data": {
      "text/html": [
       "<div id=\"my_id_menu_nb\">run previous cell, wait for 2 seconds</div>\n",
       "<script>\n",
       "function repeat_indent_string(n){\n",
       "    var a = \"\" ;\n",
       "    for ( ; n > 0 ; --n)\n",
       "        a += \"    \";\n",
       "    return a;\n",
       "}\n",
       "// look up into all sections and builds an automated menu //\n",
       "var update_menu_string = function(begin, lfirst, llast, sformat, send, keep_item, begin_format, end_format) {\n",
       "    var anchors = document.getElementsByClassName(\"section\");\n",
       "    if (anchors.length == 0) {\n",
       "        anchors = document.getElementsByClassName(\"text_cell_render rendered_html\");\n",
       "    }\n",
       "    var i,t;\n",
       "    var text_menu = begin;\n",
       "    var text_memo = \"<pre>\\nlength:\" + anchors.length + \"\\n\";\n",
       "    var ind = \"\";\n",
       "    var memo_level = 1;\n",
       "    var href;\n",
       "    var tags = [];\n",
       "    var main_item = 0;\n",
       "    var format_open = 0;\n",
       "    for (i = 0; i <= llast; i++)\n",
       "        tags.push(\"h\" + i);\n",
       "\n",
       "    for (i = 0; i < anchors.length; i++) {\n",
       "        text_memo += \"**\" + anchors[i].id + \"--\\n\";\n",
       "\n",
       "        var child = null;\n",
       "        for(t = 0; t < tags.length; t++) {\n",
       "            var r = anchors[i].getElementsByTagName(tags[t]);\n",
       "            if (r.length > 0) {\n",
       "child = r[0];\n",
       "break;\n",
       "            }\n",
       "        }\n",
       "        if (child == null) {\n",
       "            text_memo += \"null\\n\";\n",
       "            continue;\n",
       "        }\n",
       "        if (anchors[i].hasAttribute(\"id\")) {\n",
       "            // when converted in RST\n",
       "            href = anchors[i].id;\n",
       "            text_memo += \"#1-\" + href;\n",
       "            // passer à child suivant (le chercher)\n",
       "        }\n",
       "        else if (child.hasAttribute(\"id\")) {\n",
       "            // in a notebook\n",
       "            href = child.id;\n",
       "            text_memo += \"#2-\" + href;\n",
       "        }\n",
       "        else {\n",
       "            text_memo += \"#3-\" + \"*\" + \"\\n\";\n",
       "            continue;\n",
       "        }\n",
       "        var title = child.textContent;\n",
       "        var level = parseInt(child.tagName.substring(1,2));\n",
       "\n",
       "        text_memo += \"--\" + level + \"?\" + lfirst + \"--\" + title + \"\\n\";\n",
       "\n",
       "        if ((level < lfirst) || (level > llast)) {\n",
       "            continue ;\n",
       "        }\n",
       "        if (title.endsWith('¶')) {\n",
       "            title = title.substring(0,title.length-1).replace(\"<\", \"&lt;\")\n",
       "         .replace(\">\", \"&gt;\").replace(\"&\", \"&amp;\");\n",
       "        }\n",
       "        if (title.length == 0) {\n",
       "            continue;\n",
       "        }\n",
       "\n",
       "        while (level < memo_level) {\n",
       "            text_menu += end_format + \"</ul>\\n\";\n",
       "            format_open -= 1;\n",
       "            memo_level -= 1;\n",
       "        }\n",
       "        if (level == lfirst) {\n",
       "            main_item += 1;\n",
       "        }\n",
       "        if (keep_item != -1 && main_item != keep_item + 1) {\n",
       "            // alert(main_item + \" - \" + level + \" - \" + keep_item);\n",
       "            continue;\n",
       "        }\n",
       "        while (level > memo_level) {\n",
       "            text_menu += \"<ul>\\n\";\n",
       "            memo_level += 1;\n",
       "        }\n",
       "        text_menu += repeat_indent_string(level-2);\n",
       "        text_menu += begin_format + sformat.replace(\"__HREF__\", href).replace(\"__TITLE__\", title);\n",
       "        format_open += 1;\n",
       "    }\n",
       "    while (1 < memo_level) {\n",
       "        text_menu += end_format + \"</ul>\\n\";\n",
       "        memo_level -= 1;\n",
       "        format_open -= 1;\n",
       "    }\n",
       "    text_menu += send;\n",
       "    //text_menu += \"\\n\" + text_memo;\n",
       "\n",
       "    while (format_open > 0) {\n",
       "        text_menu += end_format;\n",
       "        format_open -= 1;\n",
       "    }\n",
       "    return text_menu;\n",
       "};\n",
       "var update_menu = function() {\n",
       "    var sbegin = \"\";\n",
       "    var sformat = '<a href=\"#__HREF__\">__TITLE__</a>';\n",
       "    var send = \"\";\n",
       "    var begin_format = '<li>';\n",
       "    var end_format = '</li>';\n",
       "    var keep_item = -1;\n",
       "    var text_menu = update_menu_string(sbegin, 2, 4, sformat, send, keep_item,\n",
       "       begin_format, end_format);\n",
       "    var menu = document.getElementById(\"my_id_menu_nb\");\n",
       "    menu.innerHTML=text_menu;\n",
       "};\n",
       "window.setTimeout(update_menu,2000);\n",
       "            </script>"
      ],
      "text/plain": [
       "<IPython.core.display.HTML object>"
      ]
     },
     "execution_count": 82,
     "metadata": {},
     "output_type": "execute_result"
    }
   ],
   "source": [
    "import requests\n",
    "import zipfile\n",
    "import io\n",
    "import pandas as pd\n",
    "from shutil import rmtree\n",
    "from jyquickhelper import add_notebook_menu\n",
    "from unidecode import unidecode\n",
    "import numpy as np\n",
    "import sklearn.metrics\n",
    "from sklearn.model_selection import train_test_split\n",
    "from sklearn.metrics import accuracy_score\n",
    "from sklearn.metrics import f1_score\n",
    "from sklearn.metrics import recall_score\n",
    "from sklearn.metrics import precision_score\n",
    "from sklearn import linear_model\n",
    "from sklearn.linear_model import LogisticRegression\n",
    "from sklearn.neighbors import KNeighborsClassifier\n",
    "add_notebook_menu()\n"
   ]
  },
  {
   "cell_type": "code",
   "execution_count": 2,
   "id": "02d06ced",
   "metadata": {},
   "outputs": [
    {
     "name": "stderr",
     "output_type": "stream",
     "text": [
      "C:\\Users\\Xavier\\AppData\\Local\\Temp\\ipykernel_16800\\3911578995.py:1: DtypeWarning: Columns (1,1911) have mixed types. Specify dtype option on import or set low_memory=False.\n",
      "  insee = pd.read_csv('Données élections et INSEE.csv')\n"
     ]
    }
   ],
   "source": [
    "insee = pd.read_csv('Données élections et INSEE.csv')\n",
    "insee = insee.drop(\"Unnamed: 0\", axis = 1)"
   ]
  },
  {
   "cell_type": "code",
   "execution_count": 4,
   "id": "fea86345",
   "metadata": {},
   "outputs": [],
   "source": [
    "# On crée la dataframe avec les observations où le maire s'est représenté\n",
    "insee2 = insee[insee[\"Tentative de réélection\"]==True]"
   ]
  },
  {
   "cell_type": "code",
   "execution_count": 5,
   "id": "e4c057c0",
   "metadata": {},
   "outputs": [],
   "source": [
    "# On crée le vecteur contenant résultat\n",
    "Reelection = insee2[\"Nom de l'élu en 2020\"] == insee2[\"Nom de l'élu en 2014\"]"
   ]
  },
  {
   "cell_type": "code",
   "execution_count": 6,
   "id": "b16e50b3",
   "metadata": {},
   "outputs": [],
   "source": [
    "# On va réduire insee2 en ne gardant que les données de 2014 et 2020 qui sont des valeurs chiffrées\n",
    "# Valeurs chiffrées\n",
    "temp = insee2.select_dtypes(include = [\"int64\", \"float64\"])\n",
    "insee2 = pd.concat([insee2[\"CODGEO\"], temp], axis = 1)\n",
    "# Années gardées\n",
    "for i in insee2.columns :\n",
    "    if i[0:3]!=\"P19\" and i[0:3]!=\"P13\" and i!=\"CODGEO\":\n",
    "        insee2 = insee2.drop(i, axis = 1)"
   ]
  },
  {
   "cell_type": "markdown",
   "id": "f69a557f",
   "metadata": {},
   "source": [
    "Si l'on veut être surs que nos modèles soient comparables, il faut centrer et réduire nos données."
   ]
  },
  {
   "cell_type": "code",
   "execution_count": 7,
   "id": "0253070d",
   "metadata": {},
   "outputs": [
    {
     "name": "stderr",
     "output_type": "stream",
     "text": [
      "C:\\Users\\Xavier\\AppData\\Local\\Temp\\ipykernel_16800\\544017825.py:3: FutureWarning: Dropping of nuisance columns in DataFrame reductions (with 'numeric_only=None') is deprecated; in a future version this will raise TypeError.  Select only valid columns before calling the reduction.\n",
      "  var = insee2.std()\n",
      "C:\\Users\\Xavier\\AppData\\Local\\Temp\\ipykernel_16800\\544017825.py:4: FutureWarning: Dropping of nuisance columns in DataFrame reductions (with 'numeric_only=None') is deprecated; in a future version this will raise TypeError.  Select only valid columns before calling the reduction.\n",
      "  moy = insee2.mean()\n"
     ]
    }
   ],
   "source": [
    "temp2 = insee[\"CODGEO\"]\n",
    "\n",
    "var = insee2.std()\n",
    "moy = insee2.mean()\n",
    "\n",
    "insee2 = (insee2-moy)/var\n",
    "insee2[\"CODGEO\"]=temp2"
   ]
  },
  {
   "cell_type": "code",
   "execution_count": 8,
   "id": "60174380",
   "metadata": {},
   "outputs": [],
   "source": [
    "# Une partie de nos colonnes contiennent (énormément) de NaNs.\n",
    "# Seulement quelques colonnes, redondantes entre 2013 et 2020, sont concernées.\n",
    "# Par simplicité, nous les enlevons donc.\n",
    "liste = []\n",
    "for i in insee2.columns:\n",
    "        if insee2[i].isnull().values.any()==True :\n",
    "            liste.append(i)\n",
    "            \n",
    "insee2 = insee2.drop(liste, axis = 1)        "
   ]
  },
  {
   "cell_type": "markdown",
   "id": "b61244f2",
   "metadata": {},
   "source": [
    "On crée maintenant les bases d'entraînement et de test pour nos différentes modélisations."
   ]
  },
  {
   "cell_type": "code",
   "execution_count": 110,
   "id": "5846b5c8",
   "metadata": {},
   "outputs": [],
   "source": [
    "X_train, X_test, y_train, y_test = train_test_split(insee2, Reelection, test_size=0.2, random_state=18)"
   ]
  },
  {
   "cell_type": "markdown",
   "id": "b251165e",
   "metadata": {},
   "source": [
    "Nous allons tester plusieurs méthodes. Afin de savoir laquelle est la \"meilleure\", nous allons les comparer grâce à quatre indicateurs : l'exactitude (accuracy), la précision, le rappel (recall) ainsi que la statistique F1.\n",
    "\n",
    "L'exactitude regarde à quel point les données simulées sont proches de la réalité et regarde donc la proportion des résultats dont l'issue est la bonne.\n",
    "\n",
    "La précision correspond au nombre de vrais positifs sur le nombre de prédictions positives.\n",
    "\n",
    "Le rappel correspond au nombre de vrais positifs sur le nombre réel de positifs.\n",
    "\n",
    "La statistique F1 correspond à $\\frac{2 \\times precision \\times rappel}{precision + rappel}$."
   ]
  },
  {
   "cell_type": "code",
   "execution_count": 116,
   "id": "a4616d2a",
   "metadata": {},
   "outputs": [],
   "source": [
    "# Création de la base contenant ces données :\n",
    "Stats_Modeles = pd.DataFrame(columns = [\"Modèle\", \"Accuracy\", \"Precision\", \"Recall\", \"Score F1\", \"Coefficients tous nuls ?\"])\n",
    "\n",
    "# Ajoute une ligne à la dataframe\n",
    "def plusUneLigne(M, y_t, y_p, C):\n",
    "    \n",
    "    # On évalue les stats du modèle\n",
    "    ac = sklearn.metrics.accuracy_score(y_t, y_p)\n",
    "    prec = sklearn.metrics.precision_score(y_t, y_p)\n",
    "    recall = sklearn.metrics.recall_score(y_t, y_p)\n",
    "    f1 = sklearn.metrics.f1_score(y_t, y_p)\n",
    "    \n",
    "    return Stats_Modeles.append({\"Modèle\" : M,\n",
    "                                          \"Accuracy\" : ac,\n",
    "                                          \"Precision\" : prec,\n",
    "                                          \"Recall\" : recall,\n",
    "                                          \"Score F1\" : f1,\n",
    "                                          \"Coefficients tous nuls ?\" : C},\n",
    "                                          ignore_index=True)"
   ]
  },
  {
   "cell_type": "markdown",
   "id": "1efbe30b",
   "metadata": {},
   "source": [
    "## 1 - Méthode du lasso"
   ]
  },
  {
   "cell_type": "markdown",
   "id": "9ae7a1ef",
   "metadata": {},
   "source": [
    "Nous avons ici une base de données avec beaucoup de variables. De ce fait, avec la méthode du lasso, qui ajoute une pénalisation correspondant à la norme 2 du vecteur des $\\beta_i$. La formule du lasso est la suivante :\n",
    "$ \\hat{\\beta} = argmin_{\\beta \\in \\mathbb{R}^k } = \\frac{1}{n} \\sum_{i=1}^{n}{(Y_i - X_i^{'}  \\beta)^2 + \\lambda ||\\beta||_1}$ où $\\lambda \\in \\mathbb{R}^{+}$ est un coefficient de pondération. Plus $\\lambda$ est grand, plus le nombre de coefficients $\\beta_i$ égal à zéro augmente.\n",
    "\n",
    "Ce modèle est continue donc on ne trouvera pas un $\\hat{y}_i \\in \\{ 0; 1\\}$ mais dans $[\\ 0; 1]\\ $ correspondant plutôt à une probabilité d'être réélu(e). On binarise alors notre vecteur en donnant la valeur de un aux probabilités supérieures à $\\frac{1}{2}$ et zéro à celles inférieures : $ \\hat{y_i}' = \\mathbb{1}_{ [\\ \\frac{1}{2}; 1]\\ }(y_i) $."
   ]
  },
  {
   "cell_type": "code",
   "execution_count": 117,
   "id": "737b88d7",
   "metadata": {},
   "outputs": [
    {
     "name": "stderr",
     "output_type": "stream",
     "text": [
      "C:\\Users\\Xavier\\AppData\\Local\\Temp\\ipykernel_16800\\4166890010.py:13: FutureWarning: The frame.append method is deprecated and will be removed from pandas in a future version. Use pandas.concat instead.\n",
      "  return Stats_Modeles.append({\"Modèle\" : M,\n",
      "C:\\Users\\Xavier\\AppData\\Local\\Temp\\ipykernel_16800\\4166890010.py:13: FutureWarning: The frame.append method is deprecated and will be removed from pandas in a future version. Use pandas.concat instead.\n",
      "  return Stats_Modeles.append({\"Modèle\" : M,\n",
      "C:\\Users\\Xavier\\anaconda3\\lib\\site-packages\\sklearn\\linear_model\\_coordinate_descent.py:647: ConvergenceWarning: Objective did not converge. You might want to increase the number of iterations, check the scale of the features or consider increasing regularisation. Duality gap: 3.076e+02, tolerance: 1.907e-01\n",
      "  model = cd_fast.enet_coordinate_descent(\n",
      "C:\\Users\\Xavier\\AppData\\Local\\Temp\\ipykernel_16800\\4166890010.py:13: FutureWarning: The frame.append method is deprecated and will be removed from pandas in a future version. Use pandas.concat instead.\n",
      "  return Stats_Modeles.append({\"Modèle\" : M,\n",
      "C:\\Users\\Xavier\\anaconda3\\lib\\site-packages\\sklearn\\linear_model\\_coordinate_descent.py:647: ConvergenceWarning: Objective did not converge. You might want to increase the number of iterations, check the scale of the features or consider increasing regularisation. Duality gap: 8.148e+02, tolerance: 1.907e-01\n",
      "  model = cd_fast.enet_coordinate_descent(\n",
      "C:\\Users\\Xavier\\AppData\\Local\\Temp\\ipykernel_16800\\4166890010.py:13: FutureWarning: The frame.append method is deprecated and will be removed from pandas in a future version. Use pandas.concat instead.\n",
      "  return Stats_Modeles.append({\"Modèle\" : M,\n",
      "C:\\Users\\Xavier\\AppData\\Local\\Temp\\ipykernel_16800\\3413703575.py:6: UserWarning: With alpha=0, this algorithm does not converge well. You are advised to use the LinearRegression estimator\n",
      "  clf.fit(X_train.drop(\"CODGEO\", axis=1), y_train)\n",
      "C:\\Users\\Xavier\\anaconda3\\lib\\site-packages\\sklearn\\linear_model\\_coordinate_descent.py:647: UserWarning: Coordinate descent with no regularization may lead to unexpected results and is discouraged.\n",
      "  model = cd_fast.enet_coordinate_descent(\n",
      "C:\\Users\\Xavier\\anaconda3\\lib\\site-packages\\sklearn\\linear_model\\_coordinate_descent.py:647: ConvergenceWarning: Objective did not converge. You might want to increase the number of iterations, check the scale of the features or consider increasing regularisation. Duality gap: 9.326e+02, tolerance: 1.907e-01 Linear regression models with null weight for the l1 regularization term are more efficiently fitted using one of the solvers implemented in sklearn.linear_model.Ridge/RidgeCV instead.\n",
      "  model = cd_fast.enet_coordinate_descent(\n",
      "C:\\Users\\Xavier\\AppData\\Local\\Temp\\ipykernel_16800\\4166890010.py:13: FutureWarning: The frame.append method is deprecated and will be removed from pandas in a future version. Use pandas.concat instead.\n",
      "  return Stats_Modeles.append({\"Modèle\" : M,\n"
     ]
    }
   ],
   "source": [
    "lambdas = [ 0.1, 0.001, 0.0001, 0.00001, 0]\n",
    "\n",
    "for i in lambdas:\n",
    "    # On établie la régression\n",
    "    clf = linear_model.Lasso(alpha=i)\n",
    "    clf.fit(X_train.drop(\"CODGEO\", axis=1), y_train)\n",
    "   \n",
    "    y_pred = clf.predict(X_test.drop(\"CODGEO\", axis=1))\n",
    "    \n",
    "    for j in range(len(y_pred)):\n",
    "        if y_pred[j]<0.5:\n",
    "            y_pred[j] = 0\n",
    "        else :\n",
    "            y_pred[j] = 1\n",
    "    \n",
    "    nom_temp = \"Lasso (α = \" + str(i)+ \")\"\n",
    "    nul = np.array_equal(clf.coef_, np.zeros(X_test.shape[1]-1))\n",
    "    \n",
    "    Stats_Modeles = plusUneLigne(nom_temp, y_test, y_pred, nul)"
   ]
  },
  {
   "cell_type": "markdown",
   "id": "caa71719",
   "metadata": {},
   "source": [
    "## 2 - Régression logistique"
   ]
  },
  {
   "cell_type": "markdown",
   "id": "0619e7a0",
   "metadata": {},
   "source": [
    "Le second modèle que nous allons utiliser correspond au modèle logistique."
   ]
  },
  {
   "cell_type": "code",
   "execution_count": 119,
   "id": "ba75fe8b",
   "metadata": {},
   "outputs": [
    {
     "name": "stderr",
     "output_type": "stream",
     "text": [
      "C:\\Users\\Xavier\\anaconda3\\lib\\site-packages\\sklearn\\linear_model\\_logistic.py:814: ConvergenceWarning: lbfgs failed to converge (status=1):\n",
      "STOP: TOTAL NO. of ITERATIONS REACHED LIMIT.\n",
      "\n",
      "Increase the number of iterations (max_iter) or scale the data as shown in:\n",
      "    https://scikit-learn.org/stable/modules/preprocessing.html\n",
      "Please also refer to the documentation for alternative solver options:\n",
      "    https://scikit-learn.org/stable/modules/linear_model.html#logistic-regression\n",
      "  n_iter_i = _check_optimize_result(\n",
      "C:\\Users\\Xavier\\AppData\\Local\\Temp\\ipykernel_16800\\4166890010.py:13: FutureWarning: The frame.append method is deprecated and will be removed from pandas in a future version. Use pandas.concat instead.\n",
      "  return Stats_Modeles.append({\"Modèle\" : M,\n",
      "C:\\Users\\Xavier\\AppData\\Local\\Temp\\ipykernel_16800\\4166890010.py:13: FutureWarning: The frame.append method is deprecated and will be removed from pandas in a future version. Use pandas.concat instead.\n",
      "  return Stats_Modeles.append({\"Modèle\" : M,\n",
      "C:\\Users\\Xavier\\anaconda3\\lib\\site-packages\\sklearn\\linear_model\\_sag.py:352: ConvergenceWarning: The max_iter was reached which means the coef_ did not converge\n",
      "  warnings.warn(\n",
      "C:\\Users\\Xavier\\AppData\\Local\\Temp\\ipykernel_16800\\4166890010.py:13: FutureWarning: The frame.append method is deprecated and will be removed from pandas in a future version. Use pandas.concat instead.\n",
      "  return Stats_Modeles.append({\"Modèle\" : M,\n"
     ]
    }
   ],
   "source": [
    "solvers = [\"lbfgs\", \"liblinear\", \"sag\" ]\n",
    "\n",
    "for i in solvers:\n",
    "    \n",
    "    clf = LogisticRegression(random_state=0, solver = i)\n",
    "    clf.fit(X_train.drop(\"CODGEO\", axis=1), y_train)\n",
    "    \n",
    "    y_pred = clf.predict(X_test.drop(\"CODGEO\", axis=1))\n",
    "    \n",
    "    nom_temp = \"Logistique (solver = \" + i + \")\"\n",
    "    nul = np.array_equal(clf.coef_, np.zeros(X_test.shape[1]-1))\n",
    "    \n",
    "    Stats_Modeles = plusUneLigne(nom_temp, y_test, y_pred, nul)"
   ]
  },
  {
   "cell_type": "markdown",
   "id": "f031e144",
   "metadata": {},
   "source": [
    "## 3 - Méthode des k plus proches voisins"
   ]
  },
  {
   "cell_type": "markdown",
   "id": "d26a0443",
   "metadata": {},
   "source": [
    "La méthode des k plus proches voisins ($ k \\in \\mathbb{N}^* $) regarde l'issue la plus présente parmi les k observations qui sont les plus proches de notre observation donc l'issue est à prévoir. La notion de proche peut varier suivant la distance choisie."
   ]
  },
  {
   "cell_type": "code",
   "execution_count": 121,
   "id": "ca0a1f4f",
   "metadata": {
    "scrolled": true
   },
   "outputs": [
    {
     "name": "stderr",
     "output_type": "stream",
     "text": [
      "C:\\Users\\Xavier\\anaconda3\\lib\\site-packages\\sklearn\\neighbors\\_classification.py:228: FutureWarning: Unlike other reduction functions (e.g. `skew`, `kurtosis`), the default behavior of `mode` typically preserves the axis it acts along. In SciPy 1.11.0, this behavior will change: the default value of `keepdims` will become False, the `axis` over which the statistic is taken will be eliminated, and the value None will no longer be accepted. Set `keepdims` to True or False to avoid this warning.\n",
      "  mode, _ = stats.mode(_y[neigh_ind, k], axis=1)\n",
      "C:\\Users\\Xavier\\AppData\\Local\\Temp\\ipykernel_16800\\4166890010.py:13: FutureWarning: The frame.append method is deprecated and will be removed from pandas in a future version. Use pandas.concat instead.\n",
      "  return Stats_Modeles.append({\"Modèle\" : M,\n",
      "C:\\Users\\Xavier\\anaconda3\\lib\\site-packages\\sklearn\\neighbors\\_classification.py:228: FutureWarning: Unlike other reduction functions (e.g. `skew`, `kurtosis`), the default behavior of `mode` typically preserves the axis it acts along. In SciPy 1.11.0, this behavior will change: the default value of `keepdims` will become False, the `axis` over which the statistic is taken will be eliminated, and the value None will no longer be accepted. Set `keepdims` to True or False to avoid this warning.\n",
      "  mode, _ = stats.mode(_y[neigh_ind, k], axis=1)\n",
      "C:\\Users\\Xavier\\AppData\\Local\\Temp\\ipykernel_16800\\4166890010.py:13: FutureWarning: The frame.append method is deprecated and will be removed from pandas in a future version. Use pandas.concat instead.\n",
      "  return Stats_Modeles.append({\"Modèle\" : M,\n",
      "C:\\Users\\Xavier\\anaconda3\\lib\\site-packages\\sklearn\\neighbors\\_classification.py:228: FutureWarning: Unlike other reduction functions (e.g. `skew`, `kurtosis`), the default behavior of `mode` typically preserves the axis it acts along. In SciPy 1.11.0, this behavior will change: the default value of `keepdims` will become False, the `axis` over which the statistic is taken will be eliminated, and the value None will no longer be accepted. Set `keepdims` to True or False to avoid this warning.\n",
      "  mode, _ = stats.mode(_y[neigh_ind, k], axis=1)\n",
      "C:\\Users\\Xavier\\AppData\\Local\\Temp\\ipykernel_16800\\4166890010.py:13: FutureWarning: The frame.append method is deprecated and will be removed from pandas in a future version. Use pandas.concat instead.\n",
      "  return Stats_Modeles.append({\"Modèle\" : M,\n",
      "C:\\Users\\Xavier\\anaconda3\\lib\\site-packages\\sklearn\\neighbors\\_classification.py:228: FutureWarning: Unlike other reduction functions (e.g. `skew`, `kurtosis`), the default behavior of `mode` typically preserves the axis it acts along. In SciPy 1.11.0, this behavior will change: the default value of `keepdims` will become False, the `axis` over which the statistic is taken will be eliminated, and the value None will no longer be accepted. Set `keepdims` to True or False to avoid this warning.\n",
      "  mode, _ = stats.mode(_y[neigh_ind, k], axis=1)\n",
      "C:\\Users\\Xavier\\AppData\\Local\\Temp\\ipykernel_16800\\4166890010.py:13: FutureWarning: The frame.append method is deprecated and will be removed from pandas in a future version. Use pandas.concat instead.\n",
      "  return Stats_Modeles.append({\"Modèle\" : M,\n"
     ]
    }
   ],
   "source": [
    "combien_voisins = [5, 11, 101, 1001]   \n",
    "\n",
    "for i in combien_voisins :    \n",
    "    clf = KNeighborsClassifier(n_neighbors=50)\n",
    "    clf.fit(X_train.drop(\"CODGEO\", axis=1), y_train)\n",
    "    y_pred = clf.predict(X_test.drop(\"CODGEO\", axis=1))\n",
    "\n",
    "    nom_temp = str(i) + \" plus proches voisins\"\n",
    "\n",
    "    Stats_Modeles = plusUneLigne(nom_temp, y_test, y_pred, np.nan)"
   ]
  },
  {
   "cell_type": "code",
   "execution_count": 122,
   "id": "99ea33ce",
   "metadata": {},
   "outputs": [
    {
     "data": {
      "text/html": [
       "<div>\n",
       "<style scoped>\n",
       "    .dataframe tbody tr th:only-of-type {\n",
       "        vertical-align: middle;\n",
       "    }\n",
       "\n",
       "    .dataframe tbody tr th {\n",
       "        vertical-align: top;\n",
       "    }\n",
       "\n",
       "    .dataframe thead th {\n",
       "        text-align: right;\n",
       "    }\n",
       "</style>\n",
       "<table border=\"1\" class=\"dataframe\">\n",
       "  <thead>\n",
       "    <tr style=\"text-align: right;\">\n",
       "      <th></th>\n",
       "      <th>Modèle</th>\n",
       "      <th>Accuracy</th>\n",
       "      <th>Precision</th>\n",
       "      <th>Recall</th>\n",
       "      <th>Score F1</th>\n",
       "      <th>Coefficients tous nuls ?</th>\n",
       "    </tr>\n",
       "  </thead>\n",
       "  <tbody>\n",
       "    <tr>\n",
       "      <th>0</th>\n",
       "      <td>Lasso (α = 0.1)</td>\n",
       "      <td>0.842133</td>\n",
       "      <td>0.842133</td>\n",
       "      <td>1.000000</td>\n",
       "      <td>0.914302</td>\n",
       "      <td>True</td>\n",
       "    </tr>\n",
       "    <tr>\n",
       "      <th>1</th>\n",
       "      <td>Lasso (α = 0.001)</td>\n",
       "      <td>0.842133</td>\n",
       "      <td>0.842133</td>\n",
       "      <td>1.000000</td>\n",
       "      <td>0.914302</td>\n",
       "      <td>False</td>\n",
       "    </tr>\n",
       "    <tr>\n",
       "      <th>2</th>\n",
       "      <td>Lasso (α = 0.0001)</td>\n",
       "      <td>0.840257</td>\n",
       "      <td>0.841837</td>\n",
       "      <td>0.997772</td>\n",
       "      <td>0.913195</td>\n",
       "      <td>False</td>\n",
       "    </tr>\n",
       "    <tr>\n",
       "      <th>3</th>\n",
       "      <td>Lasso (α = 1e-05)</td>\n",
       "      <td>0.839989</td>\n",
       "      <td>0.842346</td>\n",
       "      <td>0.996499</td>\n",
       "      <td>0.912961</td>\n",
       "      <td>False</td>\n",
       "    </tr>\n",
       "    <tr>\n",
       "      <th>4</th>\n",
       "      <td>Lasso (α = 0)</td>\n",
       "      <td>0.839453</td>\n",
       "      <td>0.842261</td>\n",
       "      <td>0.995863</td>\n",
       "      <td>0.912644</td>\n",
       "      <td>False</td>\n",
       "    </tr>\n",
       "    <tr>\n",
       "      <th>5</th>\n",
       "      <td>Logistique (solver = lbfgs)</td>\n",
       "      <td>0.838917</td>\n",
       "      <td>0.842361</td>\n",
       "      <td>0.994908</td>\n",
       "      <td>0.912301</td>\n",
       "      <td>False</td>\n",
       "    </tr>\n",
       "    <tr>\n",
       "      <th>6</th>\n",
       "      <td>Logistique (solver = liblinear)</td>\n",
       "      <td>0.838649</td>\n",
       "      <td>0.841949</td>\n",
       "      <td>0.995226</td>\n",
       "      <td>0.912194</td>\n",
       "      <td>False</td>\n",
       "    </tr>\n",
       "    <tr>\n",
       "      <th>7</th>\n",
       "      <td>Logistique (solver = sag)</td>\n",
       "      <td>0.841597</td>\n",
       "      <td>0.842049</td>\n",
       "      <td>0.999363</td>\n",
       "      <td>0.913986</td>\n",
       "      <td>False</td>\n",
       "    </tr>\n",
       "    <tr>\n",
       "      <th>8</th>\n",
       "      <td>5 plus proches voisins</td>\n",
       "      <td>0.842133</td>\n",
       "      <td>0.842133</td>\n",
       "      <td>1.000000</td>\n",
       "      <td>0.914302</td>\n",
       "      <td>NaN</td>\n",
       "    </tr>\n",
       "    <tr>\n",
       "      <th>9</th>\n",
       "      <td>11 plus proches voisins</td>\n",
       "      <td>0.842133</td>\n",
       "      <td>0.842133</td>\n",
       "      <td>1.000000</td>\n",
       "      <td>0.914302</td>\n",
       "      <td>NaN</td>\n",
       "    </tr>\n",
       "    <tr>\n",
       "      <th>10</th>\n",
       "      <td>101 plus proches voisins</td>\n",
       "      <td>0.842133</td>\n",
       "      <td>0.842133</td>\n",
       "      <td>1.000000</td>\n",
       "      <td>0.914302</td>\n",
       "      <td>NaN</td>\n",
       "    </tr>\n",
       "    <tr>\n",
       "      <th>11</th>\n",
       "      <td>1001 plus proches voisins</td>\n",
       "      <td>0.842133</td>\n",
       "      <td>0.842133</td>\n",
       "      <td>1.000000</td>\n",
       "      <td>0.914302</td>\n",
       "      <td>NaN</td>\n",
       "    </tr>\n",
       "  </tbody>\n",
       "</table>\n",
       "</div>"
      ],
      "text/plain": [
       "                             Modèle  Accuracy  Precision    Recall  Score F1  \\\n",
       "0                   Lasso (α = 0.1)  0.842133   0.842133  1.000000  0.914302   \n",
       "1                 Lasso (α = 0.001)  0.842133   0.842133  1.000000  0.914302   \n",
       "2                Lasso (α = 0.0001)  0.840257   0.841837  0.997772  0.913195   \n",
       "3                 Lasso (α = 1e-05)  0.839989   0.842346  0.996499  0.912961   \n",
       "4                     Lasso (α = 0)  0.839453   0.842261  0.995863  0.912644   \n",
       "5       Logistique (solver = lbfgs)  0.838917   0.842361  0.994908  0.912301   \n",
       "6   Logistique (solver = liblinear)  0.838649   0.841949  0.995226  0.912194   \n",
       "7         Logistique (solver = sag)  0.841597   0.842049  0.999363  0.913986   \n",
       "8            5 plus proches voisins  0.842133   0.842133  1.000000  0.914302   \n",
       "9           11 plus proches voisins  0.842133   0.842133  1.000000  0.914302   \n",
       "10         101 plus proches voisins  0.842133   0.842133  1.000000  0.914302   \n",
       "11        1001 plus proches voisins  0.842133   0.842133  1.000000  0.914302   \n",
       "\n",
       "   Coefficients tous nuls ?  \n",
       "0                      True  \n",
       "1                     False  \n",
       "2                     False  \n",
       "3                     False  \n",
       "4                     False  \n",
       "5                     False  \n",
       "6                     False  \n",
       "7                     False  \n",
       "8                       NaN  \n",
       "9                       NaN  \n",
       "10                      NaN  \n",
       "11                      NaN  "
      ]
     },
     "execution_count": 122,
     "metadata": {},
     "output_type": "execute_result"
    }
   ],
   "source": [
    "Stats_Modeles"
   ]
  },
  {
   "cell_type": "code",
   "execution_count": null,
   "id": "77e1df0f",
   "metadata": {},
   "outputs": [],
   "source": []
  }
 ],
 "metadata": {
  "kernelspec": {
   "display_name": "Python 3 (ipykernel)",
   "language": "python",
   "name": "python3"
  },
  "language_info": {
   "codemirror_mode": {
    "name": "ipython",
    "version": 3
   },
   "file_extension": ".py",
   "mimetype": "text/x-python",
   "name": "python",
   "nbconvert_exporter": "python",
   "pygments_lexer": "ipython3",
   "version": "3.9.13"
  }
 },
 "nbformat": 4,
 "nbformat_minor": 5
}
