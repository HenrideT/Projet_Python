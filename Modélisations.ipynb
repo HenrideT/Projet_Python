{
 "cells": [
  {
   "cell_type": "markdown",
   "id": "972fbc07",
   "metadata": {},
   "source": [
    "# Notebook des différentes modélisations\n",
    "\n",
    "Doit être exécuté après celui de Récupération pour pouvoir fonctionner. Il est plus logique de le lire après celui de statistiques descriptives."
   ]
  },
  {
   "cell_type": "code",
   "execution_count": 1,
   "id": "c85ad8f4",
   "metadata": {},
   "outputs": [
    {
     "data": {
      "text/html": [
       "<div id=\"my_id_menu_nb\">run previous cell, wait for 2 seconds</div>\n",
       "<script>\n",
       "function repeat_indent_string(n){\n",
       "    var a = \"\" ;\n",
       "    for ( ; n > 0 ; --n)\n",
       "        a += \"    \";\n",
       "    return a;\n",
       "}\n",
       "// look up into all sections and builds an automated menu //\n",
       "var update_menu_string = function(begin, lfirst, llast, sformat, send, keep_item, begin_format, end_format) {\n",
       "    var anchors = document.getElementsByClassName(\"section\");\n",
       "    if (anchors.length == 0) {\n",
       "        anchors = document.getElementsByClassName(\"text_cell_render rendered_html\");\n",
       "    }\n",
       "    var i,t;\n",
       "    var text_menu = begin;\n",
       "    var text_memo = \"<pre>\\nlength:\" + anchors.length + \"\\n\";\n",
       "    var ind = \"\";\n",
       "    var memo_level = 1;\n",
       "    var href;\n",
       "    var tags = [];\n",
       "    var main_item = 0;\n",
       "    var format_open = 0;\n",
       "    for (i = 0; i <= llast; i++)\n",
       "        tags.push(\"h\" + i);\n",
       "\n",
       "    for (i = 0; i < anchors.length; i++) {\n",
       "        text_memo += \"**\" + anchors[i].id + \"--\\n\";\n",
       "\n",
       "        var child = null;\n",
       "        for(t = 0; t < tags.length; t++) {\n",
       "            var r = anchors[i].getElementsByTagName(tags[t]);\n",
       "            if (r.length > 0) {\n",
       "child = r[0];\n",
       "break;\n",
       "            }\n",
       "        }\n",
       "        if (child == null) {\n",
       "            text_memo += \"null\\n\";\n",
       "            continue;\n",
       "        }\n",
       "        if (anchors[i].hasAttribute(\"id\")) {\n",
       "            // when converted in RST\n",
       "            href = anchors[i].id;\n",
       "            text_memo += \"#1-\" + href;\n",
       "            // passer à child suivant (le chercher)\n",
       "        }\n",
       "        else if (child.hasAttribute(\"id\")) {\n",
       "            // in a notebook\n",
       "            href = child.id;\n",
       "            text_memo += \"#2-\" + href;\n",
       "        }\n",
       "        else {\n",
       "            text_memo += \"#3-\" + \"*\" + \"\\n\";\n",
       "            continue;\n",
       "        }\n",
       "        var title = child.textContent;\n",
       "        var level = parseInt(child.tagName.substring(1,2));\n",
       "\n",
       "        text_memo += \"--\" + level + \"?\" + lfirst + \"--\" + title + \"\\n\";\n",
       "\n",
       "        if ((level < lfirst) || (level > llast)) {\n",
       "            continue ;\n",
       "        }\n",
       "        if (title.endsWith('¶')) {\n",
       "            title = title.substring(0,title.length-1).replace(\"<\", \"&lt;\")\n",
       "         .replace(\">\", \"&gt;\").replace(\"&\", \"&amp;\");\n",
       "        }\n",
       "        if (title.length == 0) {\n",
       "            continue;\n",
       "        }\n",
       "\n",
       "        while (level < memo_level) {\n",
       "            text_menu += end_format + \"</ul>\\n\";\n",
       "            format_open -= 1;\n",
       "            memo_level -= 1;\n",
       "        }\n",
       "        if (level == lfirst) {\n",
       "            main_item += 1;\n",
       "        }\n",
       "        if (keep_item != -1 && main_item != keep_item + 1) {\n",
       "            // alert(main_item + \" - \" + level + \" - \" + keep_item);\n",
       "            continue;\n",
       "        }\n",
       "        while (level > memo_level) {\n",
       "            text_menu += \"<ul>\\n\";\n",
       "            memo_level += 1;\n",
       "        }\n",
       "        text_menu += repeat_indent_string(level-2);\n",
       "        text_menu += begin_format + sformat.replace(\"__HREF__\", href).replace(\"__TITLE__\", title);\n",
       "        format_open += 1;\n",
       "    }\n",
       "    while (1 < memo_level) {\n",
       "        text_menu += end_format + \"</ul>\\n\";\n",
       "        memo_level -= 1;\n",
       "        format_open -= 1;\n",
       "    }\n",
       "    text_menu += send;\n",
       "    //text_menu += \"\\n\" + text_memo;\n",
       "\n",
       "    while (format_open > 0) {\n",
       "        text_menu += end_format;\n",
       "        format_open -= 1;\n",
       "    }\n",
       "    return text_menu;\n",
       "};\n",
       "var update_menu = function() {\n",
       "    var sbegin = \"\";\n",
       "    var sformat = '<a href=\"#__HREF__\">__TITLE__</a>';\n",
       "    var send = \"\";\n",
       "    var begin_format = '<li>';\n",
       "    var end_format = '</li>';\n",
       "    var keep_item = -1;\n",
       "    var text_menu = update_menu_string(sbegin, 2, 4, sformat, send, keep_item,\n",
       "       begin_format, end_format);\n",
       "    var menu = document.getElementById(\"my_id_menu_nb\");\n",
       "    menu.innerHTML=text_menu;\n",
       "};\n",
       "window.setTimeout(update_menu,2000);\n",
       "            </script>"
      ],
      "text/plain": [
       "<IPython.core.display.HTML object>"
      ]
     },
     "execution_count": 1,
     "metadata": {},
     "output_type": "execute_result"
    }
   ],
   "source": [
    "import warnings\n",
    "import requests\n",
    "import zipfile\n",
    "import io\n",
    "import pandas as pd\n",
    "from shutil import rmtree\n",
    "from jyquickhelper import add_notebook_menu\n",
    "from unidecode import unidecode\n",
    "import numpy as np\n",
    "\n",
    "import sklearn.metrics\n",
    "from sklearn import svm\n",
    "from sklearn.svm import SVC\n",
    "from sklearn.model_selection import train_test_split\n",
    "from sklearn.metrics import accuracy_score\n",
    "from sklearn.metrics import f1_score\n",
    "from sklearn.metrics import recall_score\n",
    "from sklearn.metrics import precision_score\n",
    "from sklearn import linear_model\n",
    "from sklearn.linear_model import LogisticRegression\n",
    "from sklearn.neighbors import KNeighborsClassifier\n",
    "\n",
    "import tensorflow as tf\n",
    "from sklearn.preprocessing import StandardScaler\n",
    "from tensorflow.keras.models import Sequential\n",
    "from tensorflow.keras.layers import Dense\n",
    "\n",
    "add_notebook_menu()"
   ]
  },
  {
   "cell_type": "code",
   "execution_count": 2,
   "id": "9e7f9ca3",
   "metadata": {},
   "outputs": [],
   "source": [
    "warnings.filterwarnings('ignore')\n",
    "warnings.warn('DelftStack')\n",
    "warnings.warn('Do not show this message')"
   ]
  },
  {
   "cell_type": "markdown",
   "id": "e3ef9ea6",
   "metadata": {},
   "source": [
    "## Préambule : Choix sur la base de données"
   ]
  },
  {
   "cell_type": "markdown",
   "id": "d38feeea",
   "metadata": {},
   "source": [
    "Comme evoqué au début, nous offrons la ici la possibilité de ne garder que les villes de plus de 1000 habitants (aux deux periodes) pour une question de cohérence. En effet, les villes de moins de 1000 habitants peuvent suivre un mode de scrutin différent. Par ailleurs, dans une petite ville, le maire a plus de chance d'être réélu sur des variables non incluses de par sa proximité plus forte avec ses concitoyens."
   ]
  },
  {
   "cell_type": "code",
   "execution_count": 3,
   "id": "efd4edb6",
   "metadata": {},
   "outputs": [],
   "source": [
    "# Variable booléenne\n",
    "#Si True, on ne garde que les villes de plus de 1000 habitants\n",
    "grosse_Ville = True"
   ]
  },
  {
   "cell_type": "markdown",
   "id": "2fa90a36",
   "metadata": {},
   "source": [
    "Dès que cela est possible, nous allons créer une variable valant l'évolution d'évolution entre 2014 et 2019.\n",
    "Cela va être possible si la variable existe aux deux périodes.\n",
    "\n",
    "Exemple : Pop_diff = population_2019 - population_2013 (Ces noms de variables sont de circonstances et non les mêmes que dans notre base)."
   ]
  },
  {
   "cell_type": "code",
   "execution_count": 4,
   "id": "aee1d404",
   "metadata": {},
   "outputs": [],
   "source": [
    "# Prenons-nous en compte l'évolution de 2013 à 2019 ?\n",
    "# Mettre la variable à True si cela est souhaité\n",
    "dynamique_temporelle = True"
   ]
  },
  {
   "cell_type": "markdown",
   "id": "6d558613",
   "metadata": {},
   "source": [
    "Afin de savoir où en est l'exécution du notebook, il est possible d'activer ce paramètre."
   ]
  },
  {
   "cell_type": "code",
   "execution_count": 5,
   "id": "d63b6f65",
   "metadata": {},
   "outputs": [],
   "source": [
    "Suivi = True"
   ]
  },
  {
   "cell_type": "markdown",
   "id": "3f5c9d4f",
   "metadata": {},
   "source": [
    "## 0 - Création de la base d'entraînement et de celle de test"
   ]
  },
  {
   "cell_type": "code",
   "execution_count": 6,
   "id": "02d06ced",
   "metadata": {},
   "outputs": [
    {
     "name": "stdout",
     "output_type": "stream",
     "text": [
      "Tâche effectuée\n"
     ]
    }
   ],
   "source": [
    "insee = pd.read_csv('Données élections et INSEE.csv')\n",
    "\n",
    "# Suivi de l'exécution si voulu\n",
    "if Suivi == True :\n",
    "    print(\"Tâche effectuée\")"
   ]
  },
  {
   "cell_type": "code",
   "execution_count": 7,
   "id": "fea86345",
   "metadata": {},
   "outputs": [
    {
     "name": "stdout",
     "output_type": "stream",
     "text": [
      "Tâche effectuée\n"
     ]
    }
   ],
   "source": [
    "# On crée la dataframe avec les observations où le maire s'est représenté\n",
    "insee2 = insee[insee[\"Tentative de réélection\"]==True]\n",
    "\n",
    "# Suivi de l'exécution si voulu\n",
    "if Suivi == True :\n",
    "    print(\"Tâche effectuée\")"
   ]
  },
  {
   "cell_type": "markdown",
   "id": "6d6872c4",
   "metadata": {},
   "source": [
    "Gestion de la taille des villes considérées :"
   ]
  },
  {
   "cell_type": "code",
   "execution_count": 8,
   "id": "ed2b7d16",
   "metadata": {},
   "outputs": [
    {
     "name": "stdout",
     "output_type": "stream",
     "text": [
      "Tâche effectuée\n"
     ]
    }
   ],
   "source": [
    "if grosse_Ville == True :\n",
    "    \n",
    "    insee2 = insee2[insee2[\"P19_POP\"] >= 1000]    \n",
    "    insee2 = insee2[insee2[\"P13_POP\"] >= 1000]\n",
    "\n",
    "# Suivi de l'exécution si voulu\n",
    "if Suivi == True :\n",
    "    print(\"Tâche effectuée\")"
   ]
  },
  {
   "cell_type": "markdown",
   "id": "c96b9bbf",
   "metadata": {},
   "source": [
    "Nous avons besoin du vecteur contenant la variable à prévoir."
   ]
  },
  {
   "cell_type": "code",
   "execution_count": 9,
   "id": "e4c057c0",
   "metadata": {},
   "outputs": [
    {
     "name": "stdout",
     "output_type": "stream",
     "text": [
      "Tâche effectuée\n"
     ]
    }
   ],
   "source": [
    "# On crée le vecteur contenant résultat\n",
    "Reelection = insee2[\"Nom de l'élu en 2020\"] == insee2[\"Nom de l'élu en 2014\"]\n",
    "\n",
    "# Suivi de l'exécution si voulu\n",
    "if Suivi == True :\n",
    "    print(\"Tâche effectuée\")"
   ]
  },
  {
   "cell_type": "code",
   "execution_count": 10,
   "id": "b16e50b3",
   "metadata": {},
   "outputs": [
    {
     "name": "stdout",
     "output_type": "stream",
     "text": [
      "Tâche effectuée\n"
     ]
    }
   ],
   "source": [
    "# On va réduire insee2 en ne gardant que les données de 2014 et 2020 qui sont des valeurs chiffrées\n",
    "# Valeurs chiffrées\n",
    "temp = insee2.select_dtypes(include = [\"int64\", \"float64\"])\n",
    "insee2 = pd.concat([insee2[\"CODGEO\"], temp], axis = 1)\n",
    "# Années gardées\n",
    "for i in insee2.columns :\n",
    "    if i[0:3]!=\"P19\" and i[0:3]!=\"P13\" and i!=\"CODGEO\":\n",
    "        insee2 = insee2.drop(i, axis = 1)\n",
    "        \n",
    "# Suivi de l'exécution si voulu\n",
    "if Suivi == True :\n",
    "    print(\"Tâche effectuée\")"
   ]
  },
  {
   "cell_type": "markdown",
   "id": "f69a557f",
   "metadata": {},
   "source": [
    "Si l'on veut être surs que nos modèles soient comparables, il faut centrer et réduire nos données."
   ]
  },
  {
   "cell_type": "code",
   "execution_count": 11,
   "id": "0253070d",
   "metadata": {},
   "outputs": [
    {
     "name": "stdout",
     "output_type": "stream",
     "text": [
      "Tâche effectuée\n"
     ]
    }
   ],
   "source": [
    "temp2 = insee[\"CODGEO\"]\n",
    "\n",
    "var = insee2.std()\n",
    "moy = insee2.mean()\n",
    "\n",
    "insee2 = (insee2-moy)/var\n",
    "insee2[\"CODGEO\"]=temp2\n",
    "\n",
    "# Suivi de l'exécution si voulu\n",
    "if Suivi == True :\n",
    "    print(\"Tâche effectuée\")"
   ]
  },
  {
   "cell_type": "code",
   "execution_count": 12,
   "id": "60174380",
   "metadata": {},
   "outputs": [
    {
     "name": "stdout",
     "output_type": "stream",
     "text": [
      "Tâche effectuée\n"
     ]
    }
   ],
   "source": [
    "# Certaines de nos colonnes contiennent (énormément) de NaNs.\n",
    "# Seulement quelques colonnes, redondantes entre 2013 et 2020, sont concernées.\n",
    "# Par simplicité, nous les enlevons donc.\n",
    "liste = []\n",
    "for i in insee2.columns:\n",
    "        if insee2[i].isnull().values.any()==True :\n",
    "            liste.append(i)\n",
    "            \n",
    "insee2 = insee2.drop(liste, axis = 1)\n",
    "\n",
    "# Suivi de l'exécution si voulu\n",
    "if Suivi == True :\n",
    "    print(\"Tâche effectuée\")"
   ]
  },
  {
   "cell_type": "markdown",
   "id": "5c354d9d",
   "metadata": {},
   "source": [
    "Gestion de la prise en compte ou non de la dynamique entre 2013 et 2019 :"
   ]
  },
  {
   "cell_type": "code",
   "execution_count": 13,
   "id": "bc157648",
   "metadata": {},
   "outputs": [
    {
     "name": "stdout",
     "output_type": "stream",
     "text": [
      "Tâche effectuée\n"
     ]
    }
   ],
   "source": [
    "if dynamique_temporelle == True :\n",
    "    \n",
    "    liste = []\n",
    "    # On fait la liste des variables qui existent aux deux périodes\n",
    "    for i in insee2.columns :\n",
    "        \n",
    "        if i[0:3] == \"P19\" :\n",
    "            temp = \"P13\" + i[3:]\n",
    "            \n",
    "            for j in insee2.columns :\n",
    "                if j == temp :\n",
    "                    liste.append(i[3:])\n",
    "                    break\n",
    "\n",
    "# On ajoute les variables dynamiques possibles à insee2\n",
    "for k in liste :\n",
    "    n1 = \"P19\" + k\n",
    "    n2 = \"P13\" + k\n",
    "    n3 = k + \"_Diff_13_19\"\n",
    "    insee2[n3] = insee2[n1] - insee2[n2]\n",
    "    \n",
    "# Suivi de l'exécution si voulu\n",
    "if Suivi == True :\n",
    "    print(\"Tâche effectuée\")"
   ]
  },
  {
   "cell_type": "markdown",
   "id": "b61244f2",
   "metadata": {},
   "source": [
    "On crée maintenant les bases d'entraînement et de test pour nos différentes modélisations."
   ]
  },
  {
   "cell_type": "code",
   "execution_count": 14,
   "id": "5846b5c8",
   "metadata": {},
   "outputs": [
    {
     "name": "stdout",
     "output_type": "stream",
     "text": [
      "Tâche effectuée\n"
     ]
    }
   ],
   "source": [
    "X_train, X_test, y_train, y_test = train_test_split(insee2, Reelection, test_size=0.2, random_state=6)\n",
    "\n",
    "# Suivi de l'exécution si voulu\n",
    "if Suivi == True :\n",
    "    print(\"Tâche effectuée\")"
   ]
  },
  {
   "cell_type": "markdown",
   "id": "b251165e",
   "metadata": {},
   "source": [
    "Nous allons tester plusieurs méthodes. Afin de savoir laquelle est la \"meilleure\", nous allons les comparer grâce à quatre indicateurs : l'exactitude (accuracy), la précision, le rappel (recall) ainsi que la statistique F1.\n",
    "\n",
    "L'exactitude regarde à quel point les données simulées sont proches de la réalité et regarde donc la proportion des résultats dont l'issue est la bonne.\n",
    "\n",
    "La précision correspond au nombre de vrais positifs sur le nombre de prédictions positives.\n",
    "\n",
    "Le rappel correspond au nombre de vrais positifs sur le nombre réel de positifs.\n",
    "\n",
    "La statistique F1 correspond à $\\frac{2 \\times precision \\times rappel}{precision + rappel}$."
   ]
  },
  {
   "cell_type": "code",
   "execution_count": 15,
   "id": "a4616d2a",
   "metadata": {},
   "outputs": [],
   "source": [
    "# Création de la base contenant ces données :\n",
    "Stats_Modeles = pd.DataFrame(columns = [\"Modèle\", \"Accuracy\", \"Precision\", \"Recall\", \"Score F1\", \"Coefficients tous nuls ?\", \"Nombre de coefficients non nuls\"])\n",
    "\n",
    "# Prend un vecteur et renvoie le nombre d'éléments non nuls de ce vecteur\n",
    "# eps_ou_non est un booléen.\n",
    "#S'il vaut True, on ne considère pas une églité stricte, mais si la distance entre deux valurs est supérieure à eps ou non\n",
    "def nombre_Non_Nuls(vect, eps = 0, eps_ou_non = False):\n",
    "    \n",
    "    non_nul = 0\n",
    "    if eps_ou_non == False :\n",
    "        for i in range(len(vect)):\n",
    "            if vect[i] != 0 :\n",
    "                non_nul = non_nul + 1\n",
    "                \n",
    "    else :\n",
    "        for i in range (len(vect)):\n",
    "            if (abs(vect[i])) > 0 :\n",
    "                non_nul = non_nul + 1\n",
    "            \n",
    "    return non_nul\n",
    "\n",
    "# Ajoute une ligne à la dataframe avec les statistiques du modèle\n",
    "# M correspond au nom du modèle\n",
    "# y_t correspond à l'échantillon connu \n",
    "# y_p correspond à l'échantillon prédis\n",
    "# C dit si les coefficients sont nuls s'ils existent (ce qui correspond à un modèle constat)\n",
    "# nb_C donne le nombre de coefficients non nuls s'ils existent\n",
    "def plusUneLigne(M, y_t, y_p, C, nb_C):\n",
    "    \n",
    "    # On évalue les stats du modèle\n",
    "    ac = sklearn.metrics.accuracy_score(y_t, y_p)\n",
    "    prec = sklearn.metrics.precision_score(y_t, y_p)\n",
    "    recall = sklearn.metrics.recall_score(y_t, y_p)\n",
    "    f1 = sklearn.metrics.f1_score(y_t, y_p)\n",
    "    \n",
    "\n",
    "    return Stats_Modeles.append({\"Modèle\" : M,\n",
    "                                          \"Accuracy\" : ac,\n",
    "                                          \"Precision\" : prec,\n",
    "                                          \"Recall\" : recall,\n",
    "                                          \"Score F1\" : f1,\n",
    "                                          \"Coefficients tous nuls ?\" : C,\n",
    "                                          \"Nombre de coefficients non nuls\" : nb_C},\n",
    "                                          ignore_index=True)\n",
    "\n",
    "# Calcule le modèle et l'ajoute à la liste recensant l'efficacité des différents modèles\n",
    "# clf correspond au modèle utilisé\n",
    "# nom correspond au nom du modèle\n",
    "# X_te et y_te aux variables de test\n",
    "# X_tr, y_tr aux variables d'entraînement\n",
    "# coeffs est un booléen selon de si le modèle utilise des coefficients\n",
    "# binarisation est un booléen informant de s'il faut binariser le modèle\n",
    "def modelise_Puis_Resume(clf, nom, X_tr, y_tr, X_te, y_te, coeffs, binarisation):\n",
    "    \n",
    "    # Calcul du modèle\n",
    "    clf.fit(X_tr, y_tr)\n",
    "    y_pred = clf.predict(X_te)\n",
    "    \n",
    "    # Binarisation si nécessaire des modèles autres\n",
    "    if binarisation == True :\n",
    "        for j in range(len(y_pred)):\n",
    "            if y_pred[j]<0.5:\n",
    "                y_pred[j] = 0\n",
    "            else :\n",
    "                y_pred[j] = 1\n",
    "                \n",
    "    # Prise en compte des informations des coefficients si le modèle en utilise\n",
    "    nul = np.nan\n",
    "    non_nuls = np.nan\n",
    "    if coeffs == True :\n",
    "        if clf.coef_.ndim == 1:\n",
    "            nul = np.array_equal(clf.coef_, np.zeros(X_te.shape[1]))\n",
    "            non_nuls = nombre_Non_Nuls(clf.coef_)\n",
    "            \n",
    "        elif clf.coef_.ndim == 2 and clf.coef_.shape[0] == 1 :\n",
    "            nul = np.array_equal(clf.coef_[0], np.zeros(X_te.shape[1]))\n",
    "            non_nuls = nombre_Non_Nuls(clf.coef_[0])\n",
    "        else :\n",
    "            print(\"Modèle pas encore compatible\")\n",
    " \n",
    "    S_M = plusUneLigne(nom, y_te, y_pred, nul, non_nuls)\n",
    "    return S_M\n",
    "    "
   ]
  },
  {
   "cell_type": "markdown",
   "id": "1efbe30b",
   "metadata": {},
   "source": [
    "## 1 - Méthode du lasso"
   ]
  },
  {
   "cell_type": "markdown",
   "id": "9ae7a1ef",
   "metadata": {},
   "source": [
    "Nous avons ici une base de données avec beaucoup de variables. De ce fait, avec la méthode du lasso, qui ajoute une pénalisation correspondant à la norme 2 du vecteur des $\\beta_i$. La formule du lasso est la suivante :\n",
    "$ \\hat{\\beta} = argmin_{\\beta \\in \\mathbb{R}^k } = \\frac{1}{n} \\sum_{i=1}^{n}{(Y_i - X_i^{'}  \\beta)^2 + \\lambda ||\\beta||_1}$ où $\\lambda \\in \\mathbb{R}^{+}$ est un coefficient de pondération. Plus $\\lambda$ est grand, plus le nombre de coefficients $\\beta_i$ égal à zéro augmente.\n",
    "\n",
    "Ce modèle est continue donc on ne trouvera pas un $\\hat{y}_i \\in \\{ 0; 1\\}$ mais dans $[\\ 0; 1]\\ $ correspondant plutôt à une probabilité d'être réélu(e). On binarise alors notre vecteur en donnant la valeur de un aux probabilités supérieures à $\\frac{1}{2}$ et zéro à celles inférieures : $ \\hat{y_i}' = \\mathbb{1}_{ [\\ \\frac{1}{2}; 1]\\ }(y_i) $."
   ]
  },
  {
   "cell_type": "code",
   "execution_count": 16,
   "id": "2aa93c06",
   "metadata": {},
   "outputs": [
    {
     "name": "stdout",
     "output_type": "stream",
     "text": [
      "Modèle  Lasso (α = 0.1)  effectué\n",
      "Modèle  Lasso (α = 0.001)  effectué\n",
      "Modèle  Lasso (α = 0.0001)  effectué\n",
      "Modèle  Lasso (α = 1e-05)  effectué\n",
      "Modèle  Lasso (α = 0)  effectué\n"
     ]
    }
   ],
   "source": [
    "lambdas = [ 0.1, 0.001, 0.0001, 0.00001, 0]\n",
    "\n",
    "for i in lambdas :\n",
    "    clf = linear_model.Lasso(alpha=i)\n",
    "    nom_temp = \"Lasso (α = \" + str(i)+ \")\"\n",
    "    \n",
    "    Stats_Modeles = modelise_Puis_Resume(clf, nom_temp, X_train.drop(\"CODGEO\", axis=1), y_train, X_test.drop(\"CODGEO\", axis=1), y_test, True, True)\n",
    "    \n",
    "    # Suivi de l'exécution si voulu\n",
    "    if Suivi == True :\n",
    "        print(\"Modèle \", nom_temp, \" effectué\")\n",
    "    "
   ]
  },
  {
   "cell_type": "markdown",
   "id": "caa71719",
   "metadata": {},
   "source": [
    "## 2 - Régression logistique"
   ]
  },
  {
   "cell_type": "markdown",
   "id": "0619e7a0",
   "metadata": {},
   "source": [
    "Le second modèle que nous allons utiliser correspond au modèle logistique."
   ]
  },
  {
   "cell_type": "code",
   "execution_count": 17,
   "id": "48fd8e71",
   "metadata": {},
   "outputs": [
    {
     "name": "stdout",
     "output_type": "stream",
     "text": [
      "Modèle  Logistique (solver = lbfgs)  effectué\n",
      "Modèle  Logistique (solver = liblinear)  effectué\n",
      "Modèle  Logistique (solver = sag)  effectué\n"
     ]
    }
   ],
   "source": [
    "solvers = [\"lbfgs\", \"liblinear\", \"sag\" ]\n",
    "\n",
    "for i in solvers:\n",
    "    clf = LogisticRegression(random_state=0, solver = i, max_iter = 1000)\n",
    "    nom_temp = \"Logistique (solver = \" + i + \")\"\n",
    "    \n",
    "    Stats_Modeles = modelise_Puis_Resume(clf, nom_temp, X_train.drop(\"CODGEO\", axis=1), y_train, X_test.drop(\"CODGEO\", axis=1), y_test, True, False)\n",
    "    \n",
    "    # Suivi de l'exécution si voulu\n",
    "    if Suivi == True :\n",
    "        print(\"Modèle \", nom_temp, \" effectué\")"
   ]
  },
  {
   "cell_type": "markdown",
   "id": "f031e144",
   "metadata": {},
   "source": [
    "## 3 - Méthode des k plus proches voisins"
   ]
  },
  {
   "cell_type": "markdown",
   "id": "d26a0443",
   "metadata": {},
   "source": [
    "La méthode des k plus proches voisins ($ k \\in \\mathbb{N}^* $) regarde l'issue la plus présente parmi les k observations qui sont les plus proches de notre observation donc l'issue est à prévoir. La notion de proche peut varier suivant la distance choisie."
   ]
  },
  {
   "cell_type": "code",
   "execution_count": 18,
   "id": "1992f062",
   "metadata": {},
   "outputs": [
    {
     "name": "stdout",
     "output_type": "stream",
     "text": [
      "Modèle  5 plus proches voisins  effectué\n",
      "Modèle  11 plus proches voisins  effectué\n",
      "Modèle  101 plus proches voisins  effectué\n",
      "Modèle  1001 plus proches voisins  effectué\n"
     ]
    }
   ],
   "source": [
    "combien_voisins = [5, 11, 101, 1001]   \n",
    "\n",
    "for i in combien_voisins :    \n",
    "    clf = KNeighborsClassifier(n_neighbors=i)\n",
    "    nom_temp = str(i) + \" plus proches voisins\"\n",
    "    \n",
    "    Stats_Modeles = modelise_Puis_Resume(clf, nom_temp, X_train.drop(\"CODGEO\", axis=1), y_train, X_test.drop(\"CODGEO\", axis=1), y_test, False, False)\n",
    "    \n",
    "    # Suivi de l'exécution si voulu\n",
    "    if Suivi == True :\n",
    "        print(\"Modèle \", nom_temp, \" effectué\")"
   ]
  },
  {
   "cell_type": "markdown",
   "id": "e3508236",
   "metadata": {},
   "source": [
    "## 4 - Modèle SVM"
   ]
  },
  {
   "cell_type": "markdown",
   "id": "9af96732",
   "metadata": {},
   "source": [
    "On essaie également ce modèle vu en cours qui essaie de séparer les données en divers hyperplans."
   ]
  },
  {
   "cell_type": "code",
   "execution_count": 19,
   "id": "931cfe0f",
   "metadata": {},
   "outputs": [
    {
     "name": "stdout",
     "output_type": "stream",
     "text": [
      "Modèle  SVM (kernel = linear)  effectué\n",
      "Modèle  SVM (kernel = rbf)  effectué\n",
      "Modèle  SVM (kernel = sigmoid)  effectué\n",
      "Modèle  SVM (kernel = poly)  effectué\n"
     ]
    }
   ],
   "source": [
    "kernels = [\"linear\", \"rbf\", \"sigmoid\", \"poly\"]\n",
    "\n",
    "for i in kernels :\n",
    "\n",
    "    clf = SVC(kernel = i, degree = 10)\n",
    "    nom_temp = \"SVM (kernel = \" + i + \")\"\n",
    "    \n",
    "    if i == \"linear\" :\n",
    "        coeffic = True\n",
    "    else :\n",
    "        coeffic = False\n",
    "    \n",
    "    \n",
    "    Stats_Modeles = modelise_Puis_Resume(clf, nom_temp, X_train.drop(\"CODGEO\", axis=1), y_train, X_test.drop(\"CODGEO\", axis=1), y_test, coeffic, False)\n",
    "    \n",
    "    # Suivi de l'exécution si voulu\n",
    "    if Suivi == True :\n",
    "        print(\"Modèle \", nom_temp, \" effectué\")"
   ]
  },
  {
   "cell_type": "code",
   "execution_count": 20,
   "id": "99ea33ce",
   "metadata": {},
   "outputs": [
    {
     "data": {
      "text/html": [
       "<div>\n",
       "<style scoped>\n",
       "    .dataframe tbody tr th:only-of-type {\n",
       "        vertical-align: middle;\n",
       "    }\n",
       "\n",
       "    .dataframe tbody tr th {\n",
       "        vertical-align: top;\n",
       "    }\n",
       "\n",
       "    .dataframe thead th {\n",
       "        text-align: right;\n",
       "    }\n",
       "</style>\n",
       "<table border=\"1\" class=\"dataframe\">\n",
       "  <thead>\n",
       "    <tr style=\"text-align: right;\">\n",
       "      <th></th>\n",
       "      <th>Modèle</th>\n",
       "      <th>Accuracy</th>\n",
       "      <th>Precision</th>\n",
       "      <th>Recall</th>\n",
       "      <th>Score F1</th>\n",
       "      <th>Coefficients tous nuls ?</th>\n",
       "      <th>Nombre de coefficients non nuls</th>\n",
       "    </tr>\n",
       "  </thead>\n",
       "  <tbody>\n",
       "    <tr>\n",
       "      <th>0</th>\n",
       "      <td>Lasso (α = 0.1)</td>\n",
       "      <td>0.841073</td>\n",
       "      <td>0.841073</td>\n",
       "      <td>1.000000</td>\n",
       "      <td>0.913677</td>\n",
       "      <td>True</td>\n",
       "      <td>0</td>\n",
       "    </tr>\n",
       "    <tr>\n",
       "      <th>1</th>\n",
       "      <td>Lasso (α = 0.001)</td>\n",
       "      <td>0.839009</td>\n",
       "      <td>0.840745</td>\n",
       "      <td>0.997546</td>\n",
       "      <td>0.912458</td>\n",
       "      <td>False</td>\n",
       "      <td>56</td>\n",
       "    </tr>\n",
       "    <tr>\n",
       "      <th>2</th>\n",
       "      <td>Lasso (α = 0.0001)</td>\n",
       "      <td>0.835913</td>\n",
       "      <td>0.843816</td>\n",
       "      <td>0.987730</td>\n",
       "      <td>0.910119</td>\n",
       "      <td>False</td>\n",
       "      <td>337</td>\n",
       "    </tr>\n",
       "    <tr>\n",
       "      <th>3</th>\n",
       "      <td>Lasso (α = 1e-05)</td>\n",
       "      <td>0.831785</td>\n",
       "      <td>0.843882</td>\n",
       "      <td>0.981595</td>\n",
       "      <td>0.907544</td>\n",
       "      <td>False</td>\n",
       "      <td>809</td>\n",
       "    </tr>\n",
       "    <tr>\n",
       "      <th>4</th>\n",
       "      <td>Lasso (α = 0)</td>\n",
       "      <td>0.830753</td>\n",
       "      <td>0.843717</td>\n",
       "      <td>0.980368</td>\n",
       "      <td>0.906924</td>\n",
       "      <td>False</td>\n",
       "      <td>988</td>\n",
       "    </tr>\n",
       "    <tr>\n",
       "      <th>5</th>\n",
       "      <td>Logistique (solver = lbfgs)</td>\n",
       "      <td>0.826625</td>\n",
       "      <td>0.840168</td>\n",
       "      <td>0.980368</td>\n",
       "      <td>0.904870</td>\n",
       "      <td>False</td>\n",
       "      <td>988</td>\n",
       "    </tr>\n",
       "    <tr>\n",
       "      <th>6</th>\n",
       "      <td>Logistique (solver = liblinear)</td>\n",
       "      <td>0.826625</td>\n",
       "      <td>0.840168</td>\n",
       "      <td>0.980368</td>\n",
       "      <td>0.904870</td>\n",
       "      <td>False</td>\n",
       "      <td>988</td>\n",
       "    </tr>\n",
       "    <tr>\n",
       "      <th>7</th>\n",
       "      <td>Logistique (solver = sag)</td>\n",
       "      <td>0.839009</td>\n",
       "      <td>0.840745</td>\n",
       "      <td>0.997546</td>\n",
       "      <td>0.912458</td>\n",
       "      <td>False</td>\n",
       "      <td>988</td>\n",
       "    </tr>\n",
       "    <tr>\n",
       "      <th>8</th>\n",
       "      <td>5 plus proches voisins</td>\n",
       "      <td>0.824561</td>\n",
       "      <td>0.840549</td>\n",
       "      <td>0.976687</td>\n",
       "      <td>0.903519</td>\n",
       "      <td>NaN</td>\n",
       "      <td>NaN</td>\n",
       "    </tr>\n",
       "    <tr>\n",
       "      <th>9</th>\n",
       "      <td>11 plus proches voisins</td>\n",
       "      <td>0.834881</td>\n",
       "      <td>0.840083</td>\n",
       "      <td>0.992638</td>\n",
       "      <td>0.910011</td>\n",
       "      <td>NaN</td>\n",
       "      <td>NaN</td>\n",
       "    </tr>\n",
       "    <tr>\n",
       "      <th>10</th>\n",
       "      <td>101 plus proches voisins</td>\n",
       "      <td>0.841073</td>\n",
       "      <td>0.841073</td>\n",
       "      <td>1.000000</td>\n",
       "      <td>0.913677</td>\n",
       "      <td>NaN</td>\n",
       "      <td>NaN</td>\n",
       "    </tr>\n",
       "    <tr>\n",
       "      <th>11</th>\n",
       "      <td>1001 plus proches voisins</td>\n",
       "      <td>0.841073</td>\n",
       "      <td>0.841073</td>\n",
       "      <td>1.000000</td>\n",
       "      <td>0.913677</td>\n",
       "      <td>NaN</td>\n",
       "      <td>NaN</td>\n",
       "    </tr>\n",
       "    <tr>\n",
       "      <th>12</th>\n",
       "      <td>SVM (kernel = linear)</td>\n",
       "      <td>0.839009</td>\n",
       "      <td>0.841451</td>\n",
       "      <td>0.996319</td>\n",
       "      <td>0.912360</td>\n",
       "      <td>False</td>\n",
       "      <td>988</td>\n",
       "    </tr>\n",
       "    <tr>\n",
       "      <th>13</th>\n",
       "      <td>SVM (kernel = rbf)</td>\n",
       "      <td>0.841073</td>\n",
       "      <td>0.841073</td>\n",
       "      <td>1.000000</td>\n",
       "      <td>0.913677</td>\n",
       "      <td>NaN</td>\n",
       "      <td>NaN</td>\n",
       "    </tr>\n",
       "    <tr>\n",
       "      <th>14</th>\n",
       "      <td>SVM (kernel = sigmoid)</td>\n",
       "      <td>0.802890</td>\n",
       "      <td>0.846667</td>\n",
       "      <td>0.934969</td>\n",
       "      <td>0.888630</td>\n",
       "      <td>NaN</td>\n",
       "      <td>NaN</td>\n",
       "    </tr>\n",
       "    <tr>\n",
       "      <th>15</th>\n",
       "      <td>SVM (kernel = poly)</td>\n",
       "      <td>0.834881</td>\n",
       "      <td>0.842215</td>\n",
       "      <td>0.988957</td>\n",
       "      <td>0.909707</td>\n",
       "      <td>NaN</td>\n",
       "      <td>NaN</td>\n",
       "    </tr>\n",
       "  </tbody>\n",
       "</table>\n",
       "</div>"
      ],
      "text/plain": [
       "                             Modèle  Accuracy  Precision    Recall  Score F1  \\\n",
       "0                   Lasso (α = 0.1)  0.841073   0.841073  1.000000  0.913677   \n",
       "1                 Lasso (α = 0.001)  0.839009   0.840745  0.997546  0.912458   \n",
       "2                Lasso (α = 0.0001)  0.835913   0.843816  0.987730  0.910119   \n",
       "3                 Lasso (α = 1e-05)  0.831785   0.843882  0.981595  0.907544   \n",
       "4                     Lasso (α = 0)  0.830753   0.843717  0.980368  0.906924   \n",
       "5       Logistique (solver = lbfgs)  0.826625   0.840168  0.980368  0.904870   \n",
       "6   Logistique (solver = liblinear)  0.826625   0.840168  0.980368  0.904870   \n",
       "7         Logistique (solver = sag)  0.839009   0.840745  0.997546  0.912458   \n",
       "8            5 plus proches voisins  0.824561   0.840549  0.976687  0.903519   \n",
       "9           11 plus proches voisins  0.834881   0.840083  0.992638  0.910011   \n",
       "10         101 plus proches voisins  0.841073   0.841073  1.000000  0.913677   \n",
       "11        1001 plus proches voisins  0.841073   0.841073  1.000000  0.913677   \n",
       "12            SVM (kernel = linear)  0.839009   0.841451  0.996319  0.912360   \n",
       "13               SVM (kernel = rbf)  0.841073   0.841073  1.000000  0.913677   \n",
       "14           SVM (kernel = sigmoid)  0.802890   0.846667  0.934969  0.888630   \n",
       "15              SVM (kernel = poly)  0.834881   0.842215  0.988957  0.909707   \n",
       "\n",
       "   Coefficients tous nuls ? Nombre de coefficients non nuls  \n",
       "0                      True                               0  \n",
       "1                     False                              56  \n",
       "2                     False                             337  \n",
       "3                     False                             809  \n",
       "4                     False                             988  \n",
       "5                     False                             988  \n",
       "6                     False                             988  \n",
       "7                     False                             988  \n",
       "8                       NaN                             NaN  \n",
       "9                       NaN                             NaN  \n",
       "10                      NaN                             NaN  \n",
       "11                      NaN                             NaN  \n",
       "12                    False                             988  \n",
       "13                      NaN                             NaN  \n",
       "14                      NaN                             NaN  \n",
       "15                      NaN                             NaN  "
      ]
     },
     "execution_count": 20,
     "metadata": {},
     "output_type": "execute_result"
    }
   ],
   "source": [
    "Stats_Modeles"
   ]
  },
  {
   "cell_type": "markdown",
   "id": "b3d77a8a",
   "metadata": {},
   "source": [
    "Blabla."
   ]
  },
  {
   "cell_type": "markdown",
   "id": "0253d3fe",
   "metadata": {},
   "source": [
    "## 5 - Réseau de neurones"
   ]
  },
  {
   "cell_type": "markdown",
   "id": "5e5836e5",
   "metadata": {},
   "source": [
    "Pour les réseaux de neurones, nous allons nous servir de la régression lasso pour présélectionner des variables. Avec le tableau précédent, on obtient que pour α = 0.0001, 337 coefficients sont non-nuls. On va sélectionner ces colonnes pour pouvoir travailler avec."
   ]
  },
  {
   "cell_type": "code",
   "execution_count": 21,
   "id": "708dd6cb",
   "metadata": {},
   "outputs": [],
   "source": [
    "lambda_337 = 0.0001\n",
    "\n",
    "clf = linear_model.Lasso(alpha=lambda_337)\n",
    "nom_temp = \"Lasso (α = \" + str(lambda_337)+ \")\"\n",
    "\n",
    "Stats_Modeles = modelise_Puis_Resume(clf, nom_temp, X_train.drop(\"CODGEO\", axis=1), y_train, X_test.drop(\"CODGEO\", axis=1), y_test, True, True)"
   ]
  },
  {
   "cell_type": "markdown",
   "id": "53df8b72",
   "metadata": {},
   "source": [
    "### Préparation des données"
   ]
  },
  {
   "cell_type": "code",
   "execution_count": 22,
   "id": "1529efa4",
   "metadata": {},
   "outputs": [],
   "source": [
    "def selection_variable(coef):\n",
    "    if coef==0:\n",
    "        return False\n",
    "    return True"
   ]
  },
  {
   "cell_type": "code",
   "execution_count": 23,
   "id": "ac313d59",
   "metadata": {},
   "outputs": [
    {
     "data": {
      "text/html": [
       "<div>\n",
       "<style scoped>\n",
       "    .dataframe tbody tr th:only-of-type {\n",
       "        vertical-align: middle;\n",
       "    }\n",
       "\n",
       "    .dataframe tbody tr th {\n",
       "        vertical-align: top;\n",
       "    }\n",
       "\n",
       "    .dataframe thead th {\n",
       "        text-align: right;\n",
       "    }\n",
       "</style>\n",
       "<table border=\"1\" class=\"dataframe\">\n",
       "  <thead>\n",
       "    <tr style=\"text-align: right;\">\n",
       "      <th></th>\n",
       "      <th>P13_ACTOCC15P_2ROUES</th>\n",
       "      <th>P13_ACTOCC15P_COMMUN</th>\n",
       "      <th>P13_ACTOCC15P_ILT1</th>\n",
       "      <th>P13_ACTOCC15P_ILT3</th>\n",
       "      <th>P13_ACTOCC15P_ILT4</th>\n",
       "      <th>P13_ACTOCC15P_ILT5</th>\n",
       "      <th>P13_ACTOCC15P_MARCHE</th>\n",
       "      <th>P13_ACTOCC15P_TP</th>\n",
       "      <th>P13_AINACT1564</th>\n",
       "      <th>P13_ANEM_RP_GRAT</th>\n",
       "      <th>...</th>\n",
       "      <th>_RPMAISON_ACH05_Diff_13_19</th>\n",
       "      <th>_RPMAISON_ACH19_Diff_13_19</th>\n",
       "      <th>_RPMAISON_ACH70_Diff_13_19</th>\n",
       "      <th>_RPMAISON_ACH90_Diff_13_19</th>\n",
       "      <th>_RP_1P_Diff_13_19</th>\n",
       "      <th>_RP_4P_Diff_13_19</th>\n",
       "      <th>_RP_GARL_Diff_13_19</th>\n",
       "      <th>_RP_GRAT_Diff_13_19</th>\n",
       "      <th>_RP_LOCHLMV_Diff_13_19</th>\n",
       "      <th>_SCOL1824_Diff_13_19</th>\n",
       "    </tr>\n",
       "  </thead>\n",
       "  <tbody>\n",
       "    <tr>\n",
       "      <th>2</th>\n",
       "      <td>0.106001</td>\n",
       "      <td>0.259940</td>\n",
       "      <td>0.360250</td>\n",
       "      <td>0.527978</td>\n",
       "      <td>-0.038549</td>\n",
       "      <td>-0.105747</td>\n",
       "      <td>0.400678</td>\n",
       "      <td>0.390638</td>\n",
       "      <td>0.428344</td>\n",
       "      <td>0.042586</td>\n",
       "      <td>...</td>\n",
       "      <td>-0.908665</td>\n",
       "      <td>-2.011354</td>\n",
       "      <td>-0.292008</td>\n",
       "      <td>-2.546828</td>\n",
       "      <td>1.615686</td>\n",
       "      <td>-0.512123</td>\n",
       "      <td>-0.076167</td>\n",
       "      <td>-0.731350</td>\n",
       "      <td>1.746927</td>\n",
       "      <td>0.659612</td>\n",
       "    </tr>\n",
       "    <tr>\n",
       "      <th>3</th>\n",
       "      <td>-0.183068</td>\n",
       "      <td>-0.184299</td>\n",
       "      <td>-0.185530</td>\n",
       "      <td>0.048791</td>\n",
       "      <td>-0.283289</td>\n",
       "      <td>-0.146479</td>\n",
       "      <td>-0.225680</td>\n",
       "      <td>-0.229515</td>\n",
       "      <td>-0.294402</td>\n",
       "      <td>-0.302832</td>\n",
       "      <td>...</td>\n",
       "      <td>-0.210221</td>\n",
       "      <td>-0.070321</td>\n",
       "      <td>0.048402</td>\n",
       "      <td>-0.165334</td>\n",
       "      <td>0.023840</td>\n",
       "      <td>0.000407</td>\n",
       "      <td>0.276371</td>\n",
       "      <td>0.186707</td>\n",
       "      <td>0.171542</td>\n",
       "      <td>0.094987</td>\n",
       "    </tr>\n",
       "    <tr>\n",
       "      <th>8</th>\n",
       "      <td>-0.190943</td>\n",
       "      <td>-0.190884</td>\n",
       "      <td>-0.199360</td>\n",
       "      <td>-0.120087</td>\n",
       "      <td>-0.323827</td>\n",
       "      <td>0.065608</td>\n",
       "      <td>-0.238198</td>\n",
       "      <td>-0.293991</td>\n",
       "      <td>-0.300120</td>\n",
       "      <td>-0.308229</td>\n",
       "      <td>...</td>\n",
       "      <td>0.163356</td>\n",
       "      <td>-0.338995</td>\n",
       "      <td>-0.024352</td>\n",
       "      <td>-0.033161</td>\n",
       "      <td>-0.010238</td>\n",
       "      <td>-0.139256</td>\n",
       "      <td>0.090905</td>\n",
       "      <td>-0.176221</td>\n",
       "      <td>-0.052868</td>\n",
       "      <td>-0.015816</td>\n",
       "    </tr>\n",
       "    <tr>\n",
       "      <th>15</th>\n",
       "      <td>-0.172871</td>\n",
       "      <td>-0.183887</td>\n",
       "      <td>-0.182186</td>\n",
       "      <td>0.023002</td>\n",
       "      <td>-0.283869</td>\n",
       "      <td>-0.146519</td>\n",
       "      <td>-0.195615</td>\n",
       "      <td>-0.257195</td>\n",
       "      <td>-0.273563</td>\n",
       "      <td>-0.262755</td>\n",
       "      <td>...</td>\n",
       "      <td>0.139294</td>\n",
       "      <td>-0.228784</td>\n",
       "      <td>0.047392</td>\n",
       "      <td>0.023346</td>\n",
       "      <td>-0.009739</td>\n",
       "      <td>0.111975</td>\n",
       "      <td>0.078748</td>\n",
       "      <td>0.051759</td>\n",
       "      <td>-0.120827</td>\n",
       "      <td>0.137012</td>\n",
       "    </tr>\n",
       "    <tr>\n",
       "      <th>16</th>\n",
       "      <td>-0.197567</td>\n",
       "      <td>-0.184786</td>\n",
       "      <td>-0.182601</td>\n",
       "      <td>-0.197918</td>\n",
       "      <td>-0.333230</td>\n",
       "      <td>-0.112648</td>\n",
       "      <td>-0.187511</td>\n",
       "      <td>-0.281497</td>\n",
       "      <td>-0.282474</td>\n",
       "      <td>-0.215467</td>\n",
       "      <td>...</td>\n",
       "      <td>-0.425778</td>\n",
       "      <td>-0.093473</td>\n",
       "      <td>0.383524</td>\n",
       "      <td>-0.267670</td>\n",
       "      <td>-0.008232</td>\n",
       "      <td>0.040090</td>\n",
       "      <td>0.031133</td>\n",
       "      <td>-0.140090</td>\n",
       "      <td>-0.080171</td>\n",
       "      <td>0.191983</td>\n",
       "    </tr>\n",
       "    <tr>\n",
       "      <th>...</th>\n",
       "      <td>...</td>\n",
       "      <td>...</td>\n",
       "      <td>...</td>\n",
       "      <td>...</td>\n",
       "      <td>...</td>\n",
       "      <td>...</td>\n",
       "      <td>...</td>\n",
       "      <td>...</td>\n",
       "      <td>...</td>\n",
       "      <td>...</td>\n",
       "      <td>...</td>\n",
       "      <td>...</td>\n",
       "      <td>...</td>\n",
       "      <td>...</td>\n",
       "      <td>...</td>\n",
       "      <td>...</td>\n",
       "      <td>...</td>\n",
       "      <td>...</td>\n",
       "      <td>...</td>\n",
       "      <td>...</td>\n",
       "      <td>...</td>\n",
       "    </tr>\n",
       "    <tr>\n",
       "      <th>27595</th>\n",
       "      <td>0.114508</td>\n",
       "      <td>-0.007839</td>\n",
       "      <td>0.321483</td>\n",
       "      <td>-0.230608</td>\n",
       "      <td>-0.296643</td>\n",
       "      <td>-0.129577</td>\n",
       "      <td>0.458369</td>\n",
       "      <td>0.597449</td>\n",
       "      <td>1.613193</td>\n",
       "      <td>2.658157</td>\n",
       "      <td>...</td>\n",
       "      <td>-1.788685</td>\n",
       "      <td>-0.116246</td>\n",
       "      <td>-3.930223</td>\n",
       "      <td>7.599079</td>\n",
       "      <td>-0.178670</td>\n",
       "      <td>3.496184</td>\n",
       "      <td>1.056987</td>\n",
       "      <td>1.755801</td>\n",
       "      <td>1.674686</td>\n",
       "      <td>0.537333</td>\n",
       "    </tr>\n",
       "    <tr>\n",
       "      <th>27596</th>\n",
       "      <td>-0.168255</td>\n",
       "      <td>-0.165242</td>\n",
       "      <td>0.095366</td>\n",
       "      <td>-0.230608</td>\n",
       "      <td>-0.205643</td>\n",
       "      <td>-0.150610</td>\n",
       "      <td>0.289302</td>\n",
       "      <td>0.085008</td>\n",
       "      <td>0.577983</td>\n",
       "      <td>0.809953</td>\n",
       "      <td>...</td>\n",
       "      <td>-0.255253</td>\n",
       "      <td>-0.721367</td>\n",
       "      <td>-1.453661</td>\n",
       "      <td>-0.981500</td>\n",
       "      <td>-0.090450</td>\n",
       "      <td>-0.061284</td>\n",
       "      <td>0.025125</td>\n",
       "      <td>1.267414</td>\n",
       "      <td>0.275510</td>\n",
       "      <td>-0.279510</td>\n",
       "    </tr>\n",
       "    <tr>\n",
       "      <th>27597</th>\n",
       "      <td>0.921253</td>\n",
       "      <td>0.051858</td>\n",
       "      <td>2.739565</td>\n",
       "      <td>-0.230608</td>\n",
       "      <td>-0.048120</td>\n",
       "      <td>-0.068640</td>\n",
       "      <td>1.869994</td>\n",
       "      <td>3.477212</td>\n",
       "      <td>7.159557</td>\n",
       "      <td>7.098274</td>\n",
       "      <td>...</td>\n",
       "      <td>8.029524</td>\n",
       "      <td>0.928154</td>\n",
       "      <td>-1.611394</td>\n",
       "      <td>-10.481984</td>\n",
       "      <td>-0.204549</td>\n",
       "      <td>-0.689752</td>\n",
       "      <td>-1.812818</td>\n",
       "      <td>11.818237</td>\n",
       "      <td>1.403548</td>\n",
       "      <td>-3.528268</td>\n",
       "    </tr>\n",
       "    <tr>\n",
       "      <th>27598</th>\n",
       "      <td>-0.096989</td>\n",
       "      <td>-0.114219</td>\n",
       "      <td>-0.006236</td>\n",
       "      <td>-0.230608</td>\n",
       "      <td>-0.278086</td>\n",
       "      <td>-0.146437</td>\n",
       "      <td>0.148769</td>\n",
       "      <td>0.128671</td>\n",
       "      <td>0.365701</td>\n",
       "      <td>0.764077</td>\n",
       "      <td>...</td>\n",
       "      <td>-1.141678</td>\n",
       "      <td>0.268807</td>\n",
       "      <td>-0.708157</td>\n",
       "      <td>-0.325769</td>\n",
       "      <td>0.068626</td>\n",
       "      <td>-0.050748</td>\n",
       "      <td>0.423311</td>\n",
       "      <td>0.611606</td>\n",
       "      <td>0.151193</td>\n",
       "      <td>-0.279851</td>\n",
       "    </tr>\n",
       "    <tr>\n",
       "      <th>27599</th>\n",
       "      <td>-0.100088</td>\n",
       "      <td>-0.170186</td>\n",
       "      <td>0.053914</td>\n",
       "      <td>-0.230608</td>\n",
       "      <td>-0.342538</td>\n",
       "      <td>-0.150610</td>\n",
       "      <td>0.313491</td>\n",
       "      <td>-0.023405</td>\n",
       "      <td>0.283976</td>\n",
       "      <td>1.000941</td>\n",
       "      <td>...</td>\n",
       "      <td>0.869341</td>\n",
       "      <td>-0.085946</td>\n",
       "      <td>0.959922</td>\n",
       "      <td>0.544759</td>\n",
       "      <td>0.064248</td>\n",
       "      <td>-0.032260</td>\n",
       "      <td>-0.371242</td>\n",
       "      <td>-0.357855</td>\n",
       "      <td>0.057166</td>\n",
       "      <td>0.173998</td>\n",
       "    </tr>\n",
       "  </tbody>\n",
       "</table>\n",
       "<p>4843 rows × 337 columns</p>\n",
       "</div>"
      ],
      "text/plain": [
       "       P13_ACTOCC15P_2ROUES  P13_ACTOCC15P_COMMUN  P13_ACTOCC15P_ILT1  \\\n",
       "2                  0.106001              0.259940            0.360250   \n",
       "3                 -0.183068             -0.184299           -0.185530   \n",
       "8                 -0.190943             -0.190884           -0.199360   \n",
       "15                -0.172871             -0.183887           -0.182186   \n",
       "16                -0.197567             -0.184786           -0.182601   \n",
       "...                     ...                   ...                 ...   \n",
       "27595              0.114508             -0.007839            0.321483   \n",
       "27596             -0.168255             -0.165242            0.095366   \n",
       "27597              0.921253              0.051858            2.739565   \n",
       "27598             -0.096989             -0.114219           -0.006236   \n",
       "27599             -0.100088             -0.170186            0.053914   \n",
       "\n",
       "       P13_ACTOCC15P_ILT3  P13_ACTOCC15P_ILT4  P13_ACTOCC15P_ILT5  \\\n",
       "2                0.527978           -0.038549           -0.105747   \n",
       "3                0.048791           -0.283289           -0.146479   \n",
       "8               -0.120087           -0.323827            0.065608   \n",
       "15               0.023002           -0.283869           -0.146519   \n",
       "16              -0.197918           -0.333230           -0.112648   \n",
       "...                   ...                 ...                 ...   \n",
       "27595           -0.230608           -0.296643           -0.129577   \n",
       "27596           -0.230608           -0.205643           -0.150610   \n",
       "27597           -0.230608           -0.048120           -0.068640   \n",
       "27598           -0.230608           -0.278086           -0.146437   \n",
       "27599           -0.230608           -0.342538           -0.150610   \n",
       "\n",
       "       P13_ACTOCC15P_MARCHE  P13_ACTOCC15P_TP  P13_AINACT1564  \\\n",
       "2                  0.400678          0.390638        0.428344   \n",
       "3                 -0.225680         -0.229515       -0.294402   \n",
       "8                 -0.238198         -0.293991       -0.300120   \n",
       "15                -0.195615         -0.257195       -0.273563   \n",
       "16                -0.187511         -0.281497       -0.282474   \n",
       "...                     ...               ...             ...   \n",
       "27595              0.458369          0.597449        1.613193   \n",
       "27596              0.289302          0.085008        0.577983   \n",
       "27597              1.869994          3.477212        7.159557   \n",
       "27598              0.148769          0.128671        0.365701   \n",
       "27599              0.313491         -0.023405        0.283976   \n",
       "\n",
       "       P13_ANEM_RP_GRAT  ...  _RPMAISON_ACH05_Diff_13_19  \\\n",
       "2              0.042586  ...                   -0.908665   \n",
       "3             -0.302832  ...                   -0.210221   \n",
       "8             -0.308229  ...                    0.163356   \n",
       "15            -0.262755  ...                    0.139294   \n",
       "16            -0.215467  ...                   -0.425778   \n",
       "...                 ...  ...                         ...   \n",
       "27595          2.658157  ...                   -1.788685   \n",
       "27596          0.809953  ...                   -0.255253   \n",
       "27597          7.098274  ...                    8.029524   \n",
       "27598          0.764077  ...                   -1.141678   \n",
       "27599          1.000941  ...                    0.869341   \n",
       "\n",
       "       _RPMAISON_ACH19_Diff_13_19  _RPMAISON_ACH70_Diff_13_19  \\\n",
       "2                       -2.011354                   -0.292008   \n",
       "3                       -0.070321                    0.048402   \n",
       "8                       -0.338995                   -0.024352   \n",
       "15                      -0.228784                    0.047392   \n",
       "16                      -0.093473                    0.383524   \n",
       "...                           ...                         ...   \n",
       "27595                   -0.116246                   -3.930223   \n",
       "27596                   -0.721367                   -1.453661   \n",
       "27597                    0.928154                   -1.611394   \n",
       "27598                    0.268807                   -0.708157   \n",
       "27599                   -0.085946                    0.959922   \n",
       "\n",
       "       _RPMAISON_ACH90_Diff_13_19  _RP_1P_Diff_13_19  _RP_4P_Diff_13_19  \\\n",
       "2                       -2.546828           1.615686          -0.512123   \n",
       "3                       -0.165334           0.023840           0.000407   \n",
       "8                       -0.033161          -0.010238          -0.139256   \n",
       "15                       0.023346          -0.009739           0.111975   \n",
       "16                      -0.267670          -0.008232           0.040090   \n",
       "...                           ...                ...                ...   \n",
       "27595                    7.599079          -0.178670           3.496184   \n",
       "27596                   -0.981500          -0.090450          -0.061284   \n",
       "27597                  -10.481984          -0.204549          -0.689752   \n",
       "27598                   -0.325769           0.068626          -0.050748   \n",
       "27599                    0.544759           0.064248          -0.032260   \n",
       "\n",
       "       _RP_GARL_Diff_13_19  _RP_GRAT_Diff_13_19  _RP_LOCHLMV_Diff_13_19  \\\n",
       "2                -0.076167            -0.731350                1.746927   \n",
       "3                 0.276371             0.186707                0.171542   \n",
       "8                 0.090905            -0.176221               -0.052868   \n",
       "15                0.078748             0.051759               -0.120827   \n",
       "16                0.031133            -0.140090               -0.080171   \n",
       "...                    ...                  ...                     ...   \n",
       "27595             1.056987             1.755801                1.674686   \n",
       "27596             0.025125             1.267414                0.275510   \n",
       "27597            -1.812818            11.818237                1.403548   \n",
       "27598             0.423311             0.611606                0.151193   \n",
       "27599            -0.371242            -0.357855                0.057166   \n",
       "\n",
       "       _SCOL1824_Diff_13_19  \n",
       "2                  0.659612  \n",
       "3                  0.094987  \n",
       "8                 -0.015816  \n",
       "15                 0.137012  \n",
       "16                 0.191983  \n",
       "...                     ...  \n",
       "27595              0.537333  \n",
       "27596             -0.279510  \n",
       "27597             -3.528268  \n",
       "27598             -0.279851  \n",
       "27599              0.173998  \n",
       "\n",
       "[4843 rows x 337 columns]"
      ]
     },
     "execution_count": 23,
     "metadata": {},
     "output_type": "execute_result"
    }
   ],
   "source": [
    "# Préparation des données pour X\n",
    "\n",
    "coefs = [True] + [selection_variable(coef) for coef in clf.coef_]\n",
    "# Le premier True sert à selectionner CODGEO, les autres coefficients viennent de la régression lasso\n",
    "X = insee2.loc[:, coefs]\n",
    "\n",
    "# Un premier nettoyage des données avait déjà été opéré, mais il est répété à cause des manipulations qui y ont été faites après\n",
    "X = X.select_dtypes(include=np.number)\n",
    "X.replace([np.inf, -np.inf], np.nan, inplace=True)\n",
    "X = X.fillna(0)\n",
    "col_names = X.columns.values\n",
    "features = X[col_names]\n",
    "features = StandardScaler().fit(features.values).transform(features.values)\n",
    "X[col_names] = features\n",
    "X"
   ]
  },
  {
   "cell_type": "code",
   "execution_count": 24,
   "id": "a536d2af",
   "metadata": {},
   "outputs": [
    {
     "data": {
      "text/plain": [
       "0       1\n",
       "1       1\n",
       "2       1\n",
       "3       1\n",
       "4       0\n",
       "       ..\n",
       "4838    1\n",
       "4839    1\n",
       "4840    1\n",
       "4841    1\n",
       "4842    1\n",
       "Name: 0, Length: 4843, dtype: int64"
      ]
     },
     "execution_count": 24,
     "metadata": {},
     "output_type": "execute_result"
    }
   ],
   "source": [
    "# Préparation des données pour y\n",
    "\n",
    "y = pd.DataFrame(Reelection)[0].reset_index(drop=True).apply(lambda x: int(x))\n",
    "y"
   ]
  },
  {
   "cell_type": "code",
   "execution_count": 25,
   "id": "9dd92f01",
   "metadata": {},
   "outputs": [],
   "source": [
    "X_train, X_test, y_train, y_test = train_test_split(X, y, test_size=0.25, random_state=42)"
   ]
  },
  {
   "cell_type": "markdown",
   "id": "3b46527d",
   "metadata": {},
   "source": [
    "### Modélisation"
   ]
  },
  {
   "cell_type": "code",
   "execution_count": 26,
   "id": "85fa78c8",
   "metadata": {},
   "outputs": [],
   "source": [
    "def Construction_modele(X_train, y_train, hparam1=256, hparam2='relu'):\n",
    "    #Construction couches de neurones\n",
    "    model = tf.keras.models.Sequential()\n",
    "    model.add(tf.keras.layers.Dense(hparam1, activation=hparam2))\n",
    "    model.add(tf.keras.layers.Dense(hparam1, activation=hparam2))\n",
    "    #Softmax permet d'obtenir une probabilité\n",
    "    model.add(tf.keras.layers.Dense(2, activation=\"softmax\"))\n",
    "\n",
    "    #Ajustement modèle et choix de métrique\n",
    "    model.compile(loss=\"sparse_categorical_crossentropy\", optimizer=\"sgd\", metrics=[\"accuracy\"])\n",
    "    \n",
    "    #Entraînement du modèle\n",
    "    model.fit(X_train, y_train, epochs=50, verbose=0)\n",
    "    return model"
   ]
  },
  {
   "cell_type": "code",
   "execution_count": 27,
   "id": "ac2197f5",
   "metadata": {},
   "outputs": [],
   "source": [
    "# On cherche à obtenir la meilleure valeur possible pour les hyperparamètres\n",
    "\n",
    "def fine_tune_coef(X_train, y_train, X_test, y_test, hparam1=256, hparam2='relu'):\n",
    "    réseau = Construction_modele(X_train, y_train, hparam1, hparam2)\n",
    "    test_loss, test_acc = réseau.evaluate(X_test,  y_test, verbose=2)\n",
    "    return test_acc, réseau\n",
    "\n",
    "def fine_tune(X_train, y_train, X_test, y_test, param_dict):\n",
    "    acc_max, model_max = fine_tune_coef(X_train, y_train, X_test,  y_test, hparam1 = 256, hparam2 = 'relu')    \n",
    "    for i in range(3):\n",
    "        for j in range(3):\n",
    "            hp1 = list(param_dist.values())[0][i]\n",
    "            hp2 = list(param_dist.values())[1][j]\n",
    "            test_acc, réseau = fine_tune_coef(X_train, y_train, X_test,  y_test, hparam1=hp1, hparam2=hp2)\n",
    "\n",
    "            if test_acc > acc_max:\n",
    "                acc_max = test_acc\n",
    "                model_max = réseau\n",
    "                \n",
    "    return réseau"
   ]
  },
  {
   "cell_type": "code",
   "execution_count": 28,
   "id": "ffc2bda9",
   "metadata": {},
   "outputs": [
    {
     "name": "stderr",
     "output_type": "stream",
     "text": [
      "2022-12-20 23:39:54.285584: W tensorflow/tsl/platform/profile_utils/cpu_utils.cc:128] Failed to get CPU frequency: 0 Hz\n"
     ]
    },
    {
     "name": "stdout",
     "output_type": "stream",
     "text": [
      "38/38 - 0s - loss: 0.4812 - accuracy: 0.8357 - 91ms/epoch - 2ms/step\n",
      "38/38 - 0s - loss: 0.4584 - accuracy: 0.8390 - 73ms/epoch - 2ms/step\n",
      "38/38 - 0s - loss: 0.4823 - accuracy: 0.8423 - 71ms/epoch - 2ms/step\n",
      "38/38 - 0s - loss: 0.4330 - accuracy: 0.8439 - 75ms/epoch - 2ms/step\n",
      "38/38 - 0s - loss: 0.4664 - accuracy: 0.8332 - 72ms/epoch - 2ms/step\n",
      "38/38 - 0s - loss: 0.4723 - accuracy: 0.8415 - 69ms/epoch - 2ms/step\n",
      "38/38 - 0s - loss: 0.4322 - accuracy: 0.8439 - 70ms/epoch - 2ms/step\n",
      "38/38 - 0s - loss: 0.4860 - accuracy: 0.8448 - 88ms/epoch - 2ms/step\n",
      "38/38 - 0s - loss: 0.4972 - accuracy: 0.8365 - 89ms/epoch - 2ms/step\n",
      "38/38 - 0s - loss: 0.4318 - accuracy: 0.8439 - 75ms/epoch - 2ms/step\n"
     ]
    }
   ],
   "source": [
    "# \"A la main\", on cherche à optimiser la valeur des hyperparamètres pour obtenir la meilleure précision (accuracy)\n",
    "\n",
    "# Dictionnaire des paramètres à essayer\n",
    "hparams1 = [128, 256, 512]\n",
    "hparams2 = ['elu', 'relu', 'sigmoid']\n",
    "epochs = [50,60,70]\n",
    "param_dist = dict(hparams1=hparams1, \n",
    "                  hparams2=hparams2,\n",
    "                  epochs=epochs)\n",
    "\n",
    "réseau = fine_tune(X_train, y_train, X_test, y_test, param_dist)"
   ]
  },
  {
   "cell_type": "markdown",
   "id": "ee6286c0",
   "metadata": {},
   "source": [
    "### Résultats"
   ]
  },
  {
   "cell_type": "code",
   "execution_count": 29,
   "id": "96487fc5",
   "metadata": {},
   "outputs": [
    {
     "name": "stdout",
     "output_type": "stream",
     "text": [
      "38/38 - 0s - loss: 0.4318 - accuracy: 0.8439 - 32ms/epoch - 849us/step\n",
      "\n",
      "Meilleure accuracy: 84.39 %\n",
      "Loss associée: 43.18 %\n"
     ]
    }
   ],
   "source": [
    "test_loss, test_acc = réseau.evaluate(X_test,  y_test, verbose=2)\n",
    "\n",
    "print('\\nMeilleure accuracy:', round(test_acc*100, 2), '%')\n",
    "print('Loss associée:', round(test_loss*100, 2), '%')"
   ]
  },
  {
   "cell_type": "code",
   "execution_count": 30,
   "id": "9fa54e9e",
   "metadata": {},
   "outputs": [
    {
     "name": "stdout",
     "output_type": "stream",
     "text": [
      "Selon les données disponibles, 85.44 % des maires des villes de plus de 1000 habitants candidats à leurs propres successions se sont fait réélire en 2020.\n"
     ]
    }
   ],
   "source": [
    "print('Selon les données disponibles,', round(sum(Reelection)/insee2.shape[0]*100, 2),'% des maires des villes de plus de 1000 habitants candidats à leurs propres successions se sont fait réélire en 2020.')"
   ]
  },
  {
   "cell_type": "markdown",
   "id": "3d890f7a",
   "metadata": {},
   "source": [
    "La prédiction (triviale) qui consiste à dire que chaque maire se représentant sera réélu, tombera juste 85% du temps, ce qui est équivalent aux résultats obtenus avec ce réseau de neurones. Appliquer un réseau de neurones dans ce cadre n'apporte donc aucun pouvoir de prédiction supplémentaire. En effet, conformément à ce qui a été montré avec les statistiques descriptives, les données de l'INSEE dont nous disposons, mêmes locales, ne sont que très faiblement corrélées aux performances des maires. Cela explique la faiblesse de l'approche par réseau de neurones ici."
   ]
  },
  {
   "cell_type": "markdown",
   "id": "5521f5b9",
   "metadata": {},
   "source": [
    "## 6 - Analyse"
   ]
  },
  {
   "cell_type": "markdown",
   "id": "a0cac35c",
   "metadata": {},
   "source": [
    "### + pistes quelles données pourraient mieux fonctionner ?"
   ]
  },
  {
   "cell_type": "code",
   "execution_count": null,
   "id": "0933d3a0",
   "metadata": {},
   "outputs": [],
   "source": []
  }
 ],
 "metadata": {
  "kernelspec": {
   "display_name": "Python 3 (ipykernel)",
   "language": "python",
   "name": "python3"
  },
  "language_info": {
   "codemirror_mode": {
    "name": "ipython",
    "version": 3
   },
   "file_extension": ".py",
   "mimetype": "text/x-python",
   "name": "python",
   "nbconvert_exporter": "python",
   "pygments_lexer": "ipython3",
   "version": "3.10.9"
  }
 },
 "nbformat": 4,
 "nbformat_minor": 5
}
