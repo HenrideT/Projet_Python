{
 "cells": [
  {
   "cell_type": "code",
   "execution_count": 2,
   "id": "6bec1b38",
   "metadata": {},
   "outputs": [],
   "source": [
    "import requests, zipfile, io\n",
    "import pandas as pd"
   ]
  },
  {
   "cell_type": "markdown",
   "id": "127b1e62",
   "metadata": {},
   "source": [
    "# Acquisition des données\n",
    "\n",
    "## Récupération des données socio-économiques \n",
    "\n",
    "Disponibles sur le site de l'INSEE"
   ]
  },
  {
   "cell_type": "code",
   "execution_count": 2,
   "id": "227b8337",
   "metadata": {},
   "outputs": [],
   "source": [
    "url = 'https://www.insee.fr/fr/statistiques/fichier/5359146/dossier_complet.zip'"
   ]
  },
  {
   "cell_type": "code",
   "execution_count": 3,
   "id": "6dc9e38c",
   "metadata": {},
   "outputs": [],
   "source": [
    "r = requests.get(url)\n",
    "z = zipfile.ZipFile(io.BytesIO(r.content))\n",
    "z.extractall(\"INSEE/\")"
   ]
  },
  {
   "cell_type": "markdown",
   "id": "823106f1",
   "metadata": {},
   "source": [
    "## Récupération des données des élections municipales de 2020\n",
    "\n",
    "Disponibles sur le site data.gouv. Méthode choisie à cause de problèmes majeurs d'encodage."
   ]
  },
  {
   "cell_type": "code",
   "execution_count": 110,
   "id": "c26e7cc0",
   "metadata": {},
   "outputs": [
    {
     "name": "stdout",
     "output_type": "stream",
     "text": [
      "  % Total    % Received % Xferd  Average Speed   Time    Time     Time  Current\n",
      "                                 Dload  Upload   Total   Spent    Left  Speed\n",
      "100 34.7M  100 34.7M    0     0  13.6M      0  0:00:02  0:00:02 --:--:-- 13.6M\n"
     ]
    }
   ],
   "source": [
    "!curl -O https://static.data.gouv.fr/resources/elections-municipales-2020-resultats/20200525-123727/2020-05-18-resultats-par-niveau-burvot-t1-france-entiere.xlsx"
   ]
  },
  {
   "cell_type": "code",
   "execution_count": 111,
   "id": "1f5e76a2",
   "metadata": {},
   "outputs": [],
   "source": [
    "# Attention, l'éxécution de cette cellule peut prendre beaucoup de temps\n",
    "municipales_2020 = pd.read_excel('2020-05-18-resultats-par-niveau-burvot-t1-france-entiere.xlsx')"
   ]
  },
  {
   "cell_type": "markdown",
   "id": "31342b3a",
   "metadata": {},
   "source": [
    "## Récupération des données des élections municipales de 2014\n",
    "\n",
    "Disponibles sur le site Regards citoyens. Méthode choisie à cause de problèmes majeurs d'encodage."
   ]
  },
  {
   "cell_type": "code",
   "execution_count": 84,
   "id": "dff855a0",
   "metadata": {},
   "outputs": [
    {
     "name": "stdout",
     "output_type": "stream",
     "text": [
      "  % Total    % Received % Xferd  Average Speed   Time    Time     Time  Current\n",
      "                                 Dload  Upload   Total   Spent    Left  Speed\n",
      "100 35.2M  100 35.2M    0     0  14.9M      0  0:00:02  0:00:02 --:--:-- 14.9M\n",
      "  % Total    % Received % Xferd  Average Speed   Time    Time     Time  Current\n",
      "                                 Dload  Upload   Total   Spent    Left  Speed\n",
      "100 7213k  100 7213k    0     0  14.5M      0 --:--:-- --:--:-- --:--:-- 14.5M\n"
     ]
    }
   ],
   "source": [
    "!curl -O https://data.regardscitoyens.org/elections/2014_municipales/municipales-2014-résultats-bureaux_vote-tour1.csv\n",
    "!curl -O https://data.regardscitoyens.org/elections/2014_municipales/municipales-2014-résultats-bureaux_vote-tour2.csv"
   ]
  },
  {
   "cell_type": "code",
   "execution_count": 85,
   "id": "497f04a3",
   "metadata": {},
   "outputs": [
    {
     "name": "stderr",
     "output_type": "stream",
     "text": [
      "/Users/henri/opt/anaconda3/lib/python3.9/site-packages/IPython/core/interactiveshell.py:3444: FutureWarning: The error_bad_lines argument has been deprecated and will be removed in a future version.\n",
      "\n",
      "\n",
      "  exec(code_obj, self.user_global_ns, self.user_ns)\n",
      "/Users/henri/opt/anaconda3/lib/python3.9/site-packages/IPython/core/interactiveshell.py:3444: DtypeWarning: Columns (1,4) have mixed types.Specify dtype option on import or set low_memory=False.\n",
      "  exec(code_obj, self.user_global_ns, self.user_ns)\n"
     ]
    }
   ],
   "source": [
    "municipales_t1 = pd.read_csv(filepath_or_buffer='municipales-2014-résultats-bureaux_vote-tour1.csv', encoding='l5', sep=';', error_bad_lines=False)\n",
    "municipales_t2 = pd.read_csv(filepath_or_buffer='municipales-2014-résultats-bureaux_vote-tour2.csv', encoding='l5', sep=';', error_bad_lines=False)"
   ]
  },
  {
   "cell_type": "markdown",
   "id": "b7b0fef1",
   "metadata": {},
   "source": [
    "## Récupération des données des élections municipales de 2008\n",
    "\n",
    "Disponibles sur le site Regards citoyens. Méthode choisie à cause de problèmes majeurs d'encodage."
   ]
  },
  {
   "cell_type": "code",
   "execution_count": 70,
   "id": "a66fc40a",
   "metadata": {},
   "outputs": [
    {
     "name": "stdout",
     "output_type": "stream",
     "text": [
      "  % Total    % Received % Xferd  Average Speed   Time    Time     Time  Current\n",
      "                                 Dload  Upload   Total   Spent    Left  Speed\n",
      "100 10.9M  100 10.9M    0     0  14.9M      0 --:--:-- --:--:-- --:--:-- 14.9M\n",
      "  % Total    % Received % Xferd  Average Speed   Time    Time     Time  Current\n",
      "                                 Dload  Upload   Total   Spent    Left  Speed\n",
      "100 3723k  100 3723k    0     0  12.4M      0 --:--:-- --:--:-- --:--:-- 12.5M\n"
     ]
    }
   ],
   "source": [
    "!curl -O https://data.regardscitoyens.org/elections/2008_municipales/municipales-2008-résultats-bureaux_vote-tour1.csv\n",
    "!curl -O https://data.regardscitoyens.org/elections/2008_municipales/municipales-2008-résultats-bureaux_vote-tour2.csv"
   ]
  },
  {
   "cell_type": "markdown",
   "id": "d9128331",
   "metadata": {},
   "source": [
    "# Nettoyage et élagage des données\n",
    "\n",
    "## Elections municipales de 2008:"
   ]
  },
  {
   "cell_type": "code",
   "execution_count": 51,
   "id": "34f20fd7",
   "metadata": {},
   "outputs": [],
   "source": [
    "#La taille des colonnes n'est pas la même pour chaque ligne, nécessitant un traitement supplémentaire\n",
    "def max_colonnes(données):\n",
    "    data_file_delimiter = ','\n",
    "    largest_column_count = 0\n",
    "    \n",
    "    with open(données, 'r') as temp_f:\n",
    "        lines = temp_f.readlines()\n",
    "\n",
    "        for l in lines:\n",
    "            # Count the column count for the current line\n",
    "            column_count = len(l.split(data_file_delimiter)) + 1\n",
    "\n",
    "            # Set the new most column count\n",
    "            largest_column_count = column_count if largest_column_count < column_count else largest_column_count\n",
    "\n",
    "    # Generate column names (will be 0, 1, 2, ..., largest_column_count - 1)\n",
    "    column_names = [i for i in range(0, largest_column_count)]\n",
    "\n",
    "    # Read csv\n",
    "    df = pd.read_csv(data_file, header=None, delimiter=data_file_delimiter, names=column_names)\n",
    "    return df"
   ]
  },
  {
   "cell_type": "code",
   "execution_count": 80,
   "id": "8ea3b355",
   "metadata": {},
   "outputs": [
    {
     "name": "stderr",
     "output_type": "stream",
     "text": [
      "/var/folders/99/gq6w32xj1_b7n4b18rr2czgr0000gn/T/ipykernel_1287/2305028525.py:2: DtypeWarning: Columns (1,3,5,6,7,8,9,10,11,12,13,14,15,16,22,23,24,25,31,40,49,58,67,76,77,85,86,87,94,95,96,97,98,99,100,101,102,103,104,105,106,107,108,109,110,111,112,113,114,115,116,117,118,119,120,121,122,123,124,125) have mixed types.Specify dtype option on import or set low_memory=False.\n",
      "  municipales_2008_t1 = max_colonnes(muni)\n",
      "/var/folders/99/gq6w32xj1_b7n4b18rr2czgr0000gn/T/ipykernel_1287/2305028525.py:5: DtypeWarning: Columns (1,3,5,6,7,8,9,10,11,12,13,14,15,16,22,23,24,25,31,40,49,58) have mixed types.Specify dtype option on import or set low_memory=False.\n",
      "  municipales_2008_t2 = max_colonnes(muni)\n"
     ]
    }
   ],
   "source": [
    "muni = \"municipales-2008-résultats-bureaux_vote-tour1.csv\"\n",
    "municipales_2008_t1 = max_colonnes(muni)\n",
    "\n",
    "muni = \"municipales-2008-résultats-bureaux_vote-tour2.csv\"\n",
    "municipales_2008_t2 = max_colonnes(muni)"
   ]
  },
  {
   "cell_type": "code",
   "execution_count": 81,
   "id": "52013911",
   "metadata": {},
   "outputs": [],
   "source": [
    "#Renommer les colonnes (attention code non idem-potent)\n",
    "municipales_2008_t1.columns = municipales_2008_t1.iloc[0].replace(pd.NA, 'Espace requis')\n",
    "municipales_2008_t1.drop(labels=0, axis=0, inplace=True)\n",
    "\n",
    "municipales_2008_t2.columns = municipales_2008_t2.iloc[0].replace(pd.NA, 'Espace requis')\n",
    "municipales_2008_t2.drop(labels=0, axis=0, inplace=True)"
   ]
  },
  {
   "cell_type": "markdown",
   "id": "8c92cd26",
   "metadata": {},
   "source": [
    "## Elections municipales de 2014:"
   ]
  },
  {
   "cell_type": "code",
   "execution_count": 199,
   "id": "fcecd3a1",
   "metadata": {},
   "outputs": [],
   "source": [
    "noms = ['Numéro tour', 'Code département', 'Code commune', 'Nom de la commune', 'Numéro de bureau de vote', 'Inscrits', 'Votants', 'Exprimés', 'Numéro de dépôt de la liste', 'Nom du candidat tête de liste', 'Prénom du candidat tête de liste', 'Code nuance de la liste', 'Nombre de voix']\n",
    "municipales_t1.columns = noms\n",
    "municipales_t2.columns = noms"
   ]
  },
  {
   "cell_type": "code",
   "execution_count": 222,
   "id": "f702b07f",
   "metadata": {},
   "outputs": [],
   "source": [
    "def problème_FR(phrase):\n",
    "    return phrase.replace('Ã©', 'é').replace('Ã«', 'ë').replace('Ã¨', 'è').replace('Ã\\x89', 'É').replace('Ã´', 'ô').replace('Ã§', 'ç').replace('Ã®', 'î').replace('Ã\\x8b', 'Ë').replace('Ã\\x88', 'È').replace('Ã¯', 'ï')"
   ]
  },
  {
   "cell_type": "code",
   "execution_count": 223,
   "id": "fc91b1b6",
   "metadata": {},
   "outputs": [],
   "source": [
    "cols = ['Nom de la commune', 'Nom du candidat tête de liste', 'Prénom du candidat tête de liste']\n",
    "for colonne in cols:\n",
    "    municipales_t1[colonne] = municipales_t1[colonne].apply(lambda row: problème_FR(row))\n",
    "    municipales_t2[colonne] = municipales_t2[colonne].apply(lambda row: problème_FR(row))"
   ]
  },
  {
   "cell_type": "markdown",
   "id": "60733be0",
   "metadata": {},
   "source": [
    "On observe une singularité pour les communes de moins de 1 000 habitants.\n",
    "Pour ces communes, l'élection des conseillers municipaux se déroule au scrutin majoritaire plurinominal à deux tours, avec panachage. La somme des voix de tous les candidats peut donc être supérieure au nombre de votants.\n",
    "\n",
    "Nous allons donc ne pas pouvoir analyser ces communes."
   ]
  },
  {
   "cell_type": "code",
   "execution_count": 246,
   "id": "82d28346",
   "metadata": {},
   "outputs": [],
   "source": [
    "res = municipales_t2.loc[municipales_t2['Votants']>1000].groupby(by=['Nom de la commune', 'Nom du candidat tête de liste'])['Nombre de voix'].sum()"
   ]
  },
  {
   "cell_type": "code",
   "execution_count": 249,
   "id": "dc85b77a",
   "metadata": {},
   "outputs": [
    {
     "data": {
      "text/plain": [
       "Nom de la commune  Nom du candidat tête de liste\n",
       "Agde               D'ETTORE                         488\n",
       "                   LEBAUBE                          135\n",
       "                   MUR                              433\n",
       "Agny               AVRONSART                        152\n",
       "                   DUTOIT                           393\n",
       "                                                   ... \n",
       "Warmeriville       MOUSEL                           598\n",
       "Wignehies          BAUDIN                           642\n",
       "                   CESAR                            802\n",
       "Wittelsheim        GOEPFERT                         506\n",
       "                   RIESEMANN                        519\n",
       "Name: Nombre de voix, Length: 674, dtype: int64"
      ]
     },
     "execution_count": 249,
     "metadata": {},
     "output_type": "execute_result"
    }
   ],
   "source": [
    "res"
   ]
  },
  {
   "cell_type": "code",
   "execution_count": null,
   "id": "bc8a7a7b",
   "metadata": {},
   "outputs": [],
   "source": []
  }
 ],
 "metadata": {
  "kernelspec": {
   "display_name": "Python 3 (ipykernel)",
   "language": "python",
   "name": "python3"
  },
  "language_info": {
   "codemirror_mode": {
    "name": "ipython",
    "version": 3
   },
   "file_extension": ".py",
   "mimetype": "text/x-python",
   "name": "python",
   "nbconvert_exporter": "python",
   "pygments_lexer": "ipython3",
   "version": "3.9.7"
  }
 },
 "nbformat": 4,
 "nbformat_minor": 5
}
