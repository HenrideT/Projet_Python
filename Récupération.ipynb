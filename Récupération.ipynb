{
 "cells": [
  {
   "cell_type": "code",
   "execution_count": 1,
   "id": "6bec1b38",
   "metadata": {},
   "outputs": [],
   "source": [
    "import requests, zipfile, io\n",
    "import pandas as pd"
   ]
  },
  {
   "cell_type": "markdown",
   "id": "8ab45ae4",
   "metadata": {},
   "source": [
    "# Récupération des données socio-économiques \n",
    "\n",
    "Disponibles sur le site de l'INSEE"
   ]
  },
  {
   "cell_type": "code",
   "execution_count": 2,
   "id": "227b8337",
   "metadata": {},
   "outputs": [],
   "source": [
    "url = 'https://www.insee.fr/fr/statistiques/fichier/5359146/dossier_complet.zip'"
   ]
  },
  {
   "cell_type": "code",
   "execution_count": 3,
   "id": "6dc9e38c",
   "metadata": {},
   "outputs": [],
   "source": [
    "r = requests.get(url)\n",
    "z = zipfile.ZipFile(io.BytesIO(r.content))\n",
    "z.extractall(\"INSEE/\")"
   ]
  },
  {
   "cell_type": "markdown",
   "id": "bbe44c40",
   "metadata": {},
   "source": [
    "# Récupération des données des élections municipales de 2014\n",
    "\n",
    "Disponibles sur le site regard citoyen. Méthode choisie à cause de problèmes majeurs d'encodage."
   ]
  },
  {
   "cell_type": "code",
   "execution_count": 107,
   "id": "dff855a0",
   "metadata": {},
   "outputs": [
    {
     "name": "stdout",
     "output_type": "stream",
     "text": [
      "  % Total    % Received % Xferd  Average Speed   Time    Time     Time  Current\n",
      "                                 Dload  Upload   Total   Spent    Left  Speed\n",
      "100 35.2M  100 35.2M    0     0  14.8M      0  0:00:02  0:00:02 --:--:-- 14.8M\n"
     ]
    }
   ],
   "source": [
    "!curl -O https://data.regardscitoyens.org/elections/2014_municipales/municipales-2014-résultats-bureaux_vote-tour1.csv"
   ]
  },
  {
   "cell_type": "code",
   "execution_count": 108,
   "id": "8cdf6822",
   "metadata": {},
   "outputs": [
    {
     "name": "stderr",
     "output_type": "stream",
     "text": [
      "/Users/henri/opt/anaconda3/lib/python3.9/site-packages/IPython/core/interactiveshell.py:3444: FutureWarning: The error_bad_lines argument has been deprecated and will be removed in a future version.\n",
      "\n",
      "\n",
      "  exec(code_obj, self.user_global_ns, self.user_ns)\n",
      "/Users/henri/opt/anaconda3/lib/python3.9/site-packages/IPython/core/interactiveshell.py:3444: DtypeWarning: Columns (1,4) have mixed types.Specify dtype option on import or set low_memory=False.\n",
      "  exec(code_obj, self.user_global_ns, self.user_ns)\n"
     ]
    }
   ],
   "source": [
    "municipales_t1 = pd.read_csv(filepath_or_buffer='municipales-2014-résultats-bureaux_vote-tour1.csv', encoding='l5', sep=';', error_bad_lines=False)"
   ]
  },
  {
   "cell_type": "code",
   "execution_count": 129,
   "id": "6e373faf",
   "metadata": {},
   "outputs": [
    {
     "name": "stdout",
     "output_type": "stream",
     "text": [
      "  % Total    % Received % Xferd  Average Speed   Time    Time     Time  Current\n",
      "                                 Dload  Upload   Total   Spent    Left  Speed\n",
      "100 7213k  100 7213k    0     0  13.4M      0 --:--:-- --:--:-- --:--:-- 13.4M\n"
     ]
    }
   ],
   "source": [
    "!curl -O https://data.regardscitoyens.org/elections/2014_municipales/municipales-2014-résultats-bureaux_vote-tour2.csv"
   ]
  },
  {
   "cell_type": "code",
   "execution_count": 198,
   "id": "fa7b6167",
   "metadata": {},
   "outputs": [
    {
     "name": "stderr",
     "output_type": "stream",
     "text": [
      "/Users/henri/opt/anaconda3/lib/python3.9/site-packages/IPython/core/interactiveshell.py:3444: FutureWarning: The error_bad_lines argument has been deprecated and will be removed in a future version.\n",
      "\n",
      "\n",
      "  exec(code_obj, self.user_global_ns, self.user_ns)\n"
     ]
    }
   ],
   "source": [
    "municipales_t2 = pd.read_csv(filepath_or_buffer='municipales-2014-résultats-bureaux_vote-tour2.csv', encoding='l5', sep=';', error_bad_lines=False)"
   ]
  },
  {
   "cell_type": "markdown",
   "id": "ff05194c",
   "metadata": {},
   "source": [
    "# Nettoyage et élagage des données\n",
    "\n",
    "Elections municipales de 2014:"
   ]
  },
  {
   "cell_type": "code",
   "execution_count": 199,
   "id": "fcecd3a1",
   "metadata": {},
   "outputs": [],
   "source": [
    "noms = ['Numéro tour', 'Code département', 'Code commune', 'Nom de la commune', 'Numéro de bureau de vote', 'Inscrits', 'Votants', 'Exprimés', 'Numéro de dépôt de la liste', 'Nom du candidat tête de liste', 'Prénom du candidat tête de liste', 'Code nuance de la liste', 'Nombre de voix']\n",
    "municipales_t1.columns = noms\n",
    "municipales_t2.columns = noms"
   ]
  },
  {
   "cell_type": "code",
   "execution_count": 222,
   "id": "f702b07f",
   "metadata": {},
   "outputs": [],
   "source": [
    "def problème_FR(phrase):\n",
    "    return phrase.replace('Ã©', 'é').replace('Ã«', 'ë').replace('Ã¨', 'è').replace('Ã\\x89', 'É').replace('Ã´', 'ô').replace('Ã§', 'ç').replace('Ã®', 'î').replace('Ã\\x8b', 'Ë').replace('Ã\\x88', 'È').replace('Ã¯', 'ï')"
   ]
  },
  {
   "cell_type": "code",
   "execution_count": 223,
   "id": "1461ea09",
   "metadata": {},
   "outputs": [],
   "source": [
    "cols = ['Nom de la commune', 'Nom du candidat tête de liste', 'Prénom du candidat tête de liste']\n",
    "for colonne in cols:\n",
    "    municipales_t1[colonne] = municipales_t1[colonne].apply(lambda row: problème_FR(row))\n",
    "    municipales_t2[colonne] = municipales_t2[colonne].apply(lambda row: problème_FR(row))"
   ]
  },
  {
   "cell_type": "markdown",
   "id": "9f3789ca",
   "metadata": {},
   "source": [
    "On observe une singularité pour les communes de moins de 1 000 habitants.\n",
    "Pour ces communes, l'élection des conseillers municipaux se déroule au scrutin majoritaire plurinominal à deux tours, avec panachage. La somme des voix de tous les candidats peut donc être supérieure au nombre de votants.\n",
    "\n",
    "Nous allons donc ne pas pouvoir analyser ces communes."
   ]
  },
  {
   "cell_type": "code",
   "execution_count": 246,
   "id": "292dad5e",
   "metadata": {},
   "outputs": [],
   "source": [
    "res = municipales_t2.loc[municipales_t2['Votants']>1000].groupby(by=['Nom de la commune', 'Nom du candidat tête de liste'])['Nombre de voix'].sum()"
   ]
  },
  {
   "cell_type": "code",
   "execution_count": 249,
   "id": "bbae505a",
   "metadata": {},
   "outputs": [
    {
     "data": {
      "text/plain": [
       "Nom de la commune  Nom du candidat tête de liste\n",
       "Agde               D'ETTORE                         488\n",
       "                   LEBAUBE                          135\n",
       "                   MUR                              433\n",
       "Agny               AVRONSART                        152\n",
       "                   DUTOIT                           393\n",
       "                                                   ... \n",
       "Warmeriville       MOUSEL                           598\n",
       "Wignehies          BAUDIN                           642\n",
       "                   CESAR                            802\n",
       "Wittelsheim        GOEPFERT                         506\n",
       "                   RIESEMANN                        519\n",
       "Name: Nombre de voix, Length: 674, dtype: int64"
      ]
     },
     "execution_count": 249,
     "metadata": {},
     "output_type": "execute_result"
    }
   ],
   "source": [
    "res"
   ]
  },
  {
   "cell_type": "code",
   "execution_count": null,
   "id": "e14c9f16",
   "metadata": {},
   "outputs": [],
   "source": []
  }
 ],
 "metadata": {
  "kernelspec": {
   "display_name": "Python 3 (ipykernel)",
   "language": "python",
   "name": "python3"
  },
  "language_info": {
   "codemirror_mode": {
    "name": "ipython",
    "version": 3
   },
   "file_extension": ".py",
   "mimetype": "text/x-python",
   "name": "python",
   "nbconvert_exporter": "python",
   "pygments_lexer": "ipython3",
   "version": "3.9.7"
  }
 },
 "nbformat": 4,
 "nbformat_minor": 5
}
