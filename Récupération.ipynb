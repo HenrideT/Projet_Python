{
 "cells": [
  {
   "cell_type": "code",
   "execution_count": 5,
   "id": "6bec1b38",
   "metadata": {},
   "outputs": [],
   "source": [
    "import requests, zipfile, io\n",
    "import pandas as pd"
   ]
  },
  {
   "cell_type": "markdown",
   "id": "127b1e62",
   "metadata": {},
   "source": [
    "# 1) Acquisition des données\n",
    "\n",
    "## Récupération des données socio-économiques \n",
    "\n",
    "Disponibles sur le site de l'INSEE."
   ]
  },
  {
   "cell_type": "code",
   "execution_count": 6,
   "id": "227b8337",
   "metadata": {},
   "outputs": [],
   "source": [
    "url = 'https://www.insee.fr/fr/statistiques/fichier/5359146/dossier_complet.zip'"
   ]
  },
  {
   "cell_type": "code",
   "execution_count": 7,
   "id": "6dc9e38c",
   "metadata": {},
   "outputs": [],
   "source": [
    "r = requests.get(url)\n",
    "z = zipfile.ZipFile(io.BytesIO(r.content))\n",
    "z.extractall(\"INSEE/\")"
   ]
  },
  {
   "cell_type": "markdown",
   "id": "8a31965a",
   "metadata": {},
   "source": [
    "## Récupération des données des élections municipales de 2020\n",
    "\n",
    "Disponibles sur le site data.gouv. Méthode choisie à cause de problèmes majeurs d'encodage des caractères accentués."
   ]
  },
  {
   "cell_type": "code",
   "execution_count": 8,
   "id": "d1cfb57f",
   "metadata": {},
   "outputs": [
    {
     "name": "stdout",
     "output_type": "stream",
     "text": [
      "  % Total    % Received % Xferd  Average Speed   Time    Time     Time  Current\n",
      "                                 Dload  Upload   Total   Spent    Left  Speed\n",
      "100 34.7M  100 34.7M    0     0  14.8M      0  0:00:02  0:00:02 --:--:-- 14.8M\n"
     ]
    }
   ],
   "source": [
    "!curl -O https://static.data.gouv.fr/resources/elections-municipales-2020-resultats/20200525-123727/2020-05-18-resultats-par-niveau-burvot-t1-france-entiere.xlsx"
   ]
  },
  {
   "cell_type": "code",
   "execution_count": 9,
   "id": "9b8c174d",
   "metadata": {},
   "outputs": [],
   "source": [
    "# Attention, l'éxécution de cette cellule peut prendre beaucoup de temps\n",
    "municipales_2020 = pd.read_excel('2020-05-18-resultats-par-niveau-burvot-t1-france-entiere.xlsx')"
   ]
  },
  {
   "cell_type": "markdown",
   "id": "31342b3a",
   "metadata": {},
   "source": [
    "## Récupération des données des élections municipales de 2014\n",
    "\n",
    "Disponibles sur le site Regards citoyens. Méthode choisie à cause de problèmes majeurs d'encodage des caractères accentués."
   ]
  },
  {
   "cell_type": "code",
   "execution_count": 10,
   "id": "dff855a0",
   "metadata": {},
   "outputs": [
    {
     "name": "stdout",
     "output_type": "stream",
     "text": [
      "  % Total    % Received % Xferd  Average Speed   Time    Time     Time  Current\n",
      "                                 Dload  Upload   Total   Spent    Left  Speed\n",
      "100 35.2M  100 35.2M    0     0  15.5M      0  0:00:02  0:00:02 --:--:-- 15.5M\n",
      "  % Total    % Received % Xferd  Average Speed   Time    Time     Time  Current\n",
      "                                 Dload  Upload   Total   Spent    Left  Speed\n",
      "100 7213k  100 7213k    0     0  13.8M      0 --:--:-- --:--:-- --:--:-- 13.4M --:--:-- --:--:-- --:--:-- 13.8M\n"
     ]
    }
   ],
   "source": [
    "!curl -O https://data.regardscitoyens.org/elections/2014_municipales/municipales-2014-résultats-bureaux_vote-tour1.csv\n",
    "!curl -O https://data.regardscitoyens.org/elections/2014_municipales/municipales-2014-résultats-bureaux_vote-tour2.csv"
   ]
  },
  {
   "cell_type": "code",
   "execution_count": 11,
   "id": "497f04a3",
   "metadata": {},
   "outputs": [
    {
     "name": "stderr",
     "output_type": "stream",
     "text": [
      "/Users/henri/opt/anaconda3/lib/python3.9/site-packages/IPython/core/interactiveshell.py:3444: FutureWarning: The error_bad_lines argument has been deprecated and will be removed in a future version.\n",
      "\n",
      "\n",
      "  exec(code_obj, self.user_global_ns, self.user_ns)\n",
      "/Users/henri/opt/anaconda3/lib/python3.9/site-packages/IPython/core/interactiveshell.py:3444: DtypeWarning: Columns (1,4) have mixed types.Specify dtype option on import or set low_memory=False.\n",
      "  exec(code_obj, self.user_global_ns, self.user_ns)\n"
     ]
    }
   ],
   "source": [
    "municipales_t1 = pd.read_csv(filepath_or_buffer='municipales-2014-résultats-bureaux_vote-tour1.csv', encoding='l5', sep=';', error_bad_lines=False)\n",
    "municipales_t2 = pd.read_csv(filepath_or_buffer='municipales-2014-résultats-bureaux_vote-tour2.csv', encoding='l5', sep=';', error_bad_lines=False)"
   ]
  },
  {
   "cell_type": "markdown",
   "id": "03dd43ce",
   "metadata": {},
   "source": [
    "## Récupération des données des élections municipales de 2008\n",
    "\n",
    "Disponibles sur le site Regards citoyens. Méthode choisie à cause de problèmes majeurs d'encodage des caractères accentués."
   ]
  },
  {
   "cell_type": "code",
   "execution_count": 12,
   "id": "62cdf9df",
   "metadata": {},
   "outputs": [
    {
     "name": "stdout",
     "output_type": "stream",
     "text": [
      "  % Total    % Received % Xferd  Average Speed   Time    Time     Time  Current\n",
      "                                 Dload  Upload   Total   Spent    Left  Speed\n",
      "100 10.9M  100 10.9M    0     0  14.7M      0 --:--:-- --:--:-- --:--:-- 14.7M\n",
      "  % Total    % Received % Xferd  Average Speed   Time    Time     Time  Current\n",
      "                                 Dload  Upload   Total   Spent    Left  Speed\n",
      "100 3723k  100 3723k    0     0  11.8M      0 --:--:-- --:--:-- --:--:-- 11.8M\n"
     ]
    }
   ],
   "source": [
    "!curl -O https://data.regardscitoyens.org/elections/2008_municipales/municipales-2008-résultats-bureaux_vote-tour1.csv\n",
    "!curl -O https://data.regardscitoyens.org/elections/2008_municipales/municipales-2008-résultats-bureaux_vote-tour2.csv"
   ]
  },
  {
   "cell_type": "markdown",
   "id": "d9128331",
   "metadata": {},
   "source": [
    "# 2) Nettoyage des données\n",
    "\n",
    "## Elections municipales de 2008:"
   ]
  },
  {
   "cell_type": "code",
   "execution_count": 13,
   "id": "49eb6ada",
   "metadata": {},
   "outputs": [],
   "source": [
    "#La taille des colonnes n'est pas la même pour chaque ligne, nécessitant un traitement supplémentaire\n",
    "def max_colonnes(données):\n",
    "    delimiter = ','\n",
    "    max_colonnes = 0\n",
    "    \n",
    "    with open(données, 'r') as temp_f:\n",
    "        lines = temp_f.readlines()\n",
    "\n",
    "        for l in lines:\n",
    "            # Nombre de colonnes de la ligne actuelle\n",
    "            colonnes_cpt = len(l.split(delimiter)) + 1\n",
    "\n",
    "            # Mise à jour du maximum\n",
    "            max_colonnes = colonnes_cpt if max_colonnes < colonnes_cpt else max_colonnes\n",
    "\n",
    "    column_names = [i for i in range(0, max_colonnes)]\n",
    "    df = pd.read_csv(données, header=None, delimiter=delimiter, names=column_names)\n",
    "    return df"
   ]
  },
  {
   "cell_type": "code",
   "execution_count": 14,
   "id": "a50da449",
   "metadata": {},
   "outputs": [
    {
     "name": "stderr",
     "output_type": "stream",
     "text": [
      "/var/folders/99/gq6w32xj1_b7n4b18rr2czgr0000gn/T/ipykernel_1062/2305028525.py:2: DtypeWarning: Columns (1,3,5,6,7,8,9,10,11,12,13,14,15,16,22,23,24,25,31,40,49,58,67,76,77,85,86,87,94,95,96,97,98,99,100,101,102,103,104,105,106,107,108,109,110,111,112,113,114,115,116,117,118,119,120,121,122,123,124,125) have mixed types.Specify dtype option on import or set low_memory=False.\n",
      "  municipales_2008_t1 = max_colonnes(muni)\n",
      "/var/folders/99/gq6w32xj1_b7n4b18rr2czgr0000gn/T/ipykernel_1062/2305028525.py:5: DtypeWarning: Columns (1,3,5,6,7,8,9,10,11,12,13,14,15,16,22,23,24,25,32,49,50,58,59,60,62,63,64) have mixed types.Specify dtype option on import or set low_memory=False.\n",
      "  municipales_2008_t2 = max_colonnes(muni)\n"
     ]
    }
   ],
   "source": [
    "muni = \"municipales-2008-résultats-bureaux_vote-tour1.csv\"\n",
    "municipales_2008_t1 = max_colonnes(muni)\n",
    "\n",
    "muni = \"municipales-2008-résultats-bureaux_vote-tour2.csv\"\n",
    "municipales_2008_t2 = max_colonnes(muni)"
   ]
  },
  {
   "cell_type": "code",
   "execution_count": 15,
   "id": "fc97fc34",
   "metadata": {},
   "outputs": [],
   "source": [
    "#Renommer les colonnes (attention code non idem-potent)\n",
    "municipales_2008_t1.columns = municipales_2008_t1.iloc[0].replace(pd.NA, 'Espace requis')\n",
    "municipales_2008_t1.drop(labels=0, axis=0, inplace=True)\n",
    "\n",
    "municipales_2008_t2.columns = municipales_2008_t2.iloc[0].replace(pd.NA, 'Espace requis')\n",
    "municipales_2008_t2.drop(labels=0, axis=0, inplace=True)"
   ]
  },
  {
   "cell_type": "markdown",
   "id": "297f6c4d",
   "metadata": {},
   "source": [
    "## Elections municipales de 2014:"
   ]
  },
  {
   "cell_type": "code",
   "execution_count": 16,
   "id": "fcecd3a1",
   "metadata": {},
   "outputs": [],
   "source": [
    "noms = ['Numéro tour', 'Code département', 'Code commune', 'Nom de la commune', 'Numéro de bureau de vote', 'Inscrits', 'Votants', 'Exprimés', 'Numéro de dépôt de la liste', 'Nom du candidat tête de liste', 'Prénom du candidat tête de liste', 'Code nuance de la liste', 'Nombre de voix']\n",
    "municipales_t1.columns = noms\n",
    "municipales_t2.columns = noms"
   ]
  },
  {
   "cell_type": "code",
   "execution_count": 17,
   "id": "f702b07f",
   "metadata": {},
   "outputs": [],
   "source": [
    "def problème_FR(phrase):\n",
    "    return phrase.replace('Ã©', 'é').replace('Ã«', 'ë').replace('Ã¨', 'è').replace('Ã\\x89', 'É').replace('Ã´', 'ô').replace('Ã§', 'ç').replace('Ã®', 'î').replace('Ã\\x8b', 'Ë').replace('Ã\\x88', 'È').replace('Ã¯', 'ï')"
   ]
  },
  {
   "cell_type": "code",
   "execution_count": 18,
   "id": "fc91b1b6",
   "metadata": {},
   "outputs": [],
   "source": [
    "cols = ['Nom de la commune', 'Nom du candidat tête de liste', 'Prénom du candidat tête de liste']\n",
    "for colonne in cols:\n",
    "    municipales_t1[colonne] = municipales_t1[colonne].apply(lambda row: problème_FR(row))\n",
    "    municipales_t2[colonne] = municipales_t2[colonne].apply(lambda row: problème_FR(row))"
   ]
  },
  {
   "cell_type": "markdown",
   "id": "60733be0",
   "metadata": {},
   "source": [
    "On observe une singularité pour les communes de moins de 1 000 habitants.\n",
    "Pour ces communes, l'élection des conseillers municipaux se déroule au scrutin majoritaire plurinominal à deux tours, avec panachage. La somme des voix de tous les candidats peut donc être supérieure au nombre de votants.\n",
    "\n",
    "Nous allons donc ne pas pouvoir analyser ces communes."
   ]
  },
  {
   "cell_type": "markdown",
   "id": "e3b6137d",
   "metadata": {},
   "source": [
    "# 3) Détermination des maires"
   ]
  },
  {
   "cell_type": "code",
   "execution_count": 19,
   "id": "82d28346",
   "metadata": {},
   "outputs": [],
   "source": [
    "res = municipales_t2.loc[municipales_t2['Votants']>1000].groupby(by=['Nom de la commune', 'Nom du candidat tête de liste'])['Nombre de voix'].sum()"
   ]
  },
  {
   "cell_type": "code",
   "execution_count": 74,
   "id": "bc8a7a7b",
   "metadata": {},
   "outputs": [
    {
     "data": {
      "text/plain": [
       "Nom de la commune  Nom du candidat tête de liste\n",
       "Agde               D'ETTORE                         488\n",
       "                   LEBAUBE                          135\n",
       "                   MUR                              433\n",
       "Agny               AVRONSART                        152\n",
       "                   DUTOIT                           393\n",
       "                                                   ... \n",
       "Warmeriville       MOUSEL                           598\n",
       "Wignehies          BAUDIN                           642\n",
       "                   CESAR                            802\n",
       "Wittelsheim        GOEPFERT                         506\n",
       "                   RIESEMANN                        519\n",
       "Name: Nombre de voix, Length: 674, dtype: int64"
      ]
     },
     "execution_count": 74,
     "metadata": {},
     "output_type": "execute_result"
    }
   ],
   "source": [
    "res"
   ]
  },
  {
   "cell_type": "code",
   "execution_count": 76,
   "id": "71abff53",
   "metadata": {},
   "outputs": [],
   "source": [
    "maires = {}\n",
    "ville_actuelle = res.keys()[0][0]\n",
    "résultats_ville = {}\n",
    "for i in range(len(res.keys())):\n",
    "    if res.keys()[i][0] == ville_actuelle:\n",
    "        résultats_ville[res.keys()[i][1]] = res[i]\n",
    "    else:\n",
    "        max_voix = max(résultats_ville)\n",
    "        maires[ville_actuelle] = [max_voix, résultats_ville[max_voix]]\n",
    "        ville_actuelle = res.keys()[i][0]\n",
    "        résultats_ville = {}\n",
    "        résultats_ville[res.keys()[i][1]] = res[i]"
   ]
  },
  {
   "cell_type": "code",
   "execution_count": 80,
   "id": "07e3a6fb",
   "metadata": {},
   "outputs": [
    {
     "data": {
      "text/plain": [
       "{'Agde': ['MUR', 433],\n",
       " 'Agny': ['THUILOT', 531],\n",
       " 'Ahetze': ['ELISSALDE', 587],\n",
       " 'Ajaccio': ['RENUCCI', 365],\n",
       " 'Albertville': ['BERTHET', 508],\n",
       " 'Alignan-du-Vent': ['VIDAL', 1047],\n",
       " 'Allauch': ['ROBINEAU-CHAILAN', 138],\n",
       " 'Andrézieux-Bouthéon': ['SCHALK', 457],\n",
       " 'Arcangues': ['MUTIO', 345],\n",
       " 'Arles': ['SCHIAVETTI', 3351],\n",
       " 'Arue': ['TUHEIAVA', 237],\n",
       " 'Assas': ['GRAU', 593],\n",
       " 'Avesnes-le-Comte': ['DESAULTY', 340],\n",
       " 'Banyuls-sur-Mer': ['SOLÉ', 995],\n",
       " 'Bastia': ['ZUCCARELLI', 1975],\n",
       " 'Beaucaire': ['SANCHEZ', 543],\n",
       " 'Bischwiller': ['THOMAS NÉE SCHULER', 486],\n",
       " 'Bora-Bora': ['YE-ON', 733],\n",
       " 'Boulouparis': ['VITTORI', 479],\n",
       " 'Bourg-lès-Valence': ['PAILHES', 462],\n",
       " 'Brassac-les-Mines': ['TAPISSIER', 293],\n",
       " 'Briançon': ['GRYZKA', 1392],\n",
       " 'Brives-Charensac': ['VALENTIN', 407],\n",
       " 'Camaret-sur-Aigues': ['THIBAUD', 335],\n",
       " \"Castelnau-d'Estrétefonds\": ['RECOBRE', 285],\n",
       " 'Castelnau-le-Lez': ['VENDRELL', 100],\n",
       " 'Castelsarrasin': ['DAGEN', 1637],\n",
       " 'Castillon-du-Gard': ['NAVATEL', 413],\n",
       " 'Castries': ['PORTE', 398],\n",
       " 'Claix': ['OCTRU', 1707],\n",
       " 'Clouange': ['LEBLANC', 101],\n",
       " 'Condé-sur-Vire': ['VAUDRU', 576],\n",
       " 'Conflans-Sainte-Honorine': ['GUERCHE', 84],\n",
       " 'Corneilla-la-Rivière': ['LAVILLE', 609],\n",
       " 'Cornimont': ['POIROT', 358],\n",
       " 'Courchelettes': ['DHALLUIN', 809],\n",
       " 'Crozon': ['MOYSAN', 568],\n",
       " 'Cruseilles': ['MERMILLOD', 155],\n",
       " 'Cérences': ['REMOUÉ', 470],\n",
       " 'Dannemarie': ['MUMBACH', 549],\n",
       " 'Domfront': ['SOUL', 714],\n",
       " 'Draguignan': ['VECCHIO', 113],\n",
       " 'Dumbéa': ['NATUREL', 359],\n",
       " 'Dunkerque': ['VERGRIETE', 663],\n",
       " 'Eguisheim': ['FREUDENREICH', 139],\n",
       " 'Elne': ['GARCIA', 547],\n",
       " 'Epône': ['MULLER', 594],\n",
       " 'Estagel': ['FERRER', 674],\n",
       " 'Figari': ['SIMONI', 213],\n",
       " 'Floing': ['NAUDIN', 292],\n",
       " 'Fontaines': ['GRESS', 532],\n",
       " 'Frignicourt': ['YON', 312],\n",
       " 'Grand-Fort-Philippe': ['VITSE', 583],\n",
       " 'Granville': ['PEYRE', 258],\n",
       " 'Grasse': ['VIAUD', 457],\n",
       " 'Hélesmes': ['LANDAS', 424],\n",
       " 'Ingwiller': ['DOEPPEN', 579],\n",
       " 'Issé': ['GAVALAND', 491],\n",
       " 'Jugon-les-Lacs': ['HAMON', 488],\n",
       " 'Koumac': ['WEISS', 532],\n",
       " 'La BÃ¢thie': ['WUILLAUME', 272],\n",
       " 'La Ferté-Milon': ['LE FRERE-LETOFFE', 525],\n",
       " 'La Plaine-des-Palmistes': ['SAINT-LAMBERT', 691],\n",
       " 'Laval': ['ZOCCHETTO', 512],\n",
       " 'Le Crès': ['CHAMPAY', 614],\n",
       " 'Le Fousseret': ['LAGARRIGUE', 500],\n",
       " 'Le François': ['TAVERNIER', 1434],\n",
       " 'Le Grau-du-Roi': ['ROSSO', 440],\n",
       " 'Le Val-Saint-Père': ['RIVIERE-DAILLENCOURT', 653],\n",
       " 'Le Vésinet': ['MICHEL', 175],\n",
       " 'Les Allues': ['MONIN', 578],\n",
       " \"Les Sables-d'Olonne\": ['ROUCHER', 3371],\n",
       " 'Lodève': ['LECOU', 1139],\n",
       " 'Lorry-lès-Metz': ['STEIN', 181],\n",
       " 'Louhans': ['MULLER', 346],\n",
       " 'Lunel-Viel': ['TINEL', 982],\n",
       " 'Lyon': ['PICOT', 562],\n",
       " 'Lézignan-Corbières': ['MAIQUE', 484],\n",
       " 'Mareuil-lès-Meaux': ['NEROT', 328],\n",
       " 'Marsillargues': ['VIGNON', 405],\n",
       " 'Martigné-Briand': ['SECHET', 565],\n",
       " 'Masny': ['GAUTHIEZ', 712],\n",
       " 'Massiac': ['DESTANNES', 631],\n",
       " 'Mende': ['BRUNEL NÉE BALME', 1007],\n",
       " 'Moissac': ['NUNZI', 490],\n",
       " 'Montagnac': ['LLOPIS', 1209],\n",
       " 'Montluel': ['DAUBIE', 1178],\n",
       " 'Montoire-sur-le-Loir': ['TAFILET', 770],\n",
       " 'Montreuil': ['DUCROCQ', 261],\n",
       " 'Moorea-Maiao': ['WONG', 160],\n",
       " 'Mormoiron': ['SILVESTRE', 570],\n",
       " 'Mutzig': ['STECK', 275],\n",
       " 'Neuillé-Pont-Pierre': ['SABAROTS', 315],\n",
       " 'Palavas-les-Flots': ['VINCENT', 325],\n",
       " 'Papara': ['TEHAAMATAI', 133],\n",
       " 'Paris': ['VERON', 2027],\n",
       " 'Petit-Canal': ['MORNAL', 480],\n",
       " 'Pia': ['PRATS', 587],\n",
       " 'Plouigneau': ['LE HOUEROU', 533],\n",
       " 'Pontorson': ['LEMETAYER', 330],\n",
       " 'Pornichet': ['PELLETEUR', 649],\n",
       " 'Porto-Vecchio': ['MELA', 3379],\n",
       " 'Poussan': ['MOUGIN', 272],\n",
       " 'Préseau': ['RICHARD', 511],\n",
       " 'Quiberon': ['LEROY', 176],\n",
       " 'Rangiroa': ['WONG-SANG', 5],\n",
       " 'Reillanne': ['BRESSANGE', 300],\n",
       " 'Reuilly': ['PINOTEAU', 286],\n",
       " 'Riez': ['BONDIL', 535],\n",
       " 'Riom-ès-Montagnes': ['TIBLE', 765],\n",
       " 'Rognes': ['LE NOUVEL', 211],\n",
       " 'Romans-sur-Isère': ['THORAVAL', 1015],\n",
       " 'Ronchamp': ['MILLE', 529],\n",
       " 'Rouffiac-Tolosan': ['SOURZAC', 467],\n",
       " 'Sainghin-en-Weppes': ['MENU', 385],\n",
       " 'Saint-Ambroix': ['PIALET', 471],\n",
       " 'Saint-André': ['VIRAPOULLÉ', 1844],\n",
       " 'Saint-Bon-Tarentaise': ['MUGNIER', 583],\n",
       " 'Saint-Cast-le-Guildo': ['PRODHOMME', 82],\n",
       " \"Saint-Chély-d'Apcher\": ['YOYOTTE-LANDRY', 677],\n",
       " \"Saint-Georges-d'Orques\": ['DE BEARN', 158],\n",
       " 'Saint-Germain-sur-Morin': ['KLEMPOUZ', 431],\n",
       " 'Saint-Hilaire-de-Brethmas': ['PERRET', 424],\n",
       " 'Saint-Just-Luzac': ['LEVY', 226],\n",
       " 'Saint-Laurent-du-Var': ['SEGURA', 475],\n",
       " 'Saint-Léonard': ['MALANDAIN', 308],\n",
       " 'Saint-Pons-de-Thomières': ['CEBE', 535],\n",
       " 'Saint-Rémy-de-Provence': ['MILAN', 984],\n",
       " 'Saint-Rémy-lès-Chevreuse': ['GALLOIS', 206],\n",
       " 'Saint-Savournin': ['MARCENGO', 533],\n",
       " 'Salon-de-Provence': ['TONON', 1410],\n",
       " 'Salses-le-ChÃ¢teau': ['LOPEZ', 527],\n",
       " 'Savigny-sur-Orge': ['SPICHER-BERNIER', 342],\n",
       " 'Scherwiller': ['SOHLER', 648],\n",
       " 'Schirrhein': ['SCHOTT', 710],\n",
       " 'Senlis': ['LOISELEUR', 584],\n",
       " 'Sermaize-les-Bains': ['PAUPHILET', 229],\n",
       " 'Soual': ['CÉRÉSOLI', 385],\n",
       " 'Soudan': ['MARTIN', 307],\n",
       " 'Soultz-Haut-Rhin': ['ZUG', 267],\n",
       " 'Sète': ['LIBERTI', 308],\n",
       " 'Taiarapu-Est': ['TUAHU EPOUSE URIMA', 156],\n",
       " 'Taiarapu-Ouest': ['VAN BASTOLAER', 414],\n",
       " 'Taninges': ['MONTESSUIT', 867],\n",
       " 'Teva I Uta': ['TAHUAITU', 777],\n",
       " 'Teyran': ['CLEROUX', 753],\n",
       " 'Tignes': ['VITALE', 648],\n",
       " 'Trèbes': ['RIBERA', 402],\n",
       " 'Ussel': ['LECLERC', 881],\n",
       " 'Valras-Plage': ['VILLENEUVE', 1282],\n",
       " 'Varennes-sur-Loire': ['TALLUAU', 476],\n",
       " 'Vatan': ['PEPION', 508],\n",
       " 'Vauhallan': ['LEVRAT', 240],\n",
       " 'Vauvert': ['MEIZONNET', 407],\n",
       " 'Vendays-Montalivet': ['BOURNEL', 568],\n",
       " 'Vernet-les-Bains': ['JALIBERT', 444],\n",
       " 'Vert-le-Grand': ['QUINTARD', 597],\n",
       " 'Vigy': ['VANZELLA', 460],\n",
       " 'Villeneuve-lès-Maguelone': ['SEGURA', 569],\n",
       " 'Vittel': ['GODEY', 327],\n",
       " 'Viviers': ['MAULAVÉ', 350],\n",
       " 'Voh': ['WACALIE', 440],\n",
       " 'Warmeriville': ['MOUSEL', 598],\n",
       " 'Wignehies': ['CESAR', 802]}"
      ]
     },
     "execution_count": 80,
     "metadata": {},
     "output_type": "execute_result"
    }
   ],
   "source": [
    "maires"
   ]
  },
  {
   "cell_type": "code",
   "execution_count": 81,
   "id": "27c0227e",
   "metadata": {},
   "outputs": [
    {
     "data": {
      "text/plain": [
       "164"
      ]
     },
     "execution_count": 81,
     "metadata": {},
     "output_type": "execute_result"
    }
   ],
   "source": [
    "len(maires)"
   ]
  },
  {
   "cell_type": "code",
   "execution_count": 82,
   "id": "7d2feb50",
   "metadata": {},
   "outputs": [
    {
     "data": {
      "text/plain": [
       "674"
      ]
     },
     "execution_count": 82,
     "metadata": {},
     "output_type": "execute_result"
    }
   ],
   "source": [
    "len(res)"
   ]
  },
  {
   "cell_type": "code",
   "execution_count": null,
   "id": "d14d0647",
   "metadata": {},
   "outputs": [],
   "source": []
  }
 ],
 "metadata": {
  "kernelspec": {
   "display_name": "Python 3 (ipykernel)",
   "language": "python",
   "name": "python3"
  },
  "language_info": {
   "codemirror_mode": {
    "name": "ipython",
    "version": 3
   },
   "file_extension": ".py",
   "mimetype": "text/x-python",
   "name": "python",
   "nbconvert_exporter": "python",
   "pygments_lexer": "ipython3",
   "version": "3.9.7"
  }
 },
 "nbformat": 4,
 "nbformat_minor": 5
}
